{
 "cells": [
  {
   "cell_type": "code",
   "execution_count": 2,
   "id": "6741595c",
   "metadata": {},
   "outputs": [],
   "source": [
    "import requests\n",
    "from bs4 import BeautifulSoup\n",
    "import pandas as pd\n",
    "import numpy as np\n",
    "import time\n",
    "import locale\n",
    "locale.setlocale(locale.LC_ALL, 'en_US.UTF-8')\n",
    "import pandas as pd\n",
    "import duckdb\n",
    "from selenium import webdriver\n",
    "from sklearn.metrics import precision_score,recall_score, f1_score, roc_auc_score\n",
    "import os \n",
    "import pandas as pd\n",
    "from sklearn.linear_model import LogisticRegression\n",
    "import matplotlib.pyplot as plt\n",
    "from sklearn.model_selection import train_test_split\n",
    "from sklearn.model_selection import KFold\n",
    "import scipy.stats"
   ]
  },
  {
   "cell_type": "markdown",
   "id": "7d0dd1c2",
   "metadata": {},
   "source": [
    "# Introduction and Research Question"
   ]
  },
  {
   "cell_type": "markdown",
   "id": "7d3f86c8",
   "metadata": {},
   "source": [
    "### Setting & Significance\n",
    "\n",
    "The Washington Post has stated that up to $50 billion is spent yearly on tennis betting. Understanding what factors affect the outcome of a tennis match are crucial in these betting areas, in addition to helping tennis fans appreciate the game more. The Association of Tennis Professionals (ATP) compiles a ranking of each male tennis athlete in their league, and also computes metrics about the players skill in serving and returning. \n",
    "\n",
    "## Research Question\n",
    "\n",
    "Can we use two ATP men's tennis players overall rankings, serve ratings, and return ratings (compiled by the Association of Tennis Professionals) to predict who will win a tennis match between the two players? Specifically, can we use the relative ratings/rankings of each player (ie. rating of player 1 - rating of player 2) to determine who will win the match? Can we use this model to comment on which metrics are the best predictor of tennis performance? (i.e. Is serving more important than returning? Is overall ranking more important than specific skills? etc)\n",
    "\n",
    "We would like to train a multivariate logistic regression model on all of the 2023 ATP men's tennis match results to predict the winner and loser of a tennis match based on their respective overall rankings and serving/return ratings. \n",
    "\n",
    "Then, we would like to evaluate the reliability of this model using binary regression metrics like precision, recall, ROC/AUC, and F1. We will perform cross-validation using 8 splits and a 70/10/20 train/validation/test split to determine if our models are statistically better than randomly picking the outcome of the match using a one-sample t-test. Finally, we will also use the cross-validated binary regression metrics to determine if including the serve and return rating in the logistic regression improves the model performance relative to a model that is trained only on the difference between the overall ranking of the men's tennis players. We will use a two-sample t-test to determine this. \n",
    "\n",
    "In addition to creating a model that can predict the winner of a tennis match, we also intend to explore factors outside of rankings and ELO. Specifically in this project, we explore the effects of the type of courts that the players are playing on, and the history of performance of Spanish players vs. Non-Spanish players in 2023, and discuss the impact that these have on the outcome of the game. Doing these additional analyses help us to quantify the effect that factors outside of the ones we are considering in our primary model have on the outcome of tennis matches, which can explain why our model is not a perfect predictor of tennis match outcomes. Furthermore, these additional analyses may provide an interesting insight into the game of tennis by commenting on which countries have a more robust tennis program, and which court surfaces benefit different aspects of the game. "
   ]
  },
  {
   "cell_type": "markdown",
   "id": "7740304b",
   "metadata": {},
   "source": [
    "# Preregistration Questions\n",
    "\n",
    "### Hard vs Clay\n",
    "\n",
    "Hypothesis: Professional men's tennis players serve better on hard courts than clay courts. We believe that this would possibly be due to the fact that professional tennis players mainly practice and play on hard courts. This answer may suggest that we need to change our model to include what surface the match occurred on.\n",
    "\n",
    "Analysis: The ATP compiles server ratings for each professional player on each playing surface. We can perform a two sample t-test (alpha = 0.05) between the average server rating on hard courts and clay courts. We predict that there will be a statistically-significant difference between the men’s server ratings that indicates that the population mean server rating on hard courts is higher than on clay courts.\n",
    "\n",
    "### Spanish vs. Non-Spanish Players\n",
    "\n",
    "Hypothesis 2: Spanish players have a better chance of winning than non-Spanish players. Spain is often ranked as the best country in tennis, and Spanish tennis players routinely occupy top ATP rankings. We want to test whether this is true from our data.\n",
    "\n",
    "Analysis: We scraped the nationalities of all of the lead serve and return players and calculated the probability of every nationality winning a tennis game, using the past 860 games played in 2023. We then analyzed whether the Spanish player probability of winning was significantly higher than the average non-Spanish probability of winning. We calculated the z-score and p-value to determine whether we can reject the null hypothesis: that Spanish players do not perform better than non-Spanish players in a tennis match."
   ]
  },
  {
   "cell_type": "markdown",
   "id": "c81dfb45",
   "metadata": {},
   "source": [
    "# Data Description"
   ]
  },
  {
   "cell_type": "code",
   "execution_count": 3,
   "id": "4fd0a816",
   "metadata": {},
   "outputs": [],
   "source": [
    "overall_df = pd.read_csv('overall_df.csv')"
   ]
  },
  {
   "cell_type": "markdown",
   "id": "5e2fec82",
   "metadata": {},
   "source": [
    "### __MOTIVATION__\n",
    "\n",
    "__Why was this dataset created?__\n",
    "\n",
    "This dataset was created to create a model that is able to accurately predict the probability that one player will win against another player given data from matches played in 2023. These players are the top 80 players. \n",
    "\n",
    "__Who funded the creation of the dataset?__\n",
    "\n",
    "Association of Tennis Professionals (ATP). This is the official and primary tennis association for all professional games and matches, and as such has the most and most accurate data out of any other website or association. We did not verify the methods in which they calculated the values of rankings of everything. We are assuming that the formulas that the ATP uses to take data and output rankings and ratings accurately measure the real skill of these players. \n",
    "\n",
    "The specific pages that were taken from ATP are listed as follows: \n",
    "- https://www.atptour.com/en/rankings/singles\n",
    "- https://www.atptour.com/en/stats/leaderboard?boardType=serve&timeFrame=52Week&surface=all&versusRank=all&formerNo1=false\n",
    "- https://www.atptour.com/en/stats/leaderboard?boardType=return&timeFrame=52Week&surface=all&versusRank=all&formerNo1=false.\n",
    "\n",
    "In addition, information from the specific matches that have taken place in 2023 were found from (https://github.com/JeffSackmann/tennis_atp/blob/master/atp_matches_2023.csv). The source, Jeff Sackman, is experienced in sports statistics, having written and analyzed tennis for many big organizations including the Wall Street Journal and ESPN. In addition, the information contained are completely objective and are not the result of calculations or models, such as when the match took place and the ages of the players."
   ]
  },
  {
   "cell_type": "markdown",
   "id": "56b1571a",
   "metadata": {},
   "source": [
    "### __COMPOSITION__\n",
    "\n",
    "__What do the instances that comprise the dataset represent?__\n",
    "\n",
    "The instances that comprise the dataset represent one match between two professional tennis players in the year 2023. \n",
    "\n",
    "__Are there any errors, sources of noise, or redundancies in the dataset?__\n",
    "\n",
    "There are many more factors that affect the probability and outcome of a tennis match, from the surface, to the time of year and day, to the current physical and mental health of each player, age, differing strengths and weaknesses of specific players, and more. We are just focusing on some of the larger factors\n",
    "\n",
    "__Is the dataset self-contained, or does it link to or otherwise rely on external resources?__\n",
    "\n",
    "The dataset was taken from multiple sources listed above and merged together, this model is only accurate currently as the data used will constantly be changed as rankings and ratings of players change\n",
    "\n",
    "__What are the observations (rows) and the attributes (columns)?__\n",
    "\n",
    "Columns:\n",
    "\n",
    "- winner_name: The name of the winner of the match\n",
    "- loser_name: The name of the loser of the math\n",
    "- winner_rank: The current rating/ELO of the winner\n",
    "- loser_rank: The current rating/ELO of the loser\n",
    "- winner_serve_rating: The current rating/ELO for the serve of the winner\n",
    "- loser winner_serve_rating: The current rating/ELO for the serve of the loser\n",
    "- winner_return_rating: The current rating/ELO for the return of the winner\n",
    "- loser_return_rating: The current rating/ELO for the return of the loser\n",
    "    \n",
    "Rows: \n",
    "\n",
    "- Every professional match that has taken place in 2023"
   ]
  },
  {
   "cell_type": "markdown",
   "id": "47896750",
   "metadata": {},
   "source": [
    "### __COLLECTION PROCESS__\n",
    "\n",
    "__What processes might have influenced what data was observed and recorded and what was not?__\n",
    "\n",
    "The ATP website only contains data for a limited number of players, up to 80, which is different for both the serve and return leaders. This means that the overall dataset only contains players that are found in not only the matches in 2023 but also in the serve leaders along with the return leaders. More player stats weren't able to be collected from ATP as it wasn't shown.\n",
    "\n",
    "__Over what time frame was the data collected?__\n",
    "\n",
    "Data for the players were only collected from 2023\n",
    "\n",
    "__How was the data associated with each instance acquired?__\n",
    "\n",
    "The overall, serve, and return ELO's of the players were collected from the ATP website. The matches of 2023 were collected from Jeff Sackman's github.\n",
    "\n",
    "__What preprocessing was done, and how did the data come to be in the form that you are using?__\n",
    "\n",
    "The ATP data all came in multiple tables, which needed to be webscraped, and cleaning and put together. The data from Jeff Sackman's github came as a downloadable csv, from which specific columns were taken from"
   ]
  },
  {
   "cell_type": "markdown",
   "id": "fc010d04",
   "metadata": {},
   "source": [
    "# Data Limitations"
   ]
  },
  {
   "cell_type": "markdown",
   "id": "483628da",
   "metadata": {},
   "source": [
    "The data that we are considering has several limitations. \n",
    "## Limitations of metrics that we collected\n",
    "- We are using single-number summary statistics generated by the ATP that, broadly speaking, are supposed to assess how \"good\" a player is overall, at serving specifically, and at returning. We do not know, as it is proprietary, how the ATP is taking \"lower level\" statistics about a tennis player's performance and turning them into these rankings. If the \"magic formula\" that ATP uses to rank players and rate them on their serving and return abilities is flawed, that will mean that we are not using reliable or valuable information about their serving ability to predict the winner of a match, which may harm our model. Furthermore, there is an intrinsic assumption that is being made with these metrics that you can boil down all of the important factors about a particular tennis player's serve into one number. \n",
    "- The rankings and ratings that we downloaded from the internet are extremely current. When the matches occurred, it is possible that one or both of the player's ratings or rankings had significantly changed in the intervening time between the date of the match and when we downloaded the rankings. Because we are considering current rankings and only training the model on matches that occurred in the calendar year 2023, we do not expect that the rankings will have substantially moved.\n",
    "- The available rankings on the internet are only compiled for the top 80-100 tennis players (depending on the metric) in the ATP. Some of those tennis players have been in the professional circuit for multiple decades and reams of data exist about them on the internet. For some high profile players, like Novak Djokovic, we can trust that the rankings and ratings compiled by ATP are likely to be very reliable because there is a lot of data about those players. However, for some newer players or younger players who may have recently exploded onto the professional tennis circuit, their ratings and rankings may be skewed by insufficient data - perhaps they have over or underperformed relative to their potential in their existing matches, or perhaps the ratings and rankings are biased against newer players by factoring in \"cumulative\" achievements (like total matches won) into the ranking. \n",
    "## Limitations of predictions made from the metrics that we collected (and didn't collect)\n",
    "- In our data cleaning step, we repeatedly filter out matches where we do not have data for both players in the match by doing inner joins on data bases on the names of individual tennis players. If the names are spelled slightly differently - perhaps a typo in the dataset, or perhaps a player has a non-traditional last name with a hyphen or an accent, we may end up removing, systematically and for no good reason, data from our dataset corresponding to matches where players appeared with difficult to spell names.  \n",
    "- We are neglecting a large number of factors that have been proven to affect the outcome of a tennis match and the performance of specific tennis professionals. For example, certain players are expected to perform better on certain surfaces, like clay, relative to others, like grass. Our metrics do not take into account how the surface may affect a tennis player's probability to win a match. If one player is rated better on clay than another player, but worse on grass than another player, our model may make an erroneous prediction depending on which surface the match occured on.\n",
    "- Our model is missing an interaction term between two players. As any serious tennis player can tell you (we think - none of us are actually serious tennis players), the complicated dynamics in a tennis match can't be boiled down to how \"good\" a tennis player is relative to his opponent. Some players may play better against players that are ranked far better than them because their specific cocktail of skills (not to mention psychological factors that are far too complicated to be modeled) as well as incidental circumstances on a given day like weather and how much sleep the athlete's got, may lead to an upset that we have no means of predicting from the data that we have. \n",
    "## Implications of Data Limitations\n",
    "- Implications of data limitations on people: since this model is only being compiled privately and for an academic audience, we know that our model does not have many implications for people in the \"real world\". However, if we were selling our model to bettors (who may be deciding what lines to bet) or sports gambling firms (who may be deciding how to set a betting line), the limitations that we have discussed would likely make our model unreliable in predicting the outcomes of matches and we may cause our clients to lose money or embarrass themselves."
   ]
  },
  {
   "cell_type": "markdown",
   "id": "0a337087",
   "metadata": {},
   "source": [
    "# Data Analysis"
   ]
  },
  {
   "cell_type": "markdown",
   "id": "6120ab20",
   "metadata": {},
   "source": [
    "First, we will read in the overall data frame from above. We will drop the vestigial index column. Since we are planning to do regressions not on the ratings/rankings for each player themselves but on the difference between the rankings of the two players, we will make 3 columns corresponding to the difference between the overall rank, the server rating, and the return rating between the two players."
   ]
  },
  {
   "cell_type": "code",
   "execution_count": 4,
   "id": "3c7d6bc6",
   "metadata": {},
   "outputs": [],
   "source": [
    "overall_df = pd.read_csv('overall_df.csv')\n",
    "overall_df = overall_df.drop(['Unnamed: 0'], axis=1)\n",
    "overall_df['rank_diff'] = overall_df.winner_rank - overall_df.loser_rank\n",
    "overall_df['serve_diff'] = overall_df.winner_serve_rating - overall_df.loser_serve_rating\n",
    "overall_df['return_diff'] = overall_df.winner_return_rating - overall_df.loser_return_rating"
   ]
  },
  {
   "cell_type": "markdown",
   "id": "46ba4c86",
   "metadata": {},
   "source": [
    "Next, we will make an np array of our inputs, X, formatted in \"list of list\" form for the purpose of doing a regression on the array. We will also make an np array for our outputs, which are all one (meaning that the ratings are calculated as Player A rating - Player B rating, where Player A is always the winner in our table). We will do a 70/10/20 train/val/test split, with cross-validation of 8 splits. We then plot the outcome of the 800+ matches in our dataset vs the differential ratings and rankings of players in those matches."
   ]
  },
  {
   "cell_type": "code",
   "execution_count": 5,
   "id": "43612a32",
   "metadata": {},
   "outputs": [
    {
     "data": {
      "text/plain": [
       "<matplotlib.collections.PathCollection at 0x7fdc991c68e0>"
      ]
     },
     "execution_count": 5,
     "metadata": {},
     "output_type": "execute_result"
    },
    {
     "data": {
      "image/png": "[encoded data removed]",
      "text/plain": [
       "<Figure size 640x480 with 1 Axes>"
      ]
     },
     "metadata": {},
     "output_type": "display_data"
    },
    {
     "data": {
      "image/png": "[encoded data removed]",
      "text/plain": [
       "<Figure size 640x480 with 1 Axes>"
      ]
     },
     "metadata": {},
     "output_type": "display_data"
    },
    {
     "data": {
      "image/png": "[encoded data removed]",
      "text/plain": [
       "<Figure size 640x480 with 1 Axes>"
      ]
     },
     "metadata": {},
     "output_type": "display_data"
    }
   ],
   "source": [
    "X = np.array(overall_df[['rank_diff', 'serve_diff', 'return_diff']])\n",
    "y = np.ones((len(X),1))\n",
    "y = y.flatten()\n",
    "\n",
    "\n",
    "for i in range(0, len(X), 2):\n",
    "  X[i] = X[i]*-1\n",
    "  y[i] = 0\n",
    "    \n",
    "#split data into 70/10/20 train/validate/test cross-validation splits\n",
    "num_splits = 8\n",
    "X_train, X_test, y_train, y_test = train_test_split(X, y, test_size = 0.2)\n",
    "kf = KFold(n_splits = num_splits)\n",
    "X_train_splits = []\n",
    "y_train_splits = []\n",
    "X_train_splits = []\n",
    "X_val_splits = []\n",
    "y_val_splits = []\n",
    "\n",
    "#assign split data into train and validation bins\n",
    "for train, val in kf.split(X_train):\n",
    "    X_train_splits.append(X_train[train])\n",
    "    y_train_splits.append(y_train[train])\n",
    "    X_val_splits.append(X_train[val])\n",
    "    y_val_splits.append(y_train[val])\n",
    "\n",
    "\n",
    "fig1 = plt.figure('Ranking Difference')\n",
    "plt.title('Rank Difference')\n",
    "plt.scatter(X[:,0],y)\n",
    "fig2 = plt.figure('Serve Difference')\n",
    "plt.title('Serve Difference')\n",
    "plt.scatter(X[:,1],y)\n",
    "fig3 = plt.figure('Return Difference')\n",
    "plt.title('Return Difference')\n",
    "plt.scatter(X[:,2],y)"
   ]
  },
  {
   "cell_type": "markdown",
   "id": "8ea32778",
   "metadata": {},
   "source": [
    "To begin, we will fit a logistic model with the difference in the two tennis player's rankings as the input and the winner of the match between the two players as the output. The red curve is the modeled probability of player A winning the match based on the differential in ranking Player A - Player B. The blue data are the outcomes of the 800+ matches between players we have data on from the 2023 calendar year."
   ]
  },
  {
   "cell_type": "markdown",
   "id": "2dd947ce",
   "metadata": {},
   "source": [
    "## Predicting Winners from Overall Rankings Alone"
   ]
  },
  {
   "cell_type": "markdown",
   "id": "b1f78c0d",
   "metadata": {},
   "source": [
    "In the below cell, we fit a logistic regression to the difference between the overall atp rankings for two men's tennis athletes and the outcome of the match for each of the 8 cross-validation splits. We then plot the model for the eighth cross-validation split for the purpose of visualization."
   ]
  },
  {
   "cell_type": "code",
   "execution_count": 39,
   "id": "d45fe172",
   "metadata": {},
   "outputs": [
    {
     "data": {
      "text/plain": [
       "Text(0, 0.5, 'Probability of Victory')"
      ]
     },
     "execution_count": 39,
     "metadata": {},
     "output_type": "execute_result"
    },
    {
     "data": {
      "image/png": "[encoded data removed]",
      "text/plain": [
       "<Figure size 640x480 with 1 Axes>"
      ]
     },
     "metadata": {},
     "output_type": "display_data"
    }
   ],
   "source": [
    "rank_model_splits = []\n",
    "\n",
    "# fit model to each of the 8 train splits\n",
    "for i in range(num_splits):\n",
    "    rank_X =  np.array([[x] for x in X_train_splits[i][:, 0]])\n",
    "    rank_model_splits.append(LogisticRegression().fit(rank_X, y_train_splits[i]))\n",
    "\n",
    "\n",
    "fig1 = plt.figure('Overall Ranking Difference Model')\n",
    "plt.title('Overall Ranking Difference Model')\n",
    "plt.scatter(X_train_splits[num_splits-1][:,0],y_train_splits[num_splits-1], label = \"match_data\")\n",
    "fit_x = np.linspace(np.min(X_train_splits[num_splits-1][:,0].flatten()), np.max(X_train_splits[num_splits-1][:,0].flatten()), 1000)\n",
    "fit_x = [[x] for x in fit_x]\n",
    "plt.plot(fit_x, rank_model_splits[num_splits-1].predict_proba(fit_x)[:, 1], color = \"red\", label = \"model fit\")\n",
    "plt.xlabel(\"Ranking difference\")\n",
    "plt.ylabel(\"Probability of Victory\")"
   ]
  },
  {
   "cell_type": "markdown",
   "id": "0ba8a04d",
   "metadata": {},
   "source": [
    "In the below cell, for each train split, we are iterating through every threshold between 1 and 100 and calculating binary statistics on the resulting yhats to determine the performance of the model and the optimal place to set the threshold to maximize the reliability of our model's prediction of the outcome of a tennis match. \n",
    "\n",
    "Specifically, in the below data, I am calculating the precision and recall with each threshold, and also calculating the rocauc score for each threshold. "
   ]
  },
  {
   "cell_type": "code",
   "execution_count": 40,
   "id": "23c89b9c",
   "metadata": {
    "scrolled": true
   },
   "outputs": [
    {
     "name": "stderr",
     "output_type": "stream",
     "text": [
      "/Users/colinmurphy/opt/anaconda3/envs/info2950/lib/python3.9/site-packages/sklearn/metrics/_classification.py:1469: UndefinedMetricWarning: Precision is ill-defined and being set to 0.0 due to no predicted samples. Use `zero_division` parameter to control this behavior.\n",
      "  _warn_prf(average, modifier, msg_start, len(result))\n",
      "/Users/colinmurphy/opt/anaconda3/envs/info2950/lib/python3.9/site-packages/sklearn/metrics/_classification.py:1469: UndefinedMetricWarning: Precision is ill-defined and being set to 0.0 due to no predicted samples. Use `zero_division` parameter to control this behavior.\n",
      "  _warn_prf(average, modifier, msg_start, len(result))\n",
      "/Users/colinmurphy/opt/anaconda3/envs/info2950/lib/python3.9/site-packages/sklearn/metrics/_classification.py:1469: UndefinedMetricWarning: Precision is ill-defined and being set to 0.0 due to no predicted samples. Use `zero_division` parameter to control this behavior.\n",
      "  _warn_prf(average, modifier, msg_start, len(result))\n",
      "/Users/colinmurphy/opt/anaconda3/envs/info2950/lib/python3.9/site-packages/sklearn/metrics/_classification.py:1469: UndefinedMetricWarning: Precision is ill-defined and being set to 0.0 due to no predicted samples. Use `zero_division` parameter to control this behavior.\n",
      "  _warn_prf(average, modifier, msg_start, len(result))\n",
      "/Users/colinmurphy/opt/anaconda3/envs/info2950/lib/python3.9/site-packages/sklearn/metrics/_classification.py:1469: UndefinedMetricWarning: Precision is ill-defined and being set to 0.0 due to no predicted samples. Use `zero_division` parameter to control this behavior.\n",
      "  _warn_prf(average, modifier, msg_start, len(result))\n",
      "/Users/colinmurphy/opt/anaconda3/envs/info2950/lib/python3.9/site-packages/sklearn/metrics/_classification.py:1469: UndefinedMetricWarning: Precision is ill-defined and being set to 0.0 due to no predicted samples. Use `zero_division` parameter to control this behavior.\n",
      "  _warn_prf(average, modifier, msg_start, len(result))\n",
      "/Users/colinmurphy/opt/anaconda3/envs/info2950/lib/python3.9/site-packages/sklearn/metrics/_classification.py:1469: UndefinedMetricWarning: Precision is ill-defined and being set to 0.0 due to no predicted samples. Use `zero_division` parameter to control this behavior.\n",
      "  _warn_prf(average, modifier, msg_start, len(result))\n",
      "/Users/colinmurphy/opt/anaconda3/envs/info2950/lib/python3.9/site-packages/sklearn/metrics/_classification.py:1469: UndefinedMetricWarning: Precision is ill-defined and being set to 0.0 due to no predicted samples. Use `zero_division` parameter to control this behavior.\n",
      "  _warn_prf(average, modifier, msg_start, len(result))\n",
      "/Users/colinmurphy/opt/anaconda3/envs/info2950/lib/python3.9/site-packages/sklearn/metrics/_classification.py:1469: UndefinedMetricWarning: Precision is ill-defined and being set to 0.0 due to no predicted samples. Use `zero_division` parameter to control this behavior.\n",
      "  _warn_prf(average, modifier, msg_start, len(result))\n",
      "/Users/colinmurphy/opt/anaconda3/envs/info2950/lib/python3.9/site-packages/sklearn/metrics/_classification.py:1469: UndefinedMetricWarning: Precision is ill-defined and being set to 0.0 due to no predicted samples. Use `zero_division` parameter to control this behavior.\n",
      "  _warn_prf(average, modifier, msg_start, len(result))\n",
      "/Users/colinmurphy/opt/anaconda3/envs/info2950/lib/python3.9/site-packages/sklearn/metrics/_classification.py:1469: UndefinedMetricWarning: Precision is ill-defined and being set to 0.0 due to no predicted samples. Use `zero_division` parameter to control this behavior.\n",
      "  _warn_prf(average, modifier, msg_start, len(result))\n",
      "/Users/colinmurphy/opt/anaconda3/envs/info2950/lib/python3.9/site-packages/sklearn/metrics/_classification.py:1469: UndefinedMetricWarning: Precision is ill-defined and being set to 0.0 due to no predicted samples. Use `zero_division` parameter to control this behavior.\n",
      "  _warn_prf(average, modifier, msg_start, len(result))\n",
      "/Users/colinmurphy/opt/anaconda3/envs/info2950/lib/python3.9/site-packages/sklearn/metrics/_classification.py:1469: UndefinedMetricWarning: Precision is ill-defined and being set to 0.0 due to no predicted samples. Use `zero_division` parameter to control this behavior.\n",
      "  _warn_prf(average, modifier, msg_start, len(result))\n",
      "/Users/colinmurphy/opt/anaconda3/envs/info2950/lib/python3.9/site-packages/sklearn/metrics/_classification.py:1469: UndefinedMetricWarning: Precision is ill-defined and being set to 0.0 due to no predicted samples. Use `zero_division` parameter to control this behavior.\n",
      "  _warn_prf(average, modifier, msg_start, len(result))\n",
      "/Users/colinmurphy/opt/anaconda3/envs/info2950/lib/python3.9/site-packages/sklearn/metrics/_classification.py:1469: UndefinedMetricWarning: Precision is ill-defined and being set to 0.0 due to no predicted samples. Use `zero_division` parameter to control this behavior.\n",
      "  _warn_prf(average, modifier, msg_start, len(result))\n",
      "/Users/colinmurphy/opt/anaconda3/envs/info2950/lib/python3.9/site-packages/sklearn/metrics/_classification.py:1469: UndefinedMetricWarning: Precision is ill-defined and being set to 0.0 due to no predicted samples. Use `zero_division` parameter to control this behavior.\n",
      "  _warn_prf(average, modifier, msg_start, len(result))\n",
      "/Users/colinmurphy/opt/anaconda3/envs/info2950/lib/python3.9/site-packages/sklearn/metrics/_classification.py:1469: UndefinedMetricWarning: Precision is ill-defined and being set to 0.0 due to no predicted samples. Use `zero_division` parameter to control this behavior.\n",
      "  _warn_prf(average, modifier, msg_start, len(result))\n",
      "/Users/colinmurphy/opt/anaconda3/envs/info2950/lib/python3.9/site-packages/sklearn/metrics/_classification.py:1469: UndefinedMetricWarning: Precision is ill-defined and being set to 0.0 due to no predicted samples. Use `zero_division` parameter to control this behavior.\n",
      "  _warn_prf(average, modifier, msg_start, len(result))\n",
      "/Users/colinmurphy/opt/anaconda3/envs/info2950/lib/python3.9/site-packages/sklearn/metrics/_classification.py:1469: UndefinedMetricWarning: Precision is ill-defined and being set to 0.0 due to no predicted samples. Use `zero_division` parameter to control this behavior.\n",
      "  _warn_prf(average, modifier, msg_start, len(result))\n",
      "/Users/colinmurphy/opt/anaconda3/envs/info2950/lib/python3.9/site-packages/sklearn/metrics/_classification.py:1469: UndefinedMetricWarning: Precision is ill-defined and being set to 0.0 due to no predicted samples. Use `zero_division` parameter to control this behavior.\n",
      "  _warn_prf(average, modifier, msg_start, len(result))\n",
      "/Users/colinmurphy/opt/anaconda3/envs/info2950/lib/python3.9/site-packages/sklearn/metrics/_classification.py:1469: UndefinedMetricWarning: Precision is ill-defined and being set to 0.0 due to no predicted samples. Use `zero_division` parameter to control this behavior.\n",
      "  _warn_prf(average, modifier, msg_start, len(result))\n",
      "/Users/colinmurphy/opt/anaconda3/envs/info2950/lib/python3.9/site-packages/sklearn/metrics/_classification.py:1469: UndefinedMetricWarning: Precision is ill-defined and being set to 0.0 due to no predicted samples. Use `zero_division` parameter to control this behavior.\n",
      "  _warn_prf(average, modifier, msg_start, len(result))\n",
      "/Users/colinmurphy/opt/anaconda3/envs/info2950/lib/python3.9/site-packages/sklearn/metrics/_classification.py:1469: UndefinedMetricWarning: Precision is ill-defined and being set to 0.0 due to no predicted samples. Use `zero_division` parameter to control this behavior.\n",
      "  _warn_prf(average, modifier, msg_start, len(result))\n",
      "/Users/colinmurphy/opt/anaconda3/envs/info2950/lib/python3.9/site-packages/sklearn/metrics/_classification.py:1469: UndefinedMetricWarning: Precision is ill-defined and being set to 0.0 due to no predicted samples. Use `zero_division` parameter to control this behavior.\n",
      "  _warn_prf(average, modifier, msg_start, len(result))\n",
      "/Users/colinmurphy/opt/anaconda3/envs/info2950/lib/python3.9/site-packages/sklearn/metrics/_classification.py:1469: UndefinedMetricWarning: Precision is ill-defined and being set to 0.0 due to no predicted samples. Use `zero_division` parameter to control this behavior.\n",
      "  _warn_prf(average, modifier, msg_start, len(result))\n",
      "/Users/colinmurphy/opt/anaconda3/envs/info2950/lib/python3.9/site-packages/sklearn/metrics/_classification.py:1469: UndefinedMetricWarning: Precision is ill-defined and being set to 0.0 due to no predicted samples. Use `zero_division` parameter to control this behavior.\n",
      "  _warn_prf(average, modifier, msg_start, len(result))\n"
     ]
    }
   ],
   "source": [
    "thresholds = np.linspace(0, 1.0, 100)\n",
    "\n",
    "precisions_splits_train = []\n",
    "recalls_splits_train = []\n",
    "f1s_splits_train = []\n",
    "rocaucs_splits_train = []\n",
    "\n",
    "for i in range(num_splits):\n",
    "    precisions = []\n",
    "    recalls = []\n",
    "    f1s = []\n",
    "    rocaucs = []\n",
    "    for threshold in thresholds:\n",
    "        yhat = []\n",
    "        for x in np.array([[x] for x in X_train_splits[i][:, 0]]).flatten():\n",
    "            if rank_model_splits[i].predict_proba([[x]])[0, 1] >= threshold:\n",
    "                yhat.append(1)\n",
    "            if rank_model_splits[i].predict_proba([[x]])[0, 1] < threshold:\n",
    "                yhat.append(0)\n",
    "        precisions.append(precision_score(y_train_splits[i], yhat))\n",
    "        recalls.append(recall_score(y_train_splits[i], yhat))\n",
    "        f1s.append(f1_score(y_train_splits[i], yhat))\n",
    "        rocaucs.append(roc_auc_score(y_train_splits[i], yhat))\n",
    "    precisions = np.array(precisions)\n",
    "    recalls = np.array(recalls)\n",
    "    precisions_splits_train.append(precisions)\n",
    "    recalls_splits_train.append(recalls)\n",
    "    f1s_splits_train.append(f1s)\n",
    "    rocaucs_splits_train.append(rocaucs)\n",
    "    "
   ]
  },
  {
   "cell_type": "markdown",
   "id": "aed8c56e",
   "metadata": {},
   "source": [
    "Below, we are plotting the precision and recall from the eigth train split. For the eigth train split, we are using the f1 score to determine the optimal threshold. The optimal threshold from the f1 score is printed below."
   ]
  },
  {
   "cell_type": "code",
   "execution_count": 41,
   "id": "60f3ada4",
   "metadata": {},
   "outputs": [
    {
     "name": "stdout",
     "output_type": "stream",
     "text": [
      "threshold\n",
      "[0.44444444]\n"
     ]
    },
    {
     "data": {
      "image/png": "[encoded data removed]",
      "text/plain": [
       "<Figure size 640x480 with 1 Axes>"
      ]
     },
     "metadata": {},
     "output_type": "display_data"
    }
   ],
   "source": [
    "plt.figure()\n",
    "plt.plot(recalls[np.where(recalls != 0)], precisions[:-1][np.where(recalls != 0)],  marker = \".\")\n",
    "max_index = np.where(f1s == np.max(f1s))\n",
    "\n",
    "plt.scatter(recalls[max_index], precisions[max_index], color = \"red\", marker = \"o\", s = 100)\n",
    "plt.xlabel(\"Recall\")\n",
    "plt.ylabel(\"Precisions\")\n",
    "plt.title(\"Rankings Model\")\n",
    "print('threshold')\n",
    "print(thresholds[max_index])"
   ]
  },
  {
   "cell_type": "markdown",
   "id": "4c422269",
   "metadata": {},
   "source": [
    "From the above plot, it is clear that the optimization process is essentially optimizing recall at the expense of making precision very close to 0.5, which effectively means that this statistic is prioritizing minimizing false negatives at the expense of tolerating more false positives. At this point on the precision recall curve, the precision is not substantially better than random (corresponding to precision = 0.5). If we were to set the threshold where this model suggests, a little less than half of the players we predict to win the match would actually lose the match. "
   ]
  },
  {
   "cell_type": "markdown",
   "id": "6244c31f",
   "metadata": {},
   "source": [
    "Instead, we will use ROC-AUC to determine the optimum threshold for our model. In the below plot, we are plotting the rocauc score for the eigth train split. We will calculate the optimal threshold for each train split to determine the optimal threshold for each split. Finally, we will calculate the optimal roc-auc score for each train split, and then find the average and standard deviation in roc-auc score across the splits. This average and stardard deviation will tell us the predictive power of our model on the train set."
   ]
  },
  {
   "cell_type": "code",
   "execution_count": 42,
   "id": "63c562a1",
   "metadata": {},
   "outputs": [
    {
     "name": "stdout",
     "output_type": "stream",
     "text": [
      "optimal_treshold: 0.499 +/- 0.005\n",
      "auc roc score for test set: 0.675 +/- 0.005\n"
     ]
    },
    {
     "data": {
      "image/png": "[encoded data removed]",
      "text/plain": [
       "<Figure size 640x480 with 1 Axes>"
      ]
     },
     "metadata": {},
     "output_type": "display_data"
    }
   ],
   "source": [
    "optimal_treshold_splits = []\n",
    "optimal_roc_aucs_train = []\n",
    "for i in range(num_splits):\n",
    "    max_index = np.where(rocaucs_splits_train[i] == np.max(rocaucs_splits_train[i]))\n",
    "    optimal_treshold_splits.append(thresholds[max_index])\n",
    "    optimal_roc_aucs_train.append(rocaucs_splits_train[i][max_index[0][0]])\n",
    "plt.figure()\n",
    "plt.scatter(thresholds, rocaucs)\n",
    "plt.xlabel(\"Threshold\")\n",
    "plt.ylabel(\"AUC ROC Score\")\n",
    "plt.title(\"Rankings Model\")\n",
    "print(\"optimal_treshold: %.3f +/- %.3f\" %(np.mean(optimal_treshold_splits), np.std(optimal_treshold_splits)))\n",
    "print(\"auc roc score for test set: %.3f +/- %.3f\" % (np.mean(optimal_roc_aucs_train), np.std(optimal_roc_aucs_train)))"
   ]
  },
  {
   "cell_type": "markdown",
   "id": "46d5d63a",
   "metadata": {},
   "source": [
    "### Discussion of Significance"
   ]
  },
  {
   "cell_type": "markdown",
   "id": "0a028cb1",
   "metadata": {},
   "source": [
    "From above, we found that the optimal threshold occurs at 0.495 +/- 0.005, with a maximum auc roc score of 0.680 +/- 0.009. An auc roc score of 0.5 corresponds to essentially random classification, and an auc roc score of 1 is a perfect classifier. So this model seems to suggest that our model, when evaluated on the train set, is actually predictive, but is closer to randomness than to perfect classification. Also, a threshold value of around 0.5 stands to reason, since we expect that the player with the higher ranking should almost certainly have an advantage. We will accept that our model is better than randomly guessing if we achieve a p-value of below 5%.\n",
    "\n",
    "First, we must assess if the optimal roc-aucs on the train set are normally distributed. To do that, we will use the normaltest function from scipy. The null hypothesis is that the distribution is normal.  "
   ]
  },
  {
   "cell_type": "code",
   "execution_count": 43,
   "id": "9dc3a116",
   "metadata": {},
   "outputs": [
    {
     "name": "stdout",
     "output_type": "stream",
     "text": [
      "pvalue = 0.822\n"
     ]
    },
    {
     "name": "stderr",
     "output_type": "stream",
     "text": [
      "/Users/colinmurphy/opt/anaconda3/envs/info2950/lib/python3.9/site-packages/scipy/stats/_stats_py.py:1806: UserWarning: kurtosistest only valid for n>=20 ... continuing anyway, n=8\n",
      "  warnings.warn(\"kurtosistest only valid for n>=20 ... continuing \"\n"
     ]
    }
   ],
   "source": [
    "test = scipy.stats.normaltest(optimal_roc_aucs_train)\n",
    "print('pvalue = ' + str(round(test.pvalue,3)))"
   ]
  },
  {
   "cell_type": "markdown",
   "id": "7669e89a",
   "metadata": {},
   "source": [
    "With a p-value far in excess of 0.05, we can conclude that the distribution is normal. We can now perform a one-sided one sample t-test on our rocauc score to check whether it is distinguishably larger than 0.5 (randomly guessing the outcome of a match. "
   ]
  },
  {
   "cell_type": "code",
   "execution_count": 41,
   "id": "e41692fe",
   "metadata": {},
   "outputs": [
    {
     "name": "stdout",
     "output_type": "stream",
     "text": [
      "From the test data, there is a 0.00000000011 probability that the true roc-auc score of the model is less than or equal to 0.5.\n"
     ]
    }
   ],
   "source": [
    "t_stat, p_value = scipy.stats.ttest_1samp(optimal_roc_aucs_train, .50, alternative = 'greater')\n",
    "print(\"From the test data, there is a %.11f probability that the true roc-auc score of the model is less than or equal to 0.5.\" %p_value)"
   ]
  },
  {
   "cell_type": "markdown",
   "id": "6bc995d3",
   "metadata": {},
   "source": [
    "Therefore, our model is distinguishable from randomly picking winners of matches, when evaluated on the train set, at the 5% level."
   ]
  },
  {
   "cell_type": "markdown",
   "id": "c4825055",
   "metadata": {},
   "source": [
    "Next, we will test the model on the validation sets using essentially the same procedure but fixing the threshold based on the optimal value that we found on the train set."
   ]
  },
  {
   "cell_type": "code",
   "execution_count": 16,
   "id": "4faed3f6",
   "metadata": {},
   "outputs": [],
   "source": [
    "thresholds = np.linspace(0, 1.0, 100)\n",
    "\n",
    "precisions_splits_val = []\n",
    "recalls_splits_val = []\n",
    "f1s_splits_val = []\n",
    "rocaucs_splits_val = []\n",
    "\n",
    "for i in range(num_splits):\n",
    "    threshold = optimal_treshold_splits[i]\n",
    "    yhat = []\n",
    "    for x in np.array([[x] for x in X_val_splits[i][:, 0]]).flatten():\n",
    "        if rank_model_splits[i].predict_proba([[x]])[0, 1] >= threshold:\n",
    "            yhat.append(1)\n",
    "        if rank_model_splits[i].predict_proba([[x]])[0, 1] < threshold:\n",
    "            yhat.append(0)\n",
    "    precisions_splits_val.append(precision_score(y_val_splits[i], yhat))\n",
    "    recalls_splits_val.append(recall_score(y_val_splits[i], yhat))\n",
    "    f1s_splits_val.append(f1_score(y_val_splits[i], yhat))\n",
    "    rocaucs_splits_val.append(roc_auc_score(y_val_splits[i], yhat))\n",
    "    "
   ]
  },
  {
   "cell_type": "code",
   "execution_count": 17,
   "id": "6f0932a4",
   "metadata": {},
   "outputs": [
    {
     "name": "stdout",
     "output_type": "stream",
     "text": [
      "The ROC-AUCs score on the validation sets: 0.665 +/- 0.041\n"
     ]
    }
   ],
   "source": [
    "print(\"The ROC-AUCs score on the validation sets: %.3f +/- %.3f\" %(np.mean(rocaucs_splits_val), np.std(rocaucs_splits_val)))"
   ]
  },
  {
   "cell_type": "markdown",
   "id": "cc4c1961",
   "metadata": {},
   "source": [
    "### Discussion of Significance"
   ]
  },
  {
   "cell_type": "markdown",
   "id": "28f41e20",
   "metadata": {},
   "source": [
    "To determine if our model is statistically distinguishable from randomly guessing when tested on the validation sets, we will perform the same one-sample t test. First we will assess the normality of the optimal roc-aucs scores from the validation sets. "
   ]
  },
  {
   "cell_type": "code",
   "execution_count": 18,
   "id": "95136005",
   "metadata": {},
   "outputs": [
    {
     "name": "stdout",
     "output_type": "stream",
     "text": [
      "pvalue = 0.657\n"
     ]
    },
    {
     "name": "stderr",
     "output_type": "stream",
     "text": [
      "/Users/colinmurphy/opt/anaconda3/envs/info2950/lib/python3.9/site-packages/scipy/stats/_stats_py.py:1806: UserWarning: kurtosistest only valid for n>=20 ... continuing anyway, n=8\n",
      "  warnings.warn(\"kurtosistest only valid for n>=20 ... continuing \"\n"
     ]
    }
   ],
   "source": [
    "test = scipy.stats.normaltest(rocaucs_splits_val)\n",
    "print('pvalue = ' + str(round(test.pvalue,3)))"
   ]
  },
  {
   "cell_type": "markdown",
   "id": "ae76ccec",
   "metadata": {},
   "source": [
    "With a p value far in excess of p = 0.05, we can conclude that the cross-validated validation roc-aucs come from a normal distribution."
   ]
  },
  {
   "cell_type": "code",
   "execution_count": 21,
   "id": "c2ae6f0b",
   "metadata": {},
   "outputs": [
    {
     "name": "stdout",
     "output_type": "stream",
     "text": [
      "From the test data, there is a 0.000007 probability that the true roc-auc score of the model is less than or equal to 0.5.\n"
     ]
    }
   ],
   "source": [
    "t_stat, p_value = scipy.stats.ttest_1samp(rocaucs_splits_val, .50, alternative = 'greater')\n",
    "print(\"From the test data, there is a %.6f probability that the true roc-auc score of the model is less than or equal to 0.5.\" %p_value)"
   ]
  },
  {
   "cell_type": "markdown",
   "id": "46b1f037",
   "metadata": {},
   "source": [
    "This score is slightly worse than the train set, but still distinguishably better than randomly guessing at the 5% level. Therefore, we can conclude that the model generalizes relatively well to the validation set, with the overall conclusions about its predictive power being the same as for the train set. Finally, we will calculate the ROC-AUC score for the test set. "
   ]
  },
  {
   "cell_type": "code",
   "execution_count": 36,
   "id": "2f6db684",
   "metadata": {},
   "outputs": [],
   "source": [
    "thresholds = np.linspace(0, 1.0, 100)\n",
    "\n",
    "precisions_splits_test = []\n",
    "recalls_splits_test = []\n",
    "f1s_splits_test = []\n",
    "rocaucs_splits_test = []\n",
    "\n",
    "for i in range(num_splits):\n",
    "    threshold = optimal_treshold_splits[i]\n",
    "    yhat = []\n",
    "    for x in np.array([[x] for x in X_test[:, 0]]).flatten():\n",
    "        if rank_model_splits[i].predict_proba([[x]])[0, 1] >= threshold:\n",
    "            yhat.append(1)\n",
    "        if rank_model_splits[i].predict_proba([[x]])[0, 1] < threshold:\n",
    "            yhat.append(0)\n",
    "    precisions_splits_test.append(precision_score(y_test, yhat))\n",
    "    recalls_splits_test.append(recall_score(y_test, yhat))\n",
    "    f1s_splits_test.append(f1_score(y_test, yhat))\n",
    "    rocaucs_splits_test.append(roc_auc_score(y_test, yhat))\n",
    "    "
   ]
  },
  {
   "cell_type": "code",
   "execution_count": 37,
   "id": "7398ccb4",
   "metadata": {},
   "outputs": [
    {
     "name": "stdout",
     "output_type": "stream",
     "text": [
      "The ROC-AUCs score on the test set: 0.715 +/- 0.0002\n"
     ]
    }
   ],
   "source": [
    "print(\"The ROC-AUCs score on the test set: %.3f +/- %.4f\" %(np.mean(rocaucs_splits_test), np.std(rocaucs_splits_test)))"
   ]
  },
  {
   "cell_type": "markdown",
   "id": "229af512",
   "metadata": {},
   "source": [
    "### Evaluation of Significance"
   ]
  },
  {
   "cell_type": "markdown",
   "id": "5a7c96ae",
   "metadata": {},
   "source": [
    "We will perform the same 1-sided, 1-sample t test to determine if the model performs better on the test set than randomly guessing winners of matches. First we will assess the normality of the rocauc scores from the test set."
   ]
  },
  {
   "cell_type": "code",
   "execution_count": 30,
   "id": "a50a086b",
   "metadata": {},
   "outputs": [
    {
     "name": "stdout",
     "output_type": "stream",
     "text": [
      "pvalue = 0.085\n"
     ]
    },
    {
     "name": "stderr",
     "output_type": "stream",
     "text": [
      "/Users/colinmurphy/opt/anaconda3/envs/info2950/lib/python3.9/site-packages/scipy/stats/_stats_py.py:1806: UserWarning: kurtosistest only valid for n>=20 ... continuing anyway, n=8\n",
      "  warnings.warn(\"kurtosistest only valid for n>=20 ... continuing \"\n"
     ]
    }
   ],
   "source": [
    "test = scipy.stats.normaltest(rocaucs_splits_test)\n",
    "print('pvalue = ' + str(round(test.pvalue,3)))"
   ]
  },
  {
   "cell_type": "markdown",
   "id": "71514fc3",
   "metadata": {},
   "source": [
    "With a p value in excess of 0.05, we can conclude that the rocaucs from the test set come from a normal distribution and can proceed with a t-test."
   ]
  },
  {
   "cell_type": "code",
   "execution_count": 33,
   "id": "7abcb571",
   "metadata": {},
   "outputs": [
    {
     "name": "stdout",
     "output_type": "stream",
     "text": [
      "From the test data, there is a 0.0000000000000000000001 probability that the true roc-auc score of the model is less than or equal to 0.5.\n"
     ]
    }
   ],
   "source": [
    "t_stat, p_value = scipy.stats.ttest_1samp(rocaucs_splits_test, .50, alternative = 'greater')\n",
    "print(\"From the test data, there is a %.22f probability that the true roc-auc score of the model is less than or equal to 0.5.\" %p_value)"
   ]
  },
  {
   "cell_type": "markdown",
   "id": "b90e0b1a",
   "metadata": {},
   "source": [
    "Finally, based on the exact same reasoning as for the train and test sets, we can claim that the model is statistically distinguishable from guessing at the 5% level. This seems to indicate that our model generalizes well to data outside of the set that it was trained on.  "
   ]
  },
  {
   "cell_type": "markdown",
   "id": "6b898f9e",
   "metadata": {},
   "source": [
    "In the below cells, I will repeat the same steps but making the predictions from server ratings and return ratings, without cross-validation, just to assess their relevance. Once their relevance has been assessed, we will include them in a model that features the overall ranking, return rating, and server rating."
   ]
  },
  {
   "cell_type": "markdown",
   "id": "e61e8a29",
   "metadata": {},
   "source": [
    "## Predicting Winners from Return Ratings"
   ]
  },
  {
   "cell_type": "markdown",
   "id": "cbaf9512",
   "metadata": {},
   "source": [
    "Below, I have plotted a linear regression to the 800+ matches in our dataset based on the return rating differential, exactly as we did in the corresponding above cell from the overall rankings."
   ]
  },
  {
   "cell_type": "code",
   "execution_count": 46,
   "id": "5f28595e",
   "metadata": {},
   "outputs": [
    {
     "data": {
      "text/plain": [
       "Text(0, 0.5, 'Probability of Victory')"
      ]
     },
     "execution_count": 46,
     "metadata": {},
     "output_type": "execute_result"
    },
    {
     "data": {
      "image/png": "[encoded data removed]",
      "text/plain": [
       "<Figure size 640x480 with 1 Axes>"
      ]
     },
     "metadata": {},
     "output_type": "display_data"
    }
   ],
   "source": [
    "return_X =  np.array([[x] for x in X[:, 2]])\n",
    "return_model = LogisticRegression().fit(return_X, y)\n",
    "fig1 = plt.figure('Return Rating Difference')\n",
    "plt.title('Return Rating Difference')\n",
    "plt.scatter(X[:,2],y, label = \"match result data\")\n",
    "fit_x = np.linspace(np.min(return_X.flatten()), np.max(return_X.flatten()), 1000)\n",
    "fit_x = [[x] for x in fit_x]\n",
    "plt.plot(fit_x, return_model.predict_proba(fit_x)[:, 1], color = \"red\", label = \"model fit\")\n",
    "plt.legend()\n",
    "plt.xlabel(\"Ranking difference\")\n",
    "plt.ylabel(\"Probability of Victory\")"
   ]
  },
  {
   "cell_type": "markdown",
   "id": "133ac268",
   "metadata": {},
   "source": [
    "In the below cell, I am calculating precision, recall, f1 score, rocauc score at thresholds spaced evenly by 1% from 0 to 1."
   ]
  },
  {
   "cell_type": "code",
   "execution_count": 81,
   "id": "30296caa",
   "metadata": {
    "scrolled": true
   },
   "outputs": [
    {
     "name": "stderr",
     "output_type": "stream",
     "text": [
      "/Users/colinmurphy/opt/anaconda3/envs/info2950/lib/python3.9/site-packages/sklearn/metrics/_classification.py:1318: UndefinedMetricWarning: Precision is ill-defined and being set to 0.0 due to no predicted samples. Use `zero_division` parameter to control this behavior.\n",
      "  _warn_prf(average, modifier, msg_start, len(result))\n",
      "/Users/colinmurphy/opt/anaconda3/envs/info2950/lib/python3.9/site-packages/sklearn/metrics/_classification.py:1318: UndefinedMetricWarning: Precision is ill-defined and being set to 0.0 due to no predicted samples. Use `zero_division` parameter to control this behavior.\n",
      "  _warn_prf(average, modifier, msg_start, len(result))\n",
      "/Users/colinmurphy/opt/anaconda3/envs/info2950/lib/python3.9/site-packages/sklearn/metrics/_classification.py:1318: UndefinedMetricWarning: Precision is ill-defined and being set to 0.0 due to no predicted samples. Use `zero_division` parameter to control this behavior.\n",
      "  _warn_prf(average, modifier, msg_start, len(result))\n",
      "/Users/colinmurphy/opt/anaconda3/envs/info2950/lib/python3.9/site-packages/sklearn/metrics/_classification.py:1318: UndefinedMetricWarning: Precision is ill-defined and being set to 0.0 due to no predicted samples. Use `zero_division` parameter to control this behavior.\n",
      "  _warn_prf(average, modifier, msg_start, len(result))\n",
      "/Users/colinmurphy/opt/anaconda3/envs/info2950/lib/python3.9/site-packages/sklearn/metrics/_classification.py:1318: UndefinedMetricWarning: Precision is ill-defined and being set to 0.0 due to no predicted samples. Use `zero_division` parameter to control this behavior.\n",
      "  _warn_prf(average, modifier, msg_start, len(result))\n",
      "/Users/colinmurphy/opt/anaconda3/envs/info2950/lib/python3.9/site-packages/sklearn/metrics/_classification.py:1318: UndefinedMetricWarning: Precision is ill-defined and being set to 0.0 due to no predicted samples. Use `zero_division` parameter to control this behavior.\n",
      "  _warn_prf(average, modifier, msg_start, len(result))\n",
      "/Users/colinmurphy/opt/anaconda3/envs/info2950/lib/python3.9/site-packages/sklearn/metrics/_classification.py:1318: UndefinedMetricWarning: Precision is ill-defined and being set to 0.0 due to no predicted samples. Use `zero_division` parameter to control this behavior.\n",
      "  _warn_prf(average, modifier, msg_start, len(result))\n",
      "/Users/colinmurphy/opt/anaconda3/envs/info2950/lib/python3.9/site-packages/sklearn/metrics/_classification.py:1318: UndefinedMetricWarning: Precision is ill-defined and being set to 0.0 due to no predicted samples. Use `zero_division` parameter to control this behavior.\n",
      "  _warn_prf(average, modifier, msg_start, len(result))\n",
      "/Users/colinmurphy/opt/anaconda3/envs/info2950/lib/python3.9/site-packages/sklearn/metrics/_classification.py:1318: UndefinedMetricWarning: Precision is ill-defined and being set to 0.0 due to no predicted samples. Use `zero_division` parameter to control this behavior.\n",
      "  _warn_prf(average, modifier, msg_start, len(result))\n",
      "/Users/colinmurphy/opt/anaconda3/envs/info2950/lib/python3.9/site-packages/sklearn/metrics/_classification.py:1318: UndefinedMetricWarning: Precision is ill-defined and being set to 0.0 due to no predicted samples. Use `zero_division` parameter to control this behavior.\n",
      "  _warn_prf(average, modifier, msg_start, len(result))\n",
      "/Users/colinmurphy/opt/anaconda3/envs/info2950/lib/python3.9/site-packages/sklearn/metrics/_classification.py:1318: UndefinedMetricWarning: Precision is ill-defined and being set to 0.0 due to no predicted samples. Use `zero_division` parameter to control this behavior.\n",
      "  _warn_prf(average, modifier, msg_start, len(result))\n",
      "/Users/colinmurphy/opt/anaconda3/envs/info2950/lib/python3.9/site-packages/sklearn/metrics/_classification.py:1318: UndefinedMetricWarning: Precision is ill-defined and being set to 0.0 due to no predicted samples. Use `zero_division` parameter to control this behavior.\n",
      "  _warn_prf(average, modifier, msg_start, len(result))\n",
      "/Users/colinmurphy/opt/anaconda3/envs/info2950/lib/python3.9/site-packages/sklearn/metrics/_classification.py:1318: UndefinedMetricWarning: Precision is ill-defined and being set to 0.0 due to no predicted samples. Use `zero_division` parameter to control this behavior.\n",
      "  _warn_prf(average, modifier, msg_start, len(result))\n",
      "/Users/colinmurphy/opt/anaconda3/envs/info2950/lib/python3.9/site-packages/sklearn/metrics/_classification.py:1318: UndefinedMetricWarning: Precision is ill-defined and being set to 0.0 due to no predicted samples. Use `zero_division` parameter to control this behavior.\n",
      "  _warn_prf(average, modifier, msg_start, len(result))\n",
      "/Users/colinmurphy/opt/anaconda3/envs/info2950/lib/python3.9/site-packages/sklearn/metrics/_classification.py:1318: UndefinedMetricWarning: Precision is ill-defined and being set to 0.0 due to no predicted samples. Use `zero_division` parameter to control this behavior.\n",
      "  _warn_prf(average, modifier, msg_start, len(result))\n",
      "/Users/colinmurphy/opt/anaconda3/envs/info2950/lib/python3.9/site-packages/sklearn/metrics/_classification.py:1318: UndefinedMetricWarning: Precision is ill-defined and being set to 0.0 due to no predicted samples. Use `zero_division` parameter to control this behavior.\n",
      "  _warn_prf(average, modifier, msg_start, len(result))\n"
     ]
    }
   ],
   "source": [
    "thresholds = np.linspace(0, 1.0, 100)\n",
    "precisions = []\n",
    "recalls = []\n",
    "f1s = []\n",
    "rocaucs = []\n",
    "for threshold in thresholds:\n",
    "    yhat = []\n",
    "    for x in return_X.flatten():\n",
    "        if return_model.predict_proba([[x]])[0, 1] >= threshold:\n",
    "            yhat.append(1)\n",
    "        if return_model.predict_proba([[x]])[0, 1] < threshold:\n",
    "            yhat.append(0)\n",
    "    precisions.append(precision_score(y, yhat))\n",
    "    recalls.append(recall_score(y, yhat))\n",
    "    f1s.append(f1_score(y, yhat))\n",
    "    rocaucs.append(roc_auc_score(y, yhat))\n",
    "precisions = np.array(precisions)\n",
    "recalls = np.array(recalls)"
   ]
  },
  {
   "cell_type": "markdown",
   "id": "42942cf8",
   "metadata": {},
   "source": [
    "Below, I am plotting the precision vs recall plot for the return rating model, exactly as in the corresponding plot for the overall rating model."
   ]
  },
  {
   "cell_type": "code",
   "execution_count": 82,
   "id": "2550a4e5",
   "metadata": {},
   "outputs": [
    {
     "name": "stdout",
     "output_type": "stream",
     "text": [
      "threshold\n",
      "[0.35353535]\n"
     ]
    },
    {
     "data": {
      "image/png": "[encoded data removed]",
      "text/plain": [
       "<Figure size 640x480 with 1 Axes>"
      ]
     },
     "metadata": {},
     "output_type": "display_data"
    }
   ],
   "source": [
    "plt.figure()\n",
    "plt.plot(recalls[np.where(recalls != 0)], precisions[:-1][np.where(recalls != 0)],  marker = \".\")\n",
    "max_index = np.where(f1s == np.max(f1s))\n",
    "\n",
    "plt.scatter(recalls[max_index], precisions[max_index], color = \"red\", marker = \"o\", s = 100)\n",
    "plt.xlabel(\"Recall\")\n",
    "plt.ylabel(\"Precisions\")\n",
    "plt.title(\"Return Rating Model\")\n",
    "print('threshold')\n",
    "print(thresholds[max_index])"
   ]
  },
  {
   "cell_type": "markdown",
   "id": "dd9a5125",
   "metadata": {},
   "source": [
    "Based on the above plot, we can conclude that a very similar trend is occuring as above - prioritizing recall, and therefore minimizing false negatives at the expense of tolerating more false positives. If we were to set the threshold based on minimization of the F1 score, a little less than half of the players we predict to win the match would actually lose the match."
   ]
  },
  {
   "cell_type": "markdown",
   "id": "e2b81aca",
   "metadata": {},
   "source": [
    "In the below plot, we plot the rocauc score curve vs the threshold from the rocauc scores calculated above and use that to obtain the optimal threshold and predictive power of our model."
   ]
  },
  {
   "cell_type": "code",
   "execution_count": 83,
   "id": "755d3812",
   "metadata": {},
   "outputs": [
    {
     "name": "stdout",
     "output_type": "stream",
     "text": [
      "threshold\n",
      "[0.50505051]\n",
      "max roc auc score\n",
      "0.6034883720930232\n"
     ]
    },
    {
     "data": {
      "image/png": "[encoded data removed]",
      "text/plain": [
       "<Figure size 640x480 with 1 Axes>"
      ]
     },
     "metadata": {},
     "output_type": "display_data"
    }
   ],
   "source": [
    "max_index = np.where(rocaucs == np.max(rocaucs))\n",
    "plt.figure()\n",
    "plt.scatter(thresholds, rocaucs)\n",
    "plt.xlabel(\"Threshold\")\n",
    "plt.ylabel(\"AUC ROC Score\")\n",
    "plt.title(\"Rankings Model\")\n",
    "print(\"threshold\")\n",
    "print(thresholds[max_index])\n",
    "print(\"max roc auc score\")\n",
    "print(rocaucs[max_index[0][0]])"
   ]
  },
  {
   "cell_type": "markdown",
   "id": "8000361d",
   "metadata": {},
   "source": [
    "Since the max rocauc score is lower for the model based on return rating rather than the cross-validated rocauc score from the overall ranking, we can tentatively say that overall ranking is a better predictor, head to head, of who will win a tennis match than return rating. That being said, the return rating will probably be worthwhile to include in the model. "
   ]
  },
  {
   "cell_type": "markdown",
   "id": "9bdb8cc8",
   "metadata": {},
   "source": [
    "## Predicting Winners from Serve Ratings"
   ]
  },
  {
   "cell_type": "markdown",
   "id": "6f6001dd",
   "metadata": {},
   "source": [
    "Below, we are fitting and plotting a 1-dimensional logistic regression to serve rating vs the outcomes of our match dataset. This procedure is almost identical to the previous two sections."
   ]
  },
  {
   "cell_type": "code",
   "execution_count": 45,
   "id": "1fdc7481",
   "metadata": {},
   "outputs": [
    {
     "data": {
      "text/plain": [
       "Text(0, 0.5, 'Probability of Victory')"
      ]
     },
     "execution_count": 45,
     "metadata": {},
     "output_type": "execute_result"
    },
    {
     "data": {
      "image/png": "[encoded data removed]",
      "text/plain": [
       "<Figure size 640x480 with 1 Axes>"
      ]
     },
     "metadata": {},
     "output_type": "display_data"
    }
   ],
   "source": [
    "serve_X =  np.array([[x] for x in X[:, 1]])\n",
    "serving_model = LogisticRegression().fit(serve_X, y)\n",
    "fig1 = plt.figure('Serve Rating Difference')\n",
    "plt.title('Serve Rating Difference')\n",
    "plt.scatter(X[:,1],y, label = \"match data\", marker = '.')\n",
    "fit_x = np.linspace(np.min(serve_X.flatten()), np.max(serve_X.flatten()), 1000)\n",
    "fit_x = [[x] for x in fit_x]\n",
    "plt.plot(fit_x, serving_model.predict_proba(fit_x)[:, 1], color = \"red\", label = \"model fit\")\n",
    "plt.legend()\n",
    "plt.xlabel(\"Ranking difference\")\n",
    "plt.ylabel(\"Probability of Victory\")"
   ]
  },
  {
   "cell_type": "markdown",
   "id": "7ae2cfa7",
   "metadata": {},
   "source": [
    "In the below block, we are calculating the same binary statistics for the same 100 thresholds as in the previous two sections using an identical procedure."
   ]
  },
  {
   "cell_type": "code",
   "execution_count": 135,
   "id": "bedf9e2f",
   "metadata": {
    "scrolled": true
   },
   "outputs": [
    {
     "name": "stderr",
     "output_type": "stream",
     "text": [
      "/Users/colinmurphy/opt/anaconda3/envs/info2950/lib/python3.9/site-packages/sklearn/metrics/_classification.py:1318: UndefinedMetricWarning: Precision is ill-defined and being set to 0.0 due to no predicted samples. Use `zero_division` parameter to control this behavior.\n",
      "  _warn_prf(average, modifier, msg_start, len(result))\n",
      "/Users/colinmurphy/opt/anaconda3/envs/info2950/lib/python3.9/site-packages/sklearn/metrics/_classification.py:1318: UndefinedMetricWarning: Precision is ill-defined and being set to 0.0 due to no predicted samples. Use `zero_division` parameter to control this behavior.\n",
      "  _warn_prf(average, modifier, msg_start, len(result))\n",
      "/Users/colinmurphy/opt/anaconda3/envs/info2950/lib/python3.9/site-packages/sklearn/metrics/_classification.py:1318: UndefinedMetricWarning: Precision is ill-defined and being set to 0.0 due to no predicted samples. Use `zero_division` parameter to control this behavior.\n",
      "  _warn_prf(average, modifier, msg_start, len(result))\n",
      "/Users/colinmurphy/opt/anaconda3/envs/info2950/lib/python3.9/site-packages/sklearn/metrics/_classification.py:1318: UndefinedMetricWarning: Precision is ill-defined and being set to 0.0 due to no predicted samples. Use `zero_division` parameter to control this behavior.\n",
      "  _warn_prf(average, modifier, msg_start, len(result))\n",
      "/Users/colinmurphy/opt/anaconda3/envs/info2950/lib/python3.9/site-packages/sklearn/metrics/_classification.py:1318: UndefinedMetricWarning: Precision is ill-defined and being set to 0.0 due to no predicted samples. Use `zero_division` parameter to control this behavior.\n",
      "  _warn_prf(average, modifier, msg_start, len(result))\n",
      "/Users/colinmurphy/opt/anaconda3/envs/info2950/lib/python3.9/site-packages/sklearn/metrics/_classification.py:1318: UndefinedMetricWarning: Precision is ill-defined and being set to 0.0 due to no predicted samples. Use `zero_division` parameter to control this behavior.\n",
      "  _warn_prf(average, modifier, msg_start, len(result))\n",
      "/Users/colinmurphy/opt/anaconda3/envs/info2950/lib/python3.9/site-packages/sklearn/metrics/_classification.py:1318: UndefinedMetricWarning: Precision is ill-defined and being set to 0.0 due to no predicted samples. Use `zero_division` parameter to control this behavior.\n",
      "  _warn_prf(average, modifier, msg_start, len(result))\n",
      "/Users/colinmurphy/opt/anaconda3/envs/info2950/lib/python3.9/site-packages/sklearn/metrics/_classification.py:1318: UndefinedMetricWarning: Precision is ill-defined and being set to 0.0 due to no predicted samples. Use `zero_division` parameter to control this behavior.\n",
      "  _warn_prf(average, modifier, msg_start, len(result))\n",
      "/Users/colinmurphy/opt/anaconda3/envs/info2950/lib/python3.9/site-packages/sklearn/metrics/_classification.py:1318: UndefinedMetricWarning: Precision is ill-defined and being set to 0.0 due to no predicted samples. Use `zero_division` parameter to control this behavior.\n",
      "  _warn_prf(average, modifier, msg_start, len(result))\n",
      "/Users/colinmurphy/opt/anaconda3/envs/info2950/lib/python3.9/site-packages/sklearn/metrics/_classification.py:1318: UndefinedMetricWarning: Precision is ill-defined and being set to 0.0 due to no predicted samples. Use `zero_division` parameter to control this behavior.\n",
      "  _warn_prf(average, modifier, msg_start, len(result))\n"
     ]
    }
   ],
   "source": [
    "thresholds = np.linspace(0, 1.0, 100)\n",
    "precisions = []\n",
    "recalls = []\n",
    "f1s = []\n",
    "rocaucs = []\n",
    "for threshold in thresholds:\n",
    "    yhat = []\n",
    "    for x in serve_X.flatten():\n",
    "        if serving_model.predict_proba([[x]])[0, 1] >= threshold:\n",
    "            yhat.append(1)\n",
    "        if serving_model.predict_proba([[x]])[0, 1] < threshold:\n",
    "            yhat.append(0)\n",
    "    precisions.append(precision_score(y, yhat))\n",
    "    recalls.append(recall_score(y, yhat))\n",
    "    f1s.append(f1_score(y, yhat))\n",
    "    rocaucs.append(roc_auc_score(y, yhat))\n",
    "precisions = np.array(precisions)\n",
    "recalls = np.array(recalls)"
   ]
  },
  {
   "cell_type": "markdown",
   "id": "4c9c893b",
   "metadata": {},
   "source": [
    "In the below plot, we are generating a precision vs recall plot using an identical procedure as the above two sections."
   ]
  },
  {
   "cell_type": "code",
   "execution_count": 136,
   "id": "23829d01",
   "metadata": {},
   "outputs": [
    {
     "name": "stdout",
     "output_type": "stream",
     "text": [
      "threshold\n",
      "[0.32323232]\n"
     ]
    },
    {
     "data": {
      "image/png": "[encoded data removed]",
      "text/plain": [
       "<Figure size 640x480 with 1 Axes>"
      ]
     },
     "metadata": {},
     "output_type": "display_data"
    }
   ],
   "source": [
    "plt.figure()\n",
    "plt.plot(recalls[np.where(recalls != 0)], precisions[:-1][np.where(recalls != 0)],  marker = \".\")\n",
    "max_index = np.where(f1s == np.max(f1s))\n",
    "\n",
    "plt.scatter(recalls[max_index], precisions[max_index], color = \"red\", marker = \"o\", s = 100)\n",
    "plt.xlabel(\"Recall\")\n",
    "plt.ylabel(\"Precisions\")\n",
    "plt.title(\"Rankings Model\")\n",
    "print('threshold')\n",
    "print(thresholds[max_index])"
   ]
  },
  {
   "cell_type": "markdown",
   "id": "f1da8409",
   "metadata": {},
   "source": [
    "We notice the same trend of a low optimal threshold and the same \"hardly better than random\" precision with the benefit of a very high recall. This is probably not where we want to optimally set the threshold as false negatives are about as important as false positives in our model."
   ]
  },
  {
   "cell_type": "markdown",
   "id": "bafb9a94",
   "metadata": {},
   "source": [
    "Below, we are generating an rocauc score vs threshold plot using an identical procedure as in the proceeding two sections."
   ]
  },
  {
   "cell_type": "code",
   "execution_count": 137,
   "id": "89e1922b",
   "metadata": {},
   "outputs": [
    {
     "name": "stdout",
     "output_type": "stream",
     "text": [
      "threshold\n",
      "[0.52525253]\n",
      "max roc auc score\n",
      "0.6267441860465115\n"
     ]
    },
    {
     "data": {
      "image/png": "[encoded data removed]",
      "text/plain": [
       "<Figure size 640x480 with 1 Axes>"
      ]
     },
     "metadata": {},
     "output_type": "display_data"
    }
   ],
   "source": [
    "max_index = np.where(rocaucs == np.max(rocaucs))\n",
    "plt.figure()\n",
    "plt.scatter(thresholds, rocaucs)\n",
    "plt.xlabel(\"Threshold\")\n",
    "plt.ylabel(\"AUC ROC Score\")\n",
    "plt.title(\"Server Rating Model\")\n",
    "print(\"threshold\")\n",
    "print(thresholds[max_index])\n",
    "print(\"max roc auc score\")\n",
    "print(rocaucs[max_index[0][0]])"
   ]
  },
  {
   "cell_type": "markdown",
   "id": "e8e56e52",
   "metadata": {},
   "source": [
    "Since the max rocauc score is lower for the model based on serve rating rather than the cross-validated rocauc score from the overall ranking, we can tentatively say that overall ranking is a better predictor, head to head, of who will win a tennis match than serve rating. That being said, the serve rating will probably be worthwhile to include in the model. "
   ]
  },
  {
   "cell_type": "markdown",
   "id": "e7daf09a",
   "metadata": {},
   "source": [
    "Before proceeding with a multivariate model, let's assess the colinearity of the serve rating, return rating, and overall ranking. "
   ]
  },
  {
   "cell_type": "code",
   "execution_count": 149,
   "id": "692b1e12",
   "metadata": {},
   "outputs": [
    {
     "name": "stdout",
     "output_type": "stream",
     "text": [
      "             rank_diff  serve_diff  return_diff\n",
      "rank_diff     1.000000    0.418351     0.411180\n",
      "serve_diff    0.418351    1.000000    -0.243635\n",
      "return_diff   0.411180   -0.243635     1.000000\n"
     ]
    }
   ],
   "source": [
    "print(overall_df[[\"rank_diff\", \"serve_diff\", \"return_diff\"]].corr())"
   ]
  },
  {
   "cell_type": "markdown",
   "id": "c1f13c10",
   "metadata": {},
   "source": [
    "Our domain knowledge suggests that the difference in overall rankings, return ratings, and serve ratings are all separately relevant for the outcome of a tennis match between two players. It appears that they have a dagnerous amount of multicollinearity, particuarly between return_diff and rank_diff. We will lean on our domain knowledge here and take a risk with the multicollinearity. We will attempt to cross-validate our results with 8 splits of data using the same 70/10/20 train/validation/test split as we used for the model based on the overall rankings alone."
   ]
  },
  {
   "cell_type": "code",
   "execution_count": 53,
   "id": "5876e37e",
   "metadata": {},
   "outputs": [],
   "source": [
    "num_splits = 8\n",
    "X_train, X_test, y_train, y_test = train_test_split(X, y, test_size = 0.2)\n",
    "kf = KFold(n_splits = num_splits)\n",
    "X_train_splits = []\n",
    "y_train_splits = []\n",
    "X_train_splits = []\n",
    "X_val_splits = []\n",
    "y_val_splits = []\n",
    "\n",
    "for train, val in kf.split(X_train):\n",
    "    X_train_splits.append(X_train[train])\n",
    "    y_train_splits.append(y_train[train])\n",
    "    X_val_splits.append(X_train[val])\n",
    "    y_val_splits.append(y_train[val])"
   ]
  },
  {
   "cell_type": "markdown",
   "id": "caccdb08",
   "metadata": {},
   "source": [
    "In the below cell, I am training a logistic regression to the 8 splits of training data that I generated. I will then plot the data and fit from the eighth split, taking the projection onto the \"overall ranking difference\" axis. We immediately notice that the logistic regression curve has gotten \"fuzzier\", which matches our intuition since it is now taking into account two additional variables. We further notice that it seems like these variables are making a \"band\" around the rough shape of the logistic curve that we would expect from fitting onto the overall ranking difference alone, which would suggest that the most heavily-weighted variable in the model is the ranking difference. "
   ]
  },
  {
   "cell_type": "code",
   "execution_count": 49,
   "id": "d489b56a",
   "metadata": {},
   "outputs": [
    {
     "data": {
      "text/plain": [
       "Text(0, 0.5, 'Probability of Victory')"
      ]
     },
     "execution_count": 49,
     "metadata": {},
     "output_type": "execute_result"
    },
    {
     "data": {
      "image/png": "[encoded data removed]",
      "text/plain": [
       "<Figure size 640x480 with 1 Axes>"
      ]
     },
     "metadata": {},
     "output_type": "display_data"
    }
   ],
   "source": [
    "multivar_model_splits = []\n",
    "for i in range(num_splits):\n",
    "    #format the inputs \n",
    "    multivar_X = X_train_splits[i]\n",
    "    multivar_model_splits.append(LogisticRegression().fit(multivar_X, y_train_splits[i]))\n",
    "\n",
    "fig1 = plt.figure('Overall Ranking Difference Model')\n",
    "plt.title('Overall Ranking Difference Model')\n",
    "plt.scatter(X_train_splits[num_splits-1][:,0],y_train_splits[num_splits-1], label = \"match_data\")\n",
    "fit_x = np.linspace(np.min(X_train_splits[num_splits-1].flatten()), np.max(X_train_splits[num_splits-1].flatten()), 1000)\n",
    "plt.scatter(multivar_X[:, 0], multivar_model_splits[num_splits-1].predict_proba(multivar_X)[:, 1], color = \"red\", label = \"model fit\")\n",
    "plt.xlabel(\"Ranking difference\")\n",
    "plt.ylabel(\"Probability of Victory\")"
   ]
  },
  {
   "cell_type": "code",
   "execution_count": 50,
   "id": "887bb552",
   "metadata": {},
   "outputs": [
    {
     "name": "stderr",
     "output_type": "stream",
     "text": [
      "/Users/colinmurphy/opt/anaconda3/envs/info2950/lib/python3.9/site-packages/sklearn/metrics/_classification.py:1469: UndefinedMetricWarning: Precision is ill-defined and being set to 0.0 due to no predicted samples. Use `zero_division` parameter to control this behavior.\n",
      "  _warn_prf(average, modifier, msg_start, len(result))\n",
      "/Users/colinmurphy/opt/anaconda3/envs/info2950/lib/python3.9/site-packages/sklearn/metrics/_classification.py:1469: UndefinedMetricWarning: Precision is ill-defined and being set to 0.0 due to no predicted samples. Use `zero_division` parameter to control this behavior.\n",
      "  _warn_prf(average, modifier, msg_start, len(result))\n",
      "/Users/colinmurphy/opt/anaconda3/envs/info2950/lib/python3.9/site-packages/sklearn/metrics/_classification.py:1469: UndefinedMetricWarning: Precision is ill-defined and being set to 0.0 due to no predicted samples. Use `zero_division` parameter to control this behavior.\n",
      "  _warn_prf(average, modifier, msg_start, len(result))\n",
      "/Users/colinmurphy/opt/anaconda3/envs/info2950/lib/python3.9/site-packages/sklearn/metrics/_classification.py:1469: UndefinedMetricWarning: Precision is ill-defined and being set to 0.0 due to no predicted samples. Use `zero_division` parameter to control this behavior.\n",
      "  _warn_prf(average, modifier, msg_start, len(result))\n",
      "/Users/colinmurphy/opt/anaconda3/envs/info2950/lib/python3.9/site-packages/sklearn/metrics/_classification.py:1469: UndefinedMetricWarning: Precision is ill-defined and being set to 0.0 due to no predicted samples. Use `zero_division` parameter to control this behavior.\n",
      "  _warn_prf(average, modifier, msg_start, len(result))\n",
      "/Users/colinmurphy/opt/anaconda3/envs/info2950/lib/python3.9/site-packages/sklearn/metrics/_classification.py:1469: UndefinedMetricWarning: Precision is ill-defined and being set to 0.0 due to no predicted samples. Use `zero_division` parameter to control this behavior.\n",
      "  _warn_prf(average, modifier, msg_start, len(result))\n",
      "/Users/colinmurphy/opt/anaconda3/envs/info2950/lib/python3.9/site-packages/sklearn/metrics/_classification.py:1469: UndefinedMetricWarning: Precision is ill-defined and being set to 0.0 due to no predicted samples. Use `zero_division` parameter to control this behavior.\n",
      "  _warn_prf(average, modifier, msg_start, len(result))\n",
      "/Users/colinmurphy/opt/anaconda3/envs/info2950/lib/python3.9/site-packages/sklearn/metrics/_classification.py:1469: UndefinedMetricWarning: Precision is ill-defined and being set to 0.0 due to no predicted samples. Use `zero_division` parameter to control this behavior.\n",
      "  _warn_prf(average, modifier, msg_start, len(result))\n",
      "/Users/colinmurphy/opt/anaconda3/envs/info2950/lib/python3.9/site-packages/sklearn/metrics/_classification.py:1469: UndefinedMetricWarning: Precision is ill-defined and being set to 0.0 due to no predicted samples. Use `zero_division` parameter to control this behavior.\n",
      "  _warn_prf(average, modifier, msg_start, len(result))\n",
      "/Users/colinmurphy/opt/anaconda3/envs/info2950/lib/python3.9/site-packages/sklearn/metrics/_classification.py:1469: UndefinedMetricWarning: Precision is ill-defined and being set to 0.0 due to no predicted samples. Use `zero_division` parameter to control this behavior.\n",
      "  _warn_prf(average, modifier, msg_start, len(result))\n",
      "/Users/colinmurphy/opt/anaconda3/envs/info2950/lib/python3.9/site-packages/sklearn/metrics/_classification.py:1469: UndefinedMetricWarning: Precision is ill-defined and being set to 0.0 due to no predicted samples. Use `zero_division` parameter to control this behavior.\n",
      "  _warn_prf(average, modifier, msg_start, len(result))\n",
      "/Users/colinmurphy/opt/anaconda3/envs/info2950/lib/python3.9/site-packages/sklearn/metrics/_classification.py:1469: UndefinedMetricWarning: Precision is ill-defined and being set to 0.0 due to no predicted samples. Use `zero_division` parameter to control this behavior.\n",
      "  _warn_prf(average, modifier, msg_start, len(result))\n",
      "/Users/colinmurphy/opt/anaconda3/envs/info2950/lib/python3.9/site-packages/sklearn/metrics/_classification.py:1469: UndefinedMetricWarning: Precision is ill-defined and being set to 0.0 due to no predicted samples. Use `zero_division` parameter to control this behavior.\n",
      "  _warn_prf(average, modifier, msg_start, len(result))\n",
      "/Users/colinmurphy/opt/anaconda3/envs/info2950/lib/python3.9/site-packages/sklearn/metrics/_classification.py:1469: UndefinedMetricWarning: Precision is ill-defined and being set to 0.0 due to no predicted samples. Use `zero_division` parameter to control this behavior.\n",
      "  _warn_prf(average, modifier, msg_start, len(result))\n",
      "/Users/colinmurphy/opt/anaconda3/envs/info2950/lib/python3.9/site-packages/sklearn/metrics/_classification.py:1469: UndefinedMetricWarning: Precision is ill-defined and being set to 0.0 due to no predicted samples. Use `zero_division` parameter to control this behavior.\n",
      "  _warn_prf(average, modifier, msg_start, len(result))\n",
      "/Users/colinmurphy/opt/anaconda3/envs/info2950/lib/python3.9/site-packages/sklearn/metrics/_classification.py:1469: UndefinedMetricWarning: Precision is ill-defined and being set to 0.0 due to no predicted samples. Use `zero_division` parameter to control this behavior.\n",
      "  _warn_prf(average, modifier, msg_start, len(result))\n",
      "/Users/colinmurphy/opt/anaconda3/envs/info2950/lib/python3.9/site-packages/sklearn/metrics/_classification.py:1469: UndefinedMetricWarning: Precision is ill-defined and being set to 0.0 due to no predicted samples. Use `zero_division` parameter to control this behavior.\n",
      "  _warn_prf(average, modifier, msg_start, len(result))\n",
      "/Users/colinmurphy/opt/anaconda3/envs/info2950/lib/python3.9/site-packages/sklearn/metrics/_classification.py:1469: UndefinedMetricWarning: Precision is ill-defined and being set to 0.0 due to no predicted samples. Use `zero_division` parameter to control this behavior.\n",
      "  _warn_prf(average, modifier, msg_start, len(result))\n",
      "/Users/colinmurphy/opt/anaconda3/envs/info2950/lib/python3.9/site-packages/sklearn/metrics/_classification.py:1469: UndefinedMetricWarning: Precision is ill-defined and being set to 0.0 due to no predicted samples. Use `zero_division` parameter to control this behavior.\n",
      "  _warn_prf(average, modifier, msg_start, len(result))\n",
      "/Users/colinmurphy/opt/anaconda3/envs/info2950/lib/python3.9/site-packages/sklearn/metrics/_classification.py:1469: UndefinedMetricWarning: Precision is ill-defined and being set to 0.0 due to no predicted samples. Use `zero_division` parameter to control this behavior.\n",
      "  _warn_prf(average, modifier, msg_start, len(result))\n",
      "/Users/colinmurphy/opt/anaconda3/envs/info2950/lib/python3.9/site-packages/sklearn/metrics/_classification.py:1469: UndefinedMetricWarning: Precision is ill-defined and being set to 0.0 due to no predicted samples. Use `zero_division` parameter to control this behavior.\n",
      "  _warn_prf(average, modifier, msg_start, len(result))\n",
      "/Users/colinmurphy/opt/anaconda3/envs/info2950/lib/python3.9/site-packages/sklearn/metrics/_classification.py:1469: UndefinedMetricWarning: Precision is ill-defined and being set to 0.0 due to no predicted samples. Use `zero_division` parameter to control this behavior.\n",
      "  _warn_prf(average, modifier, msg_start, len(result))\n",
      "/Users/colinmurphy/opt/anaconda3/envs/info2950/lib/python3.9/site-packages/sklearn/metrics/_classification.py:1469: UndefinedMetricWarning: Precision is ill-defined and being set to 0.0 due to no predicted samples. Use `zero_division` parameter to control this behavior.\n",
      "  _warn_prf(average, modifier, msg_start, len(result))\n",
      "/Users/colinmurphy/opt/anaconda3/envs/info2950/lib/python3.9/site-packages/sklearn/metrics/_classification.py:1469: UndefinedMetricWarning: Precision is ill-defined and being set to 0.0 due to no predicted samples. Use `zero_division` parameter to control this behavior.\n",
      "  _warn_prf(average, modifier, msg_start, len(result))\n",
      "/Users/colinmurphy/opt/anaconda3/envs/info2950/lib/python3.9/site-packages/sklearn/metrics/_classification.py:1469: UndefinedMetricWarning: Precision is ill-defined and being set to 0.0 due to no predicted samples. Use `zero_division` parameter to control this behavior.\n",
      "  _warn_prf(average, modifier, msg_start, len(result))\n",
      "/Users/colinmurphy/opt/anaconda3/envs/info2950/lib/python3.9/site-packages/sklearn/metrics/_classification.py:1469: UndefinedMetricWarning: Precision is ill-defined and being set to 0.0 due to no predicted samples. Use `zero_division` parameter to control this behavior.\n",
      "  _warn_prf(average, modifier, msg_start, len(result))\n",
      "/Users/colinmurphy/opt/anaconda3/envs/info2950/lib/python3.9/site-packages/sklearn/metrics/_classification.py:1469: UndefinedMetricWarning: Precision is ill-defined and being set to 0.0 due to no predicted samples. Use `zero_division` parameter to control this behavior.\n",
      "  _warn_prf(average, modifier, msg_start, len(result))\n",
      "/Users/colinmurphy/opt/anaconda3/envs/info2950/lib/python3.9/site-packages/sklearn/metrics/_classification.py:1469: UndefinedMetricWarning: Precision is ill-defined and being set to 0.0 due to no predicted samples. Use `zero_division` parameter to control this behavior.\n",
      "  _warn_prf(average, modifier, msg_start, len(result))\n"
     ]
    }
   ],
   "source": [
    "thresholds = np.linspace(0, 1.0, 100)\n",
    "\n",
    "precisions_splits_train = []\n",
    "recalls_splits_train = []\n",
    "f1s_splits_train = []\n",
    "rocaucs_splits_train = []\n",
    "\n",
    "\n",
    "for i in range(num_splits):\n",
    "    precisions = []\n",
    "    recalls = []\n",
    "    f1s = []\n",
    "    rocaucs = []\n",
    "    for threshold in thresholds:\n",
    "        yhat = []\n",
    "        for x in X_train_splits[i]:\n",
    "            if multivar_model_splits[i].predict_proba([x])[0, 1] >= threshold:\n",
    "                yhat.append(1)\n",
    "            if multivar_model_splits[i].predict_proba([x])[0,1] < threshold:\n",
    "                yhat.append(0)\n",
    "        precisions.append(precision_score(y_train_splits[i], yhat))\n",
    "        recalls.append(recall_score(y_train_splits[i], yhat))\n",
    "        f1s.append(f1_score(y_train_splits[i], yhat))\n",
    "        rocaucs.append(roc_auc_score(y_train_splits[i], yhat))\n",
    "    precisions = np.array(precisions)\n",
    "    recalls = np.array(recalls)\n",
    "    precisions_splits_train.append(precisions)\n",
    "    recalls_splits_train.append(recalls)\n",
    "    f1s_splits_train.append(f1s)\n",
    "    rocaucs_splits_train.append(rocaucs)\n",
    "    "
   ]
  },
  {
   "cell_type": "code",
   "execution_count": 47,
   "id": "8566f8d8",
   "metadata": {},
   "outputs": [
    {
     "name": "stdout",
     "output_type": "stream",
     "text": [
      "\n",
      " for rank model\n",
      "coefficient: 0.0003858758373498945\n",
      "intercept: -7.710486809948004e-09\n",
      "\n",
      " for serve model\n",
      "coefficient: 0.041356223738606694\n",
      "intercept: 0.008834884559995378\n",
      "\n",
      " for rank model\n",
      "coefficient: 0.03536415876779259\n",
      "intercept: -0.017220181949380194\n",
      "\n",
      " For multivariate model\n",
      "rank, serve, and return coefficients: 0.00023530977411153288, 0.027268731613258202, 0.020392671865657064\n",
      "intercept: -0.0001101355422372207\n"
     ]
    }
   ],
   "source": []
  },
  {
   "cell_type": "markdown",
   "id": "cedb0357",
   "metadata": {},
   "source": [
    "In the below block, we calculate precision, recall, F1 scores, and aucroc scores for 100 thresholds spaced evenly between 0 and 1, mimicking almost exactly the procedure that we used for the 1D model except this time feeding the model 3 inputs of 1 input. We do this for each of the 8 train sets from the cross-validation splits. The optimal thresholds, precisions, recalls, f1s, and rocaucs are calculated first on the train data."
   ]
  },
  {
   "cell_type": "markdown",
   "id": "435fc564",
   "metadata": {},
   "source": [
    "Next, we generate a precision recall curve using the exact same methodology as for the 1D models. We find that we are able to strike a better balance between precision and recall with a threshold much closer to 0.5 than in the 1 dimensional models. "
   ]
  },
  {
   "cell_type": "code",
   "execution_count": 55,
   "id": "3868ec57",
   "metadata": {},
   "outputs": [
    {
     "name": "stdout",
     "output_type": "stream",
     "text": [
      "threshold\n",
      "[0.39393939]\n"
     ]
    },
    {
     "data": {
      "image/png": "[encoded data removed]",
      "text/plain": [
       "<Figure size 640x480 with 1 Axes>"
      ]
     },
     "metadata": {},
     "output_type": "display_data"
    }
   ],
   "source": [
    "plt.figure()\n",
    "plt.plot(recalls[np.where(recalls != 0)], precisions[:-1][np.where(recalls != 0)],  marker = \".\")\n",
    "max_index = np.where(f1s == np.max(f1s))\n",
    "\n",
    "plt.scatter(recalls[max_index], precisions[max_index], color = \"red\", marker = \"o\", s = 100)\n",
    "plt.xlabel(\"Recall\")\n",
    "plt.ylabel(\"Precisions\")\n",
    "plt.title(\"Multivar Model\")\n",
    "print('threshold')\n",
    "print(thresholds[max_index])"
   ]
  },
  {
   "cell_type": "markdown",
   "id": "94f6ad54",
   "metadata": {},
   "source": [
    "Taking into account the three ratings, we are able to achieve a recall in excess of 80% and a precision in excess of 0.60% simultaneously, meaning that of the players we predict to win their match, around 60% of them actually did win their match, and of the players who actually did win their match, we were able to identify 80% of them. The F1 score still shows a slight preference for minimizing false negatives at the expense of a larger number of false positives, which there is no reason to prefer in our particular case."
   ]
  },
  {
   "cell_type": "markdown",
   "id": "c8b7e38e",
   "metadata": {},
   "source": [
    "Next I will generate a roc-auc threshold plot using the same methodology as in the 1 dimensional cases for the 8th split. I will also calculate the optimal roc-auc score for each split, average them, and calculate their standard deviations."
   ]
  },
  {
   "cell_type": "code",
   "execution_count": 62,
   "id": "769ede7c",
   "metadata": {},
   "outputs": [
    {
     "name": "stdout",
     "output_type": "stream",
     "text": [
      "optimal_treshold: 0.514 +/- 0.038\n",
      "auc roc score for test set: 0.688 +/- 0.008\n"
     ]
    },
    {
     "data": {
      "image/png": "[encoded data removed]",
      "text/plain": [
       "<Figure size 640x480 with 1 Axes>"
      ]
     },
     "metadata": {},
     "output_type": "display_data"
    }
   ],
   "source": [
    "optimal_treshold_splits = []\n",
    "optimal_roc_aucs_train = []\n",
    "for i in range(num_splits):\n",
    "    max_index = np.where(rocaucs_splits_train[i] == np.max(rocaucs_splits_train[i]))\n",
    "    optimal_treshold_splits.append(thresholds[max_index])\n",
    "    optimal_roc_aucs_train.append(rocaucs_splits_train[i][max_index[0][0]])\n",
    "plt.figure()\n",
    "plt.scatter(thresholds, rocaucs)\n",
    "plt.xlabel(\"Threshold\")\n",
    "plt.ylabel(\"AUC ROC Score\")\n",
    "plt.title(\"Rankings Model\")\n",
    "print(\"optimal_treshold: %.3f +/- %.3f\" %(np.mean(optimal_treshold_splits), np.std(optimal_treshold_splits)))\n",
    "print(\"auc roc score for test set: %.3f +/- %.3f\" % (np.mean(optimal_roc_aucs_train), np.std(optimal_roc_aucs_train)))"
   ]
  },
  {
   "cell_type": "markdown",
   "id": "5adde2a0",
   "metadata": {},
   "source": [
    "The total auc-roc is better than any of the three single-variable models that we developed. However, it is only very barely better than our model based on the overall ranking and nothing else."
   ]
  },
  {
   "cell_type": "markdown",
   "id": "5d6b1588",
   "metadata": {},
   "source": [
    "### Evaluation of Significance"
   ]
  },
  {
   "cell_type": "markdown",
   "id": "2b60a842",
   "metadata": {},
   "source": [
    "Next, we will perform a one-sample one-sided t test to assess whether the model is distinguishable from randomly guessing the outcome of tennis matches for the train data. First, we will assess whether the roc-auc scores from the train data come from a normal distribution."
   ]
  },
  {
   "cell_type": "code",
   "execution_count": 51,
   "id": "1480dae4",
   "metadata": {},
   "outputs": [
    {
     "name": "stdout",
     "output_type": "stream",
     "text": [
      "pvalue = 0.822\n"
     ]
    },
    {
     "name": "stderr",
     "output_type": "stream",
     "text": [
      "/Users/colinmurphy/opt/anaconda3/envs/info2950/lib/python3.9/site-packages/scipy/stats/_stats_py.py:1806: UserWarning: kurtosistest only valid for n>=20 ... continuing anyway, n=8\n",
      "  warnings.warn(\"kurtosistest only valid for n>=20 ... continuing \"\n"
     ]
    }
   ],
   "source": [
    "test = scipy.stats.normaltest(optimal_roc_aucs_train)\n",
    "print('pvalue = ' + str(round(test.pvalue,3)))"
   ]
  },
  {
   "cell_type": "markdown",
   "id": "5d5cede0",
   "metadata": {},
   "source": [
    "Since the null hypothesis is that the distribution is normally distributed, and our p-value is far in excess of 0.05, we fail to reject the null hypothesis and can proceed with the t-test."
   ]
  },
  {
   "cell_type": "code",
   "execution_count": 55,
   "id": "7a4bb8a2",
   "metadata": {},
   "outputs": [
    {
     "name": "stdout",
     "output_type": "stream",
     "text": [
      "From the test data, there is a 0.000000000004 probability that the true roc-auc score of the model is less than or equal to 0.5.\n"
     ]
    }
   ],
   "source": [
    "t_stat, p_value = scipy.stats.ttest_1samp(optimal_roc_aucs_train, .50, alternative = 'greater')\n",
    "print(\"From the test data, there is a %.12f probability that the true roc-auc score of the model is less than or equal to 0.5.\" %p_value)"
   ]
  },
  {
   "cell_type": "markdown",
   "id": "826d61d2",
   "metadata": {},
   "source": [
    "This suggests that our model is distinguishable from randomly guessing the outcome of tennis matches on the train set far in excess of the 5% level. Next, we will evaluate the performance of the model on the validation set. "
   ]
  },
  {
   "cell_type": "code",
   "execution_count": 56,
   "id": "bc3d7139",
   "metadata": {},
   "outputs": [],
   "source": [
    "thresholds = np.linspace(0, 1.0, 100)\n",
    "\n",
    "precisions_splits_val = []\n",
    "recalls_splits_val = []\n",
    "f1s_splits_val = []\n",
    "rocaucs_splits_val = []\n",
    "\n",
    "for i in range(num_splits):\n",
    "    threshold = optimal_treshold_splits[i]\n",
    "    yhat = []\n",
    "    for x in X_val_splits[i]:\n",
    "        if multivar_model_splits[i].predict_proba([x])[0, 1] >= threshold:\n",
    "            yhat.append(1)\n",
    "        if multivar_model_splits[i].predict_proba([x])[0, 1] < threshold:\n",
    "            yhat.append(0)\n",
    "    precisions_splits_val.append(precision_score(y_val_splits[i], yhat))\n",
    "    recalls_splits_val.append(recall_score(y_val_splits[i], yhat))\n",
    "    f1s_splits_val.append(f1_score(y_val_splits[i], yhat))\n",
    "    rocaucs_splits_val.append(roc_auc_score(y_val_splits[i], yhat))"
   ]
  },
  {
   "cell_type": "code",
   "execution_count": 57,
   "id": "d97df8e1",
   "metadata": {},
   "outputs": [
    {
     "name": "stdout",
     "output_type": "stream",
     "text": [
      "The ROC-AUCs score on the validation sets: 0.669 +/- 0.056\n"
     ]
    }
   ],
   "source": [
    "print(\"The ROC-AUCs score on the validation sets: %.3f +/- %.3f\" %(np.mean(rocaucs_splits_val), np.std(rocaucs_splits_val)))"
   ]
  },
  {
   "cell_type": "markdown",
   "id": "5a718286",
   "metadata": {},
   "source": [
    "### Evaluation of Significance"
   ]
  },
  {
   "cell_type": "markdown",
   "id": "19cec005",
   "metadata": {},
   "source": [
    "We will continue with the usual procedure of assessing normality and then performing the t-test. "
   ]
  },
  {
   "cell_type": "code",
   "execution_count": 58,
   "id": "35b9be34",
   "metadata": {},
   "outputs": [
    {
     "name": "stdout",
     "output_type": "stream",
     "text": [
      "pvalue = 0.822\n"
     ]
    },
    {
     "name": "stderr",
     "output_type": "stream",
     "text": [
      "/Users/colinmurphy/opt/anaconda3/envs/info2950/lib/python3.9/site-packages/scipy/stats/_stats_py.py:1806: UserWarning: kurtosistest only valid for n>=20 ... continuing anyway, n=8\n",
      "  warnings.warn(\"kurtosistest only valid for n>=20 ... continuing \"\n"
     ]
    }
   ],
   "source": [
    "test = scipy.stats.normaltest(optimal_roc_aucs_train)\n",
    "print('pvalue = ' + str(round(test.pvalue,3)))"
   ]
  },
  {
   "cell_type": "code",
   "execution_count": 59,
   "id": "2eff1fce",
   "metadata": {},
   "outputs": [
    {
     "name": "stdout",
     "output_type": "stream",
     "text": [
      "From the test data, there is a 0.00005 probability that the true roc-auc score of the model is less than or equal to 0.5.\n"
     ]
    }
   ],
   "source": [
    "t_stat, p_value = scipy.stats.ttest_1samp(rocaucs_splits_val, .50, alternative = 'greater')\n",
    "print(\"From the test data, there is a %.5f probability that the true roc-auc score of the model is less than or equal to 0.5.\" %p_value)"
   ]
  },
  {
   "cell_type": "markdown",
   "id": "e501e5ed",
   "metadata": {},
   "source": [
    "This suggests that our model is distinguishable from randomly guessing the outcome of tennis matches on the validation set far in excess of the 5% level. Next, we will evaluate the performance of the model on the test set. "
   ]
  },
  {
   "cell_type": "code",
   "execution_count": 61,
   "id": "0c7267c5",
   "metadata": {},
   "outputs": [],
   "source": [
    "thresholds = np.linspace(0, 1.0, 100)\n",
    "\n",
    "precisions_splits_test = []\n",
    "recalls_splits_test = []\n",
    "f1s_splits_test = []\n",
    "rocaucs_splits_test_multivar = []\n",
    "\n",
    "for i in range(num_splits):\n",
    "    threshold = optimal_treshold_splits[i]\n",
    "    yhat = []\n",
    "    for x in X_test:\n",
    "        if multivar_model_splits[i].predict_proba([x])[0, 1] >= threshold:\n",
    "            yhat.append(1)\n",
    "        if multivar_model_splits[i].predict_proba([x])[0, 1] < threshold:\n",
    "            yhat.append(0)\n",
    "    precisions_splits_test.append(precision_score(y_test, yhat))\n",
    "    recalls_splits_test.append(recall_score(y_test, yhat))\n",
    "    f1s_splits_test.append(f1_score(y_test, yhat))\n",
    "    rocaucs_splits_test_multivar.append(roc_auc_score(y_test, yhat))\n",
    "    "
   ]
  },
  {
   "cell_type": "code",
   "execution_count": 62,
   "id": "66388cd4",
   "metadata": {},
   "outputs": [
    {
     "name": "stdout",
     "output_type": "stream",
     "text": [
      "The ROC-AUCs score on the test sets: 0.704 +/- 0.004\n"
     ]
    }
   ],
   "source": [
    "print(\"The ROC-AUCs score on the test sets: %.3f +/- %.3f\" %(np.mean(rocaucs_splits_test_multivar), np.std(rocaucs_splits_test_multivar)))"
   ]
  },
  {
   "cell_type": "markdown",
   "id": "34bf6905",
   "metadata": {},
   "source": [
    "### Evaluation of Significance"
   ]
  },
  {
   "cell_type": "markdown",
   "id": "cc619e1d",
   "metadata": {},
   "source": [
    "We will now perform the exact same one-sided one-sample t test for significance to determine if the model we developed is better than randomly deciding the winner of a match on the test set."
   ]
  },
  {
   "cell_type": "code",
   "execution_count": 63,
   "id": "3f099097",
   "metadata": {},
   "outputs": [
    {
     "name": "stdout",
     "output_type": "stream",
     "text": [
      "pvalue = 0.567\n"
     ]
    },
    {
     "name": "stderr",
     "output_type": "stream",
     "text": [
      "/Users/colinmurphy/opt/anaconda3/envs/info2950/lib/python3.9/site-packages/scipy/stats/_stats_py.py:1806: UserWarning: kurtosistest only valid for n>=20 ... continuing anyway, n=8\n",
      "  warnings.warn(\"kurtosistest only valid for n>=20 ... continuing \"\n"
     ]
    }
   ],
   "source": [
    "test = scipy.stats.normaltest(rocaucs_splits_test_multivar)\n",
    "print('pvalue = ' + str(round(test.pvalue,3)))"
   ]
  },
  {
   "cell_type": "code",
   "execution_count": 67,
   "id": "96479bc8",
   "metadata": {},
   "outputs": [
    {
     "name": "stdout",
     "output_type": "stream",
     "text": [
      "From the test data, there is a 0.0000000000004 probability that the true roc-auc score of the model is less than or equal to 0.5.\n"
     ]
    }
   ],
   "source": [
    "t_stat, p_value = scipy.stats.ttest_1samp(rocaucs_splits_test_multivar, .50, alternative = 'greater')\n",
    "print(\"From the test data, there is a %.13f probability that the true roc-auc score of the model is less than or equal to 0.5.\" %p_value)"
   ]
  },
  {
   "cell_type": "markdown",
   "id": "1c0da4e1",
   "metadata": {},
   "source": [
    "Clearly, our model is distinguishable from randomly guessing the outcome of the tennis match on the test set far in excess of the 5% level. "
   ]
  },
  {
   "cell_type": "markdown",
   "id": "58fa6b48",
   "metadata": {},
   "source": [
    "## Comparing the Single Variable (Overall Ranking Only) and Multivariable Model"
   ]
  },
  {
   "cell_type": "markdown",
   "id": "ef8a61d5",
   "metadata": {},
   "source": [
    "Now, we want to determine if including the serve ratings and return ratings improved the predictive power of our model as measured by the roc-auc score on the test set. To do this, we will perform a one-sided two-sample t test from the optimal roc-auc scores that we calculated for each model."
   ]
  },
  {
   "cell_type": "code",
   "execution_count": 71,
   "id": "fb607c34",
   "metadata": {},
   "outputs": [
    {
     "name": "stdout",
     "output_type": "stream",
     "text": [
      "0.7146213657876943\n",
      "0.7038624070317783\n",
      "THe probability that roc-auc score on the test set from the multivariate model is less than or equal to the roc-auc score from the single-variable overall ranking only model is 1.0000.\n"
     ]
    }
   ],
   "source": [
    "t_stat, p_value = scipy.stats.ttest_ind(rocaucs_splits_test_multivar, rocaucs_splits_test, alternative = \"greater\")\n",
    "print(\"The probability that roc-auc score on the test set from the multivariate model is less than or equal to the roc-auc score from the single-variable overall ranking only model is %.4f.\" % p_value)"
   ]
  },
  {
   "cell_type": "markdown",
   "id": "633fa959",
   "metadata": {},
   "source": [
    "This suggests that our multivariable model performs does not perform any better on its respective test set, as measured by auc-roc, than the single variable model at the 5% level. Therefore, we can conclude that including additional variables does not improve the predictive power of our model."
   ]
  },
  {
   "cell_type": "markdown",
   "id": "6adb0b21",
   "metadata": {},
   "source": [
    "# Interpreting Regressions"
   ]
  },
  {
   "cell_type": "markdown",
   "id": "f1d17e7c",
   "metadata": {},
   "source": [
    "To get a sense of the dependence of our predictions of the probability for outcomes of tennis matches by our model on the variables that we considered in the model, we will train two models to the complete data set of roughly 800 matches. The methodology that these models are being trained with has been cross-validated and shown to be significantly better than randomly picking the outcome of matches. While we will not cross-validate these models specifically, we feel that, for the sake of interpretation, these models will demonstrate the dependence on variables that we desire to show. "
   ]
  },
  {
   "cell_type": "code",
   "execution_count": 72,
   "id": "4a212dd8",
   "metadata": {},
   "outputs": [
    {
     "name": "stdout",
     "output_type": "stream",
     "text": [
      "\n",
      " for rank model\n",
      "coefficient: 0.0003858758373498945\n",
      "intercept: -7.710486809948004e-09\n",
      "\n",
      " for serve model\n",
      "coefficient: 0.041356223738606694\n",
      "intercept: 0.008834884559995378\n",
      "\n",
      " for rank model\n",
      "coefficient: 0.03536415876779259\n",
      "intercept: -0.017220181949380194\n",
      "\n",
      " For multivariate model\n",
      "rank, serve, and return coefficients: 0.00023530977411153288, 0.027268731613258202, 0.020392671865657064\n",
      "intercept: -0.0001101355422372207\n"
     ]
    }
   ],
   "source": [
    "model = LogisticRegression().fit(X, y)\n",
    "rank_X =  np.array([[x] for x in X[:, 0]])\n",
    "\n",
    "rank_model = LogisticRegression().fit(rank_X, y)\n",
    "\n",
    "\n",
    "print('\\n for rank model')\n",
    "print('coefficient: '+str(rank_model.coef_[0][0]))\n",
    "print('intercept: '+str(rank_model.intercept_[0]))\n",
    "\n",
    "print('\\n for serve model')\n",
    "print('coefficient: '+str(serving_model.coef_[0][0]))\n",
    "print('intercept: '+str(serving_model.intercept_[0]))\n",
    "\n",
    "print('\\n for rank model')\n",
    "print('coefficient: '+str(return_model.coef_[0][0]))\n",
    "print('intercept: '+str(return_model.intercept_[0]))\n",
    "\n",
    "print('\\n For multivariate model')\n",
    "print(\"rank, serve, and return coefficients: \"+str(model.coef_[0][0])+\", \"+str(model.coef_[0][1])\n",
    "      +\", \"+str(model.coef_[0][2]))\n",
    "print(\"intercept: \"+str(model.intercept_[0]))\n"
   ]
  },
  {
   "cell_type": "markdown",
   "id": "293049a7",
   "metadata": {},
   "source": [
    "For the rank model, for a 1 unit increase in the difference in rank between the players, the probability that the first player wins increases by a factor of e^(0.000386)\n",
    "\n",
    "For the serve model, for a 1 unit increase in the difference in serve ratings between the players, the probability that the first player wins increases by a factor of e^(0.0413)\n",
    "\n",
    "For the return model, for a 1 unit increase in the difference in return ratings between the players, the probability that the first player wins increases by a factor of e^(0.0354)\n",
    "\n",
    "For the multivariable model, for a 1 unit increase in the difference in rank points between the two players, all else remaining the same, the probability that the first player player wins increases by a factor of e^(0.0002). For a 1 unit increase in serving points between the two players, all else remaining the same, the probability that the first player wins increases by a factor of e^(0.0272). For a 1 unit increase in the difference in return points between the two players, all else remaining the same, the probability that the first player wins increases by a factor of e^(0.0204)\n",
    "\n",
    "The coefficients for the models are low, which supports the figures having very gradual slopes. Even the highest differences only provide a 90 percent chance of winning in the models. This shows that the rating differences do not have a very large impact on the outcome of matches. There are a lot of instances where a player with lower ratings still wins. There are likely other parameters that have higher impacts on the score. In addition, the players that we are collecting and analyzing data for are the top players in the world. Every player has an extremely high level of skill and experience, and as such at this level the differences in skill are minimal, therefore making the differences in ratings even less impactful.\n",
    "\n",
    "The intercepts for the models are extremely low, with the rank and return models having an essentially negligible intercept. This shows that when the rating difference between two players is 0, there is a 50/50 percent chance of winning. This makes sense as if their ratings are 0, they should have an equal chance of winning.\n",
    "\n",
    "# Hard vs Clay \n",
    "\n",
    "This next section covers our analysis of whether male professional tennis players serve differently on different court types. \n",
    "\n",
    "Hypothesis 1: Professional men's tennis players serve better on hard courts than clay courts. We believe that this would possibly be due to the fact that professional tennis players mainly practice and play on hard courts. This answer may suggest that we need to change our model to include what surface the match occurred on.\n",
    "Analysis: The ATP compiles server ratings for each professional player on each playing surface. We can perform a two sample t-test between the average server rating on hard courts and clay courts. We predict that there will be a statistically-significant difference between the men;s server ratings that indicates that the population mean server rating on hard courts is higher than on clay courts. "
   ]
  },
  {
   "cell_type": "markdown",
   "id": "237652d1",
   "metadata": {},
   "source": [
    "To start, we'll define a short function to return the serve rating for all the players"
   ]
  },
  {
   "cell_type": "code",
   "execution_count": 3,
   "id": "a887bcc6",
   "metadata": {},
   "outputs": [],
   "source": [
    "def GetServe(id, row):\n",
    "    t = row[id].text\n",
    "    first_space = t.find(' ')\n",
    "    y = t[first_space+1:]\n",
    "    stat = y[y.find('\\n')+1:y.find('\\n') +6]\n",
    "    first_slash = t.index('\\n')\n",
    "    name = t[first_slash+1:t.rfind('\\n')]\n",
    "    return {'Name': name, 'Serve Rating': float(stat)}"
   ]
  },
  {
   "cell_type": "markdown",
   "id": "27e06a88",
   "metadata": {},
   "source": [
    "Now, we scrape the data from the ATP website for serve rankings for both hard and clay courts. First, hard courts."
   ]
  },
  {
   "cell_type": "code",
   "execution_count": 4,
   "id": "9c36a8e1",
   "metadata": {},
   "outputs": [],
   "source": [
    "hard_link = 'https://www.atptour.com/en/stats/leaderboard?boardType=serve&timeFrame=52Week&surface=hard&versusRank=all&formerNo1=false'\n",
    "clay_link = 'https://www.atptour.com/en/stats/leaderboard?boardType=serve&timeFrame=52Week&surface=clay&versusRank=all&formerNo1=false'"
   ]
  },
  {
   "cell_type": "code",
   "execution_count": 5,
   "id": "526b2206",
   "metadata": {},
   "outputs": [],
   "source": [
    "hard_browser = webdriver.Firefox(executable_path=str(str(os.getcwd())+'/geckodriver'))\n",
    "hard_browser.get(hard_link)"
   ]
  },
  {
   "cell_type": "code",
   "execution_count": 14,
   "id": "463c7fc4",
   "metadata": {},
   "outputs": [],
   "source": [
    "hard_table = hard_browser.find_element_by_id('leaderboardTable')\n",
    "r = hard_table.find_elements_by_tag_name('tr')\n",
    "hard_df = pd.DataFrame(GetServe(0,r), index = [0])\n",
    "for x in range(len(r))[1:]:\n",
    "    record = pd.Series(GetServe(x,r))\n",
    "    hard_df = pd.concat([hard_df, record.to_frame().T], ignore_index = True)"
   ]
  },
  {
   "cell_type": "code",
   "execution_count": 15,
   "id": "effeb2ed",
   "metadata": {},
   "outputs": [
    {
     "data": {
      "text/html": [
       "<div>\n",
       "<style scoped>\n",
       "    .dataframe tbody tr th:only-of-type {\n",
       "        vertical-align: middle;\n",
       "    }\n",
       "\n",
       "    .dataframe tbody tr th {\n",
       "        vertical-align: top;\n",
       "    }\n",
       "\n",
       "    .dataframe thead th {\n",
       "        text-align: right;\n",
       "    }\n",
       "</style>\n",
       "<table border=\"1\" class=\"dataframe\">\n",
       "  <thead>\n",
       "    <tr style=\"text-align: right;\">\n",
       "      <th></th>\n",
       "      <th>Name</th>\n",
       "      <th>Serve Rating</th>\n",
       "    </tr>\n",
       "  </thead>\n",
       "  <tbody>\n",
       "    <tr>\n",
       "      <th>0</th>\n",
       "      <td>Novak Djokovic</td>\n",
       "      <td>296.8</td>\n",
       "    </tr>\n",
       "    <tr>\n",
       "      <th>1</th>\n",
       "      <td>Hubert Hurkacz</td>\n",
       "      <td>296.5</td>\n",
       "    </tr>\n",
       "    <tr>\n",
       "      <th>2</th>\n",
       "      <td>Stefanos Tsitsipas</td>\n",
       "      <td>295.3</td>\n",
       "    </tr>\n",
       "    <tr>\n",
       "      <th>3</th>\n",
       "      <td>Nicolas Jarry</td>\n",
       "      <td>294.0</td>\n",
       "    </tr>\n",
       "    <tr>\n",
       "      <th>4</th>\n",
       "      <td>Thanasi Kokkinakis</td>\n",
       "      <td>293.4</td>\n",
       "    </tr>\n",
       "  </tbody>\n",
       "</table>\n",
       "</div>"
      ],
      "text/plain": [
       "                 Name Serve Rating\n",
       "0      Novak Djokovic        296.8\n",
       "1      Hubert Hurkacz        296.5\n",
       "2  Stefanos Tsitsipas        295.3\n",
       "3       Nicolas Jarry        294.0\n",
       "4  Thanasi Kokkinakis        293.4"
      ]
     },
     "execution_count": 15,
     "metadata": {},
     "output_type": "execute_result"
    }
   ],
   "source": [
    "hard_df.head()"
   ]
  },
  {
   "cell_type": "markdown",
   "id": "0988ad17",
   "metadata": {},
   "source": [
    "Now we repeat the process for clay courts."
   ]
  },
  {
   "cell_type": "code",
   "execution_count": 11,
   "id": "d574a9ed",
   "metadata": {},
   "outputs": [],
   "source": [
    "clay_browser = webdriver.Firefox(executable_path=str(str(os.getcwd())+'/geckodriver'))\n",
    "clay_browser.get(clay_link)"
   ]
  },
  {
   "cell_type": "code",
   "execution_count": 16,
   "id": "810ba6fa",
   "metadata": {},
   "outputs": [],
   "source": [
    "clay_table = clay_browser.find_element_by_id('leaderboardTable')\n",
    "r = clay_table.find_elements_by_tag_name('tr')\n",
    "clay_df = pd.DataFrame(GetServe(0,r), index = [0])\n",
    "for x in range(len(r))[1:]:\n",
    "    record = pd.Series(GetServe(x,r))\n",
    "    clay_df = pd.concat([clay_df, record.to_frame().T], ignore_index = True)"
   ]
  },
  {
   "cell_type": "code",
   "execution_count": 17,
   "id": "cf4e15c4",
   "metadata": {},
   "outputs": [
    {
     "data": {
      "text/html": [
       "<div>\n",
       "<style scoped>\n",
       "    .dataframe tbody tr th:only-of-type {\n",
       "        vertical-align: middle;\n",
       "    }\n",
       "\n",
       "    .dataframe tbody tr th {\n",
       "        vertical-align: top;\n",
       "    }\n",
       "\n",
       "    .dataframe thead th {\n",
       "        text-align: right;\n",
       "    }\n",
       "</style>\n",
       "<table border=\"1\" class=\"dataframe\">\n",
       "  <thead>\n",
       "    <tr style=\"text-align: right;\">\n",
       "      <th></th>\n",
       "      <th>Name</th>\n",
       "      <th>Serve Rating</th>\n",
       "    </tr>\n",
       "  </thead>\n",
       "  <tbody>\n",
       "    <tr>\n",
       "      <th>0</th>\n",
       "      <td>Nicolas Jarry</td>\n",
       "      <td>284.4</td>\n",
       "    </tr>\n",
       "    <tr>\n",
       "      <th>1</th>\n",
       "      <td>Stefanos Tsitsipas</td>\n",
       "      <td>279.4</td>\n",
       "    </tr>\n",
       "    <tr>\n",
       "      <th>2</th>\n",
       "      <td>Alexei Popyrin</td>\n",
       "      <td>279.3</td>\n",
       "    </tr>\n",
       "    <tr>\n",
       "      <th>3</th>\n",
       "      <td>Karen Khachanov</td>\n",
       "      <td>278.7</td>\n",
       "    </tr>\n",
       "    <tr>\n",
       "      <th>4</th>\n",
       "      <td>Carlos Alcaraz</td>\n",
       "      <td>277.6</td>\n",
       "    </tr>\n",
       "  </tbody>\n",
       "</table>\n",
       "</div>"
      ],
      "text/plain": [
       "                 Name Serve Rating\n",
       "0       Nicolas Jarry        284.4\n",
       "1  Stefanos Tsitsipas        279.4\n",
       "2      Alexei Popyrin        279.3\n",
       "3     Karen Khachanov        278.7\n",
       "4      Carlos Alcaraz        277.6"
      ]
     },
     "execution_count": 17,
     "metadata": {},
     "output_type": "execute_result"
    }
   ],
   "source": [
    "clay_df.head()"
   ]
  },
  {
   "cell_type": "markdown",
   "id": "580aa490",
   "metadata": {},
   "source": [
    "Just by looking at the distributions and the means for each, we can tell they are different."
   ]
  },
  {
   "cell_type": "code",
   "execution_count": 25,
   "id": "ca7ae56d",
   "metadata": {
    "scrolled": true
   },
   "outputs": [
    {
     "data": {
      "image/png": "[encoded data removed]",
      "text/plain": [
       "<Figure size 640x480 with 2 Axes>"
      ]
     },
     "metadata": {},
     "output_type": "display_data"
    }
   ],
   "source": [
    "hard_mean = round(np.mean(hard_df['Serve Rating']),2)\n",
    "clay_mean = round(np.mean(clay_df['Serve Rating']),2)\n",
    "f, (ax1, ax2) = plt.subplots(1, 2, width_ratios = [1,1])\n",
    "ax1.hist(hard_df['Serve Rating'], bins = 20)\n",
    "ax1.set_title('Hard Courts \\n Mean: ' + str(hard_mean))\n",
    "ax2.hist(clay_df['Serve Rating'], bins = 20)\n",
    "ax2.set_title('Clay Courts \\n Mean: ' + str(clay_mean));"
   ]
  },
  {
   "cell_type": "markdown",
   "id": "d3f7293f",
   "metadata": {},
   "source": [
    "In order to do a two sample t-test, we first need to make sure each sample is more or less normally distributed. We do this by testing for normality"
   ]
  },
  {
   "cell_type": "code",
   "execution_count": 32,
   "id": "d9b96926",
   "metadata": {},
   "outputs": [
    {
     "name": "stdout",
     "output_type": "stream",
     "text": [
      "pvalue = 0.105\n"
     ]
    }
   ],
   "source": [
    "hard_courts = hard_df['Serve Rating'].to_numpy().astype('int')\n",
    "test = scipy.stats.normaltest(hard_courts)\n",
    "print('pvalue = ' + str(round(test.pvalue,3)))"
   ]
  },
  {
   "cell_type": "code",
   "execution_count": 33,
   "id": "d00a13f5",
   "metadata": {},
   "outputs": [
    {
     "name": "stdout",
     "output_type": "stream",
     "text": [
      "pvalue = 0.064\n"
     ]
    }
   ],
   "source": [
    "clay_courts = clay_df['Serve Rating'].to_numpy().astype('int')\n",
    "test = scipy.stats.normaltest(clay_courts)\n",
    "print('pvalue = ' + str(round(test.pvalue,3)))"
   ]
  },
  {
   "cell_type": "markdown",
   "id": "44f63aa9",
   "metadata": {},
   "source": [
    "Since both p-values are greater than 0.05, we fail to reject the null - each sample is nearly normally distributed. However, since we have unequal sample sizes, we will use a Welch's t-test to test for independece."
   ]
  },
  {
   "cell_type": "code",
   "execution_count": 35,
   "id": "97409cee",
   "metadata": {},
   "outputs": [
    {
     "name": "stdout",
     "output_type": "stream",
     "text": [
      "pvalue = 1.1600311174431524e-11\n"
     ]
    }
   ],
   "source": [
    "t_test = scipy.stats.ttest_ind(hard_courts, clay_courts, equal_var = False)\n",
    "print('pvalue = ' + str(t_test.pvalue))"
   ]
  },
  {
   "cell_type": "markdown",
   "id": "63f89596",
   "metadata": {},
   "source": [
    "Based on this p-value significantly smaller than 0.05, we can reject the null hypothesis. Players do indeed serve differently on clay and hard courts."
   ]
  },
  {
   "cell_type": "markdown",
   "id": "6f28c1be",
   "metadata": {},
   "source": [
    "# Spain vs. the World\n",
    "\n",
    "Spain is routinely ranked by many as the number 1 country in tennis. This is in large due to the fact that Spain places much more importance on tennis than other sports, compared to other countries. This leads to more time and money being spent on tennis training and facilities. \n",
    "\n",
    "Here we will try to find whether the data agrees with this. We will take the nationalities of all the players, and generate probabilities for Spain winning a match vs. another country winning a match. We will create a normal distribution using the probablility of an average non-Spain country winning a tennis match, and compare this to the amount of wins that Spain has accumulated this year."
   ]
  },
  {
   "cell_type": "markdown",
   "id": "8f76602d",
   "metadata": {},
   "source": [
    "The nationalities previously weren't include in the overall DataFrame used. We have webscraped the nationalities for the serve and return leaders separately, so they are included in their respective DataFrames and must be combined into the overall_df DataFrame, containing all of the tennis matches played in 2023"
   ]
  },
  {
   "cell_type": "code",
   "execution_count": 9,
   "id": "9a87ad56",
   "metadata": {},
   "outputs": [
    {
     "data": {
      "text/html": [
       "<div>\n",
       "<style scoped>\n",
       "    .dataframe tbody tr th:only-of-type {\n",
       "        vertical-align: middle;\n",
       "    }\n",
       "\n",
       "    .dataframe tbody tr th {\n",
       "        vertical-align: top;\n",
       "    }\n",
       "\n",
       "    .dataframe thead th {\n",
       "        text-align: right;\n",
       "    }\n",
       "</style>\n",
       "<table border=\"1\" class=\"dataframe\">\n",
       "  <thead>\n",
       "    <tr style=\"text-align: right;\">\n",
       "      <th></th>\n",
       "      <th>winner_name</th>\n",
       "      <th>loser_name</th>\n",
       "      <th>winner_rank</th>\n",
       "      <th>loser_rank</th>\n",
       "      <th>winner_serve_rating</th>\n",
       "      <th>loser_serve_rating</th>\n",
       "      <th>winner_return_rating</th>\n",
       "      <th>loser_return_rating</th>\n",
       "      <th>rank_diff</th>\n",
       "      <th>serve_diff</th>\n",
       "      <th>return_diff</th>\n",
       "      <th>winner_country</th>\n",
       "      <th>loser_country</th>\n",
       "    </tr>\n",
       "  </thead>\n",
       "  <tbody>\n",
       "    <tr>\n",
       "      <th>0</th>\n",
       "      <td>Frances Tiafoe</td>\n",
       "      <td>Lorenzo Musetti</td>\n",
       "      <td>2310.0</td>\n",
       "      <td>1470.0</td>\n",
       "      <td>282.3</td>\n",
       "      <td>265.3</td>\n",
       "      <td>137.8</td>\n",
       "      <td>152.4</td>\n",
       "      <td>840.0</td>\n",
       "      <td>17.0</td>\n",
       "      <td>-14.6</td>\n",
       "      <td>usa</td>\n",
       "      <td>ita</td>\n",
       "    </tr>\n",
       "    <tr>\n",
       "      <th>1</th>\n",
       "      <td>Taylor Fritz</td>\n",
       "      <td>Hubert Hurkacz</td>\n",
       "      <td>3100.0</td>\n",
       "      <td>3245.0</td>\n",
       "      <td>288.6</td>\n",
       "      <td>295.5</td>\n",
       "      <td>145.4</td>\n",
       "      <td>124.6</td>\n",
       "      <td>-145.0</td>\n",
       "      <td>-6.9</td>\n",
       "      <td>20.8</td>\n",
       "      <td>usa</td>\n",
       "      <td>pol</td>\n",
       "    </tr>\n",
       "    <tr>\n",
       "      <th>2</th>\n",
       "      <td>Stefanos Tsitsipas</td>\n",
       "      <td>Borna Coric</td>\n",
       "      <td>4235.0</td>\n",
       "      <td>1135.0</td>\n",
       "      <td>292.0</td>\n",
       "      <td>264.0</td>\n",
       "      <td>133.5</td>\n",
       "      <td>125.6</td>\n",
       "      <td>3100.0</td>\n",
       "      <td>28.0</td>\n",
       "      <td>7.9</td>\n",
       "      <td>gre</td>\n",
       "      <td>cro</td>\n",
       "    </tr>\n",
       "    <tr>\n",
       "      <th>3</th>\n",
       "      <td>Cameron Norrie</td>\n",
       "      <td>Taylor Fritz</td>\n",
       "      <td>1940.0</td>\n",
       "      <td>3100.0</td>\n",
       "      <td>270.6</td>\n",
       "      <td>288.6</td>\n",
       "      <td>147.0</td>\n",
       "      <td>145.4</td>\n",
       "      <td>-1160.0</td>\n",
       "      <td>-18.0</td>\n",
       "      <td>1.6</td>\n",
       "      <td>gbr</td>\n",
       "      <td>usa</td>\n",
       "    </tr>\n",
       "    <tr>\n",
       "      <th>4</th>\n",
       "      <td>Frances Tiafoe</td>\n",
       "      <td>Daniel Evans</td>\n",
       "      <td>2310.0</td>\n",
       "      <td>1131.0</td>\n",
       "      <td>282.3</td>\n",
       "      <td>260.8</td>\n",
       "      <td>137.8</td>\n",
       "      <td>136.7</td>\n",
       "      <td>1179.0</td>\n",
       "      <td>21.5</td>\n",
       "      <td>1.1</td>\n",
       "      <td>usa</td>\n",
       "      <td>gbr</td>\n",
       "    </tr>\n",
       "    <tr>\n",
       "      <th>...</th>\n",
       "      <td>...</td>\n",
       "      <td>...</td>\n",
       "      <td>...</td>\n",
       "      <td>...</td>\n",
       "      <td>...</td>\n",
       "      <td>...</td>\n",
       "      <td>...</td>\n",
       "      <td>...</td>\n",
       "      <td>...</td>\n",
       "      <td>...</td>\n",
       "      <td>...</td>\n",
       "      <td>...</td>\n",
       "      <td>...</td>\n",
       "    </tr>\n",
       "    <tr>\n",
       "      <th>855</th>\n",
       "      <td>Taylor Fritz</td>\n",
       "      <td>Aslan Karatsev</td>\n",
       "      <td>3100.0</td>\n",
       "      <td>1193.0</td>\n",
       "      <td>288.6</td>\n",
       "      <td>268.0</td>\n",
       "      <td>145.4</td>\n",
       "      <td>131.9</td>\n",
       "      <td>1907.0</td>\n",
       "      <td>20.6</td>\n",
       "      <td>13.5</td>\n",
       "      <td>usa</td>\n",
       "      <td>rus</td>\n",
       "    </tr>\n",
       "    <tr>\n",
       "      <th>856</th>\n",
       "      <td>Lorenzo Sonego</td>\n",
       "      <td>Aslan Karatsev</td>\n",
       "      <td>990.0</td>\n",
       "      <td>1193.0</td>\n",
       "      <td>277.2</td>\n",
       "      <td>268.0</td>\n",
       "      <td>132.2</td>\n",
       "      <td>131.9</td>\n",
       "      <td>-203.0</td>\n",
       "      <td>9.2</td>\n",
       "      <td>0.3</td>\n",
       "      <td>ita</td>\n",
       "      <td>rus</td>\n",
       "    </tr>\n",
       "    <tr>\n",
       "      <th>857</th>\n",
       "      <td>Andrey Rublev</td>\n",
       "      <td>Aslan Karatsev</td>\n",
       "      <td>4805.0</td>\n",
       "      <td>1193.0</td>\n",
       "      <td>279.4</td>\n",
       "      <td>268.0</td>\n",
       "      <td>146.7</td>\n",
       "      <td>131.9</td>\n",
       "      <td>3612.0</td>\n",
       "      <td>11.4</td>\n",
       "      <td>14.8</td>\n",
       "      <td>rus</td>\n",
       "      <td>rus</td>\n",
       "    </tr>\n",
       "    <tr>\n",
       "      <th>858</th>\n",
       "      <td>Frances Tiafoe</td>\n",
       "      <td>Aslan Karatsev</td>\n",
       "      <td>2310.0</td>\n",
       "      <td>1193.0</td>\n",
       "      <td>282.3</td>\n",
       "      <td>268.0</td>\n",
       "      <td>137.8</td>\n",
       "      <td>131.9</td>\n",
       "      <td>1117.0</td>\n",
       "      <td>14.3</td>\n",
       "      <td>5.9</td>\n",
       "      <td>usa</td>\n",
       "      <td>rus</td>\n",
       "    </tr>\n",
       "    <tr>\n",
       "      <th>859</th>\n",
       "      <td>Ben Shelton</td>\n",
       "      <td>Aslan Karatsev</td>\n",
       "      <td>2215.0</td>\n",
       "      <td>1193.0</td>\n",
       "      <td>282.8</td>\n",
       "      <td>268.0</td>\n",
       "      <td>127.3</td>\n",
       "      <td>131.9</td>\n",
       "      <td>1022.0</td>\n",
       "      <td>14.8</td>\n",
       "      <td>-4.6</td>\n",
       "      <td>usa</td>\n",
       "      <td>rus</td>\n",
       "    </tr>\n",
       "  </tbody>\n",
       "</table>\n",
       "<p>860 rows × 13 columns</p>\n",
       "</div>"
      ],
      "text/plain": [
       "            winner_name       loser_name  winner_rank  loser_rank  \\\n",
       "0        Frances Tiafoe  Lorenzo Musetti       2310.0      1470.0   \n",
       "1          Taylor Fritz   Hubert Hurkacz       3100.0      3245.0   \n",
       "2    Stefanos Tsitsipas      Borna Coric       4235.0      1135.0   \n",
       "3        Cameron Norrie     Taylor Fritz       1940.0      3100.0   \n",
       "4        Frances Tiafoe     Daniel Evans       2310.0      1131.0   \n",
       "..                  ...              ...          ...         ...   \n",
       "855        Taylor Fritz   Aslan Karatsev       3100.0      1193.0   \n",
       "856      Lorenzo Sonego   Aslan Karatsev        990.0      1193.0   \n",
       "857       Andrey Rublev   Aslan Karatsev       4805.0      1193.0   \n",
       "858      Frances Tiafoe   Aslan Karatsev       2310.0      1193.0   \n",
       "859         Ben Shelton   Aslan Karatsev       2215.0      1193.0   \n",
       "\n",
       "     winner_serve_rating  loser_serve_rating  winner_return_rating  \\\n",
       "0                  282.3               265.3                 137.8   \n",
       "1                  288.6               295.5                 145.4   \n",
       "2                  292.0               264.0                 133.5   \n",
       "3                  270.6               288.6                 147.0   \n",
       "4                  282.3               260.8                 137.8   \n",
       "..                   ...                 ...                   ...   \n",
       "855                288.6               268.0                 145.4   \n",
       "856                277.2               268.0                 132.2   \n",
       "857                279.4               268.0                 146.7   \n",
       "858                282.3               268.0                 137.8   \n",
       "859                282.8               268.0                 127.3   \n",
       "\n",
       "     loser_return_rating  rank_diff  serve_diff  return_diff winner_country  \\\n",
       "0                  152.4      840.0        17.0        -14.6            usa   \n",
       "1                  124.6     -145.0        -6.9         20.8            usa   \n",
       "2                  125.6     3100.0        28.0          7.9            gre   \n",
       "3                  145.4    -1160.0       -18.0          1.6            gbr   \n",
       "4                  136.7     1179.0        21.5          1.1            usa   \n",
       "..                   ...        ...         ...          ...            ...   \n",
       "855                131.9     1907.0        20.6         13.5            usa   \n",
       "856                131.9     -203.0         9.2          0.3            ita   \n",
       "857                131.9     3612.0        11.4         14.8            rus   \n",
       "858                131.9     1117.0        14.3          5.9            usa   \n",
       "859                131.9     1022.0        14.8         -4.6            usa   \n",
       "\n",
       "    loser_country  \n",
       "0             ita  \n",
       "1             pol  \n",
       "2             cro  \n",
       "3             usa  \n",
       "4             gbr  \n",
       "..            ...  \n",
       "855           rus  \n",
       "856           rus  \n",
       "857           rus  \n",
       "858           rus  \n",
       "859           rus  \n",
       "\n",
       "[860 rows x 13 columns]"
      ]
     },
     "execution_count": 9,
     "metadata": {},
     "output_type": "execute_result"
    }
   ],
   "source": [
    "overall_df = pd.read_csv('overall_df.csv')\n",
    "serve_df = pd.read_csv('serve_leader_df.csv')\n",
    "return_df = pd.read_csv('serve_return.csv')\n",
    "\n",
    "winner_country = []\n",
    "loser_country = []\n",
    "\n",
    "for i in range(len(overall_df)):\n",
    "  if serve_df[serve_df.name == overall_df.loc[i].winner_name].country.iloc[0] is None: winner_country.append(return_df[return_df.Name == overall_df.loc[i].winner_name].country.iloc[0])\n",
    "  else: winner_country.append(serve_df[serve_df.name == overall_df.loc[i].winner_name].country.iloc[0])\n",
    "\n",
    "  if serve_df[serve_df.name == overall_df.loc[i].loser_name].country.iloc[0] is None: loser_country.append(return_df[return_df.Name == overall_df.loc[i].loser_name].country.iloc[0])\n",
    "  else: loser_country.append(serve_df[serve_df.name == overall_df.loc[i].loser_name].country.iloc[0])\n",
    "\n",
    "overall_df['winner_country'] = winner_country\n",
    "overall_df['loser_country'] = loser_country\n",
    "\n",
    "overall_df = overall_df.drop(overall_df.columns[0], axis=1)\n",
    "overall_df"
   ]
  },
  {
   "cell_type": "markdown",
   "id": "76ea67c0",
   "metadata": {},
   "source": [
    "We then find the individual number of wins and losses for every country found in the above DataFrame, and create a visualization of the win/loss ratio for the countries"
   ]
  },
  {
   "cell_type": "code",
   "execution_count": 10,
   "id": "dc72d0f6",
   "metadata": {},
   "outputs": [
    {
     "data": {
      "image/png": "[encoded data removed]",
      "text/plain": [
       "<Figure size 1200x800 with 1 Axes>"
      ]
     },
     "metadata": {},
     "output_type": "display_data"
    }
   ],
   "source": [
    "countries = []\n",
    "countries_win = {}\n",
    "countries_loss = {}\n",
    "\n",
    "for i in range(len(overall_df)):\n",
    "  if overall_df.winner_country[i] not in countries and overall_df.loser_country[i] not in countries:\n",
    "    countries.append(overall_df.winner_country[i])\n",
    "\n",
    "  if overall_df.winner_country[i] not in countries_win:\n",
    "    countries_win[overall_df.winner_country[i]] = 1\n",
    "  else: \n",
    "    countries_win[overall_df.winner_country[i]] += 1\n",
    "\n",
    "  if overall_df.loser_country[i] not in countries_loss:\n",
    "    countries_loss[overall_df.loser_country[i]] = 1\n",
    "  else: \n",
    "    countries_loss[overall_df.loser_country[i]] += 1\n",
    "\n",
    "country_points = []\n",
    "for country in countries:\n",
    "  country_points.append([countries_loss[country], countries_win[country]])\n",
    "\n",
    "plt.figure(figsize=(6,4), dpi=200)\n",
    "for i in range(len(countries)):\n",
    "  plt.scatter(np.array(country_points)[i,0], np.array(country_points)[i,1])\n",
    "plt.xlabel('Losses')\n",
    "plt.ylabel('Wins')\n",
    "plt.title('Every Country Win/Loss Ratio')\n",
    "plt.legend(countries, fontsize='4', ncol=11)\n",
    "plt.show()"
   ]
  },
  {
   "cell_type": "markdown",
   "id": "95352d19",
   "metadata": {},
   "source": [
    "Now we calculate the win and loss ratios for all the countries. We calculate the average win and loss ratio for non-Spain countries, but only looking at the outcomes of games that don't include Spanish players. Then we calculate the Spanish win and loss ratios for all of the games that do include Spanish players."
   ]
  },
  {
   "cell_type": "code",
   "execution_count": 11,
   "id": "185efd23",
   "metadata": {},
   "outputs": [
    {
     "name": "stdout",
     "output_type": "stream",
     "text": [
      "avg_win_ratio: 0.48091482376415917\n",
      "esp_win_ratio: 0.5256410256410257\n",
      "avg_loss_ratio: 0.5380281533152999\n",
      "esp_loss_ratio: 0.532051282051282\n"
     ]
    }
   ],
   "source": [
    "countries_win_ratio = {}\n",
    "countries_loss_ratio = {}\n",
    "\n",
    "for countries in countries_win.keys():\n",
    "  countries_win_ratio[countries] = countries_win[countries] / len(overall_df[(overall_df.winner_country == countries) | (overall_df.loser_country == countries)])\n",
    "\n",
    "for countries in countries_loss.keys():\n",
    "  countries_loss_ratio[countries] = countries_loss[countries] / len(overall_df[(overall_df.winner_country == countries) | (overall_df.loser_country == countries)])\n",
    "\n",
    "avg_win_ratio = 0\n",
    "for countries in countries_win_ratio.keys():\n",
    "  if countries != 'esp': avg_win_ratio += countries_win_ratio[countries]\n",
    "  else: esp_win_ratio = countries_win_ratio[countries]\n",
    "avg_win_ratio = avg_win_ratio / (len(countries_win_ratio) - 1)\n",
    "\n",
    "avg_loss_ratio = 0\n",
    "for countries in countries_loss_ratio.keys():\n",
    "  if countries != 'esp': avg_loss_ratio += countries_loss_ratio[countries]\n",
    "  else: esp_loss_ratio = countries_loss_ratio[countries]\n",
    "avg_loss_ratio = avg_loss_ratio / (len(countries_win_ratio) - 1)\n",
    "\n",
    "print(\"avg_win_ratio: \"+str(avg_win_ratio))\n",
    "print(\"esp_win_ratio: \"+str(esp_win_ratio))\n",
    "print(\"avg_loss_ratio: \"+str(avg_loss_ratio))\n",
    "print(\"esp_loss_ratio: \"+str(esp_loss_ratio))"
   ]
  },
  {
   "cell_type": "markdown",
   "id": "2b17ed2a",
   "metadata": {},
   "source": [
    "Now we create a binomial distribution of the Non-Spain country win ratio and plot the number of games a Spanish player has won to see whether the null hypothesis that Spanish players are not better than other players can be rejected. We calculate the p-values to do so."
   ]
  },
  {
   "cell_type": "code",
   "execution_count": 15,
   "id": "c23c3123",
   "metadata": {},
   "outputs": [
    {
     "name": "stdout",
     "output_type": "stream",
     "text": [
      "z-score: 1.1180749657707099\n",
      "p-value: 0.13176748867385218\n"
     ]
    },
    {
     "data": {
      "image/png": "[encoded data removed]",
      "text/plain": [
       "<Figure size 640x480 with 1 Axes>"
      ]
     },
     "metadata": {},
     "output_type": "display_data"
    }
   ],
   "source": [
    "win_dist = np.random.binomial(esp_num_games, avg_win_ratio, size=1000)\n",
    "plt.hist(win_dist, bins=10)\n",
    "plt.vlines(x=countries_win['esp'], ymin=0, ymax=350, color='red')\n",
    "plt.plot()\n",
    "\n",
    "mean = esp_num_games*avg_win_ratio\n",
    "std = np.sqrt(esp_num_games*avg_win_ratio*(1-avg_win_ratio))\n",
    "z_score = (countries_win['esp'] - mean)/std\n",
    "print(\"z-score: \"+str(z_score))\n",
    "\n",
    "p_value = scipy.stats.norm.sf(abs(z_score))\n",
    "print('p-value: ' + str(p_value))"
   ]
  },
  {
   "cell_type": "markdown",
   "id": "85930e7a",
   "metadata": {},
   "source": [
    "We do the same for the losses"
   ]
  },
  {
   "cell_type": "code",
   "execution_count": 16,
   "id": "139c3fe3",
   "metadata": {},
   "outputs": [
    {
     "name": "stdout",
     "output_type": "stream",
     "text": [
      "z_score: -0.1497359027217839\n",
      "p-value: 0.44048649060972117\n"
     ]
    },
    {
     "data": {
      "image/png": "[encoded data removed]",
      "text/plain": [
       "<Figure size 640x480 with 1 Axes>"
      ]
     },
     "metadata": {},
     "output_type": "display_data"
    }
   ],
   "source": [
    "loss_dist = np.random.binomial(esp_num_games, avg_loss_ratio, size=1000)\n",
    "plt.hist(loss_dist, bins=10)\n",
    "plt.vlines(x=countries_loss['esp'], ymin=0, ymax=350, color='red')\n",
    "plt.plot()\n",
    "\n",
    "mean = esp_num_games*avg_loss_ratio\n",
    "std = np.sqrt(esp_num_games*avg_loss_ratio*(1-avg_loss_ratio))\n",
    "z_score = (countries_loss['esp'] - mean)/std\n",
    "print(\"z_score: \"+str(z_score))\n",
    "\n",
    "p_value = scipy.stats.norm.sf(abs(z_score))\n",
    "print('p-value: ' + str(p_value))"
   ]
  },
  {
   "cell_type": "markdown",
   "id": "190c5fe8",
   "metadata": {},
   "source": [
    "As one can see, the z_score is close to and under than 1 standard deviation from the median, these correspond to p-values above 0.05, so we fail to reject the null hypothesis, Spanish players do not perform better than non-Spanish players"
   ]
  },
  {
   "cell_type": "markdown",
   "id": "0f3c8c59",
   "metadata": {},
   "source": [
    "# Conclusions and Questions for Reviewers"
   ]
  },
  {
   "cell_type": "markdown",
   "id": "82e8dd0b",
   "metadata": {},
   "source": [
    "## Predicting Tennis Match Outcomes with Logistic Regression\n",
    "\n",
    "We have shown that, by considering rankings and server/return ratings compiled by the ATP organization of men's tennis players, we can train a logistic regression to predict the outcome of a tennis match based on the differences between the rankings and ratings of the two players in the match. We have shown that this model performs better than randomly selecting the outcome of tennis matches at a level far in excess of 5%. These models have typical roc-auc scores between 0.6 and 0.7, which is closer to random guessing than being a perfect classifier. \n",
    "\n",
    "We had good reason to expect that our model would perform better than guessing on a large sample, since tennis players that are generally thought of as \"better\" according to experts in the field should, more often than not, beat tennis players that are generally thought of as \"worse\". However, the fact that our model is closer to randomly guessing than being a perfect classifier is also to be expected, for reasons that we will go into in the following paragraphs. \n",
    "\n",
    "Because of the high degree of multicollinearity between serve rating, return rating, and overall rating, we find that the predictive power of our model does not improve when taking into account the serve rating and the return rating in addition to the overall ranking. We further find that the serve rating is a more powerful classifer based on auc-roc score than the return rating.\n",
    "\n",
    "### What does our model say about tennis? \n",
    "Tennis is a \"one-on-one\" sport (unlike many other sports, like American football, where as many as 22 players see the field simultaneously), and so it is easy to trick oneself into thinking that all players can be ranked on a spectrum from \"good\" to \"bad\", and that \"better\" players will always defeat \"worse players.\" Any tennis aficionado could have already told you that better players do not always beat worse players, and that some players \"match up\" well against players who are typically ranked above them. In fact, if it were the case that better players always beat their less-skilled opponents, there would be almost no point in watching tennis, since you could just look up a player's rankings and decide the outcome of the match before it is even played. Fortunately, our model bears out these facts of tennis experience. \n",
    "\n",
    "#### Ranking Players Doesn't Tell You Everything about the Matchup\n",
    "Our analyses show that while there is substantial amount of multicollinearity between skill in different categories of tennis, the correlations between the ranking metrics that we considered does not exceed 0.5. In other words, we ought not to expect that a high-ranked tennis player is automatically good at both serving and returning compared to other top professional tennis players. Because there are so many factors that go into a tennis match, including circumstances about the match (to be explored in the section about playing surfaces below), and also circumstances about the strengths and weaknesses of different players, not to mention interactions between the strengths and weaknesses of different players, we really can't say with much confidence whether one player will beat another, even if we can say that on average one player is better than another. In short, rankings are descriptive of players over a long sample size of games, but they are not totally prescriptive about the outcome of matches. \n",
    "\n",
    "#### How Good are Predictions Based on Tennis Ranking and Skill Ratings Alone\n",
    "Our model earns a ROC-AUC score of about 0.7 on a big data set. We have shown, through cross-validation and significance testing, that this score is not a \"fluke\". Therefore, we know that tennis matches are not truly random, and rankings do contain information about the skill level of players. However, our model fails because of three major blind spots. (1) The skill level of players varies over shorter time scales than our metrics are sensitive to. If a player has a \"bad day\" or the stomach flu, we wouldn't know anything about it from our match. Even if metrics like ranking can track the long-term trajectory of a player, maybe as they mature and age, they won't be able to keep up with the day to day fluctuations in a player's skill. (2) Interactions between different effects are not accounted for in our model. If one player has a really strong serve, and the other has a really weak return, this will matter more than either of these effects in isolation. If we had more time, we likely would have been well-advised to explore interactions between different inputs to our model. (3) As we will discuss below, many things go into a tennis match, including where/when it is played, what surface it is played on, and the context of the match, that we do not model for by treating every tennis match as an independent event. \n",
    "\n",
    "## Additional Analyses\n",
    "\n",
    "To further flesh out our understanding of what factors affect the outcome of tennis matches and at what level they influence the outcome, we performed two additional analyses that we preregistered in phase III. First, we attempted to determine whether the strength of the tennis program in the home country of a tennis players may affect their likelihood to win a match by considering the difference in win probability between Spain and countries other than Spain. Spain was selected because it has a world-famous tennis program. We further assessed how the surface of court where the tennis match affects the quality of serves by tennis players. We speculated that for certain players who specialize in a strong serve, the playing surface may significantly increase or decrease their probability of coming out of a match victorious. \n",
    "\n",
    "We have also shown that Spanish players do not perform significantly better than non-Spanish players, through looking at the history of matches in 2023. The difference in the probability of Spanish players winning or losing vs Non-Spanish players winning or losing is not statistically significant.\n",
    "\n",
    "Based on the result of the Welch’s t-test regarding hard vs clay courts, we found that there is a significant difference in mean serve rating (p value = 1.16e-11). One reason for this difference may be that tennis players practice more on hard courts compared to clay ones. Another difference is that clay courts cause the game to play “slower”, meaning much of the ball’s energy is lost when it hits the ground. This makes a serve easier to receive as opposed to a faster surface, like a hard court.  Because of this, in a future model it would be worthwhile to include the playing surface as an additional input variable that would potentially increase the precision of the model. \n",
    "\n",
    "## Overall Conclusions\n",
    "\n",
    "Tennis is a very subtle game. We have shown that many factors enter into the outcome of tennis matches at the statistically-significant level, and some surprising factors do not. While our model is unlikely to make us a fortune in Vegas from predicting the outcomes of matches, we feel that this analysis has shed some light on the game of tennis by drawing our attention to factors that do affect the outcome of matches and \"mythbusting\" some factors that appear not to affect the outcome of tennis matches.\n",
    "\n",
    "We feel that we addressed most of the points of our research question. \n",
    "\n"
   ]
  },
  {
   "cell_type": "markdown",
   "id": "98e72abc",
   "metadata": {},
   "source": [
    "# Works Cited"
   ]
  },
  {
   "cell_type": "markdown",
   "id": "e674969d",
   "metadata": {},
   "source": [
    "Using the locale function: https://docs.python.org/3/library/locale.html\n",
    "\n",
    "ATP Match results: https://github.com/JeffSackmann/tennis_atp/blob/master/atp_matches_2023.csv\n",
    "\n",
    "ATP tennis stats: https://www.wheeloratings.com/tennis_atp_stats_last52.html\n",
    "\n",
    "ATP men's singles rankings: https://www.atptour.com/rankings/singles\n",
    "\n",
    "The Washington Post Tennis Betting: https://www.washingtonpost.com/world/interactive/2023/tennis-match-fixing-itf-grigor-sargsyan/#:~:text=Gambling%20on%20tennis%20has%20exploded,to%20roughly%20%2450%20billion%20annually.\n",
    "\n",
    "Web Scraping Images: https://plainenglish.io/blog/web-scraping-images-with-python-and-selenium-792e452abd70"
   ]
  },
  {
   "cell_type": "markdown",
   "id": "40d2354b",
   "metadata": {},
   "source": [
    "# Appendix - Data Cleaning"
   ]
  },
  {
   "cell_type": "markdown",
   "id": "ff1ff412",
   "metadata": {},
   "source": [
    "# Data Cleaning"
   ]
  },
  {
   "cell_type": "markdown",
   "id": "dd47cf57",
   "metadata": {},
   "source": [
    "### Overall Rankings\n",
    "We will begin by querying the ATP tour website. We will use beautiful soup to parse the html file, closely following the procedure from Discussion 3."
   ]
  },
  {
   "cell_type": "code",
   "execution_count": 2,
   "id": "b9f3937b",
   "metadata": {},
   "outputs": [],
   "source": [
    "atp_rankings_url = \"https://www.atptour.com/rankings/singles\"\n",
    "atp_rankings_result = requests.get(atp_rankings_url)\n",
    "if atp_rankings_result.status_code != 200:\n",
    "  print(\"something went wrong:\", atp_rankings_result.status_code, atp_rankings_result.reason)\n",
    "with open(\"atp_ranking.html\", \"w\") as writer:\n",
    "  writer.write(atp_rankings_result.text)\n",
    "with open(\"atp_ranking.html\", \"r\") as reader:\n",
    "  html_source = reader.read()\n",
    "page = BeautifulSoup(html_source, \"html.parser\")"
   ]
  },
  {
   "cell_type": "markdown",
   "id": "04533625",
   "metadata": {},
   "source": [
    "Next, we will locate the table where the player rankings are stored on the ATP website. I will iterate through each row in the table. The number of items in each row is unlabeled and highly irregular, so we will need to take some ugly shortcuts to determine which values correspond to the player's name, and which corresponds to their ranking as compiled by ATP. Essentially, for each item in each row, we try to convert it to a float - if we get an error, we know that the item in the row is a string. The only string value in each row is the player name, so we know that item corresponds to the player name. If we are successful in converting our item to a float, then the only values in the table which will exceed 610 will be the player rankings. So we check if the value is larger than 610, and if it is, we add it to the player rankings list. At the end, we verify that the length of these lists are the same length, confirming that we didn't miss any values. \n",
    "\n",
    "This method is extremely messy because it is not invariant under changes in the format of the table - if extra values are added to each row that are strings, this step will fail. If there is a new row added to the table with floats that are in excess of 610, this step will fail. However, data cleaning is messy and we only need to get this data into a csv one time for it to work reliably, so we will proceed with this method for now. Perhaps in later phases we can go back and clean up this step."
   ]
  },
  {
   "cell_type": "code",
   "execution_count": 5,
   "id": "a98f1f92",
   "metadata": {},
   "outputs": [
    {
     "name": "stdout",
     "output_type": "stream",
     "text": [
      "100\n"
     ]
    },
    {
     "data": {
      "text/html": [
       "<div>\n",
       "<style scoped>\n",
       "    .dataframe tbody tr th:only-of-type {\n",
       "        vertical-align: middle;\n",
       "    }\n",
       "\n",
       "    .dataframe tbody tr th {\n",
       "        vertical-align: top;\n",
       "    }\n",
       "\n",
       "    .dataframe thead th {\n",
       "        text-align: right;\n",
       "    }\n",
       "</style>\n",
       "<table border=\"1\" class=\"dataframe\">\n",
       "  <thead>\n",
       "    <tr style=\"text-align: right;\">\n",
       "      <th></th>\n",
       "      <th>player</th>\n",
       "      <th>ranking</th>\n",
       "    </tr>\n",
       "  </thead>\n",
       "  <tbody>\n",
       "    <tr>\n",
       "      <th>0</th>\n",
       "      <td>Novak Djokovic</td>\n",
       "      <td>9945.0</td>\n",
       "    </tr>\n",
       "    <tr>\n",
       "      <th>1</th>\n",
       "      <td>Carlos Alcaraz</td>\n",
       "      <td>8455.0</td>\n",
       "    </tr>\n",
       "    <tr>\n",
       "      <th>2</th>\n",
       "      <td>Daniil Medvedev</td>\n",
       "      <td>7200.0</td>\n",
       "    </tr>\n",
       "    <tr>\n",
       "      <th>3</th>\n",
       "      <td>Jannik Sinner</td>\n",
       "      <td>5490.0</td>\n",
       "    </tr>\n",
       "    <tr>\n",
       "      <th>4</th>\n",
       "      <td>Andrey Rublev</td>\n",
       "      <td>4805.0</td>\n",
       "    </tr>\n",
       "    <tr>\n",
       "      <th>...</th>\n",
       "      <td>...</td>\n",
       "      <td>...</td>\n",
       "    </tr>\n",
       "    <tr>\n",
       "      <th>95</th>\n",
       "      <td>Quentin Halys</td>\n",
       "      <td>640.0</td>\n",
       "    </tr>\n",
       "    <tr>\n",
       "      <th>96</th>\n",
       "      <td>Jason Kubler</td>\n",
       "      <td>631.0</td>\n",
       "    </tr>\n",
       "    <tr>\n",
       "      <th>97</th>\n",
       "      <td>Flavio Cobolli</td>\n",
       "      <td>619.0</td>\n",
       "    </tr>\n",
       "    <tr>\n",
       "      <th>98</th>\n",
       "      <td>Alex Michelsen</td>\n",
       "      <td>619.0</td>\n",
       "    </tr>\n",
       "    <tr>\n",
       "      <th>99</th>\n",
       "      <td>Maximilian Marterer</td>\n",
       "      <td>616.0</td>\n",
       "    </tr>\n",
       "  </tbody>\n",
       "</table>\n",
       "<p>100 rows × 2 columns</p>\n",
       "</div>"
      ],
      "text/plain": [
       "                 player  ranking\n",
       "0        Novak Djokovic   9945.0\n",
       "1        Carlos Alcaraz   8455.0\n",
       "2       Daniil Medvedev   7200.0\n",
       "3         Jannik Sinner   5490.0\n",
       "4         Andrey Rublev   4805.0\n",
       "..                  ...      ...\n",
       "95        Quentin Halys    640.0\n",
       "96         Jason Kubler    631.0\n",
       "97       Flavio Cobolli    619.0\n",
       "98       Alex Michelsen    619.0\n",
       "99  Maximilian Marterer    616.0\n",
       "\n",
       "[100 rows x 2 columns]"
      ]
     },
     "execution_count": 5,
     "metadata": {},
     "output_type": "execute_result"
    }
   ],
   "source": [
    "atp_rankings = page.find(\"table\", {\"id\":\"player-rank-detail-ajax\"})\n",
    "item_count = 0\n",
    "items = []\n",
    "rankings = []\n",
    "players = []\n",
    "for row in atp_rankings.tbody.findAll('tr'):\n",
    "    for item in row.findAll('td'):\n",
    "        items.append(item)\n",
    "        item_count += 1\n",
    "        try:\n",
    "            items[item_count -1] = locale.atof(items[item_count-1].text)\n",
    "            \n",
    "            if(items[item_count-1] > 610):\n",
    "                rankings.append(items[item_count -1])\n",
    "        except:\n",
    "            if len(items[item_count-1].text.strip()) > 0:\n",
    "                players.append(items[item_count-1].text.strip())\n",
    "                \n",
    "atp_items = page.find_all(\"td\", {\"data-type\": \"text_align:left\"})\n",
    "rankings_df = pd.DataFrame({\"player\":players, \"ranking\":rankings})\n",
    "rankings_df.to_csv(\"atp_rankings.csv\")\n",
    "rankings_df"
   ]
  },
  {
   "cell_type": "markdown",
   "id": "40181e5c",
   "metadata": {},
   "source": [
    "### Serve Leaders\n",
    "This code is using the Firefox webdriver to get the HTML data from the atp website. We are using a webdriver because the data were are trying to scrape is dynamically loaded, and as such doesn't appear when BeautifulSoup is used. "
   ]
  },
  {
   "cell_type": "code",
   "execution_count": 4,
   "id": "63e90786",
   "metadata": {},
   "outputs": [],
   "source": [
    "atp_serve_url = 'https://www.atptour.com/en/stats/leaderboard?boardType=serve&timeFrame=52Week&surface=all&versusRank=all&formerNo1=false'\n",
    "driver = webdriver.Firefox(executable_path=str(str(os.getcwd())+'/geckodriver'))\n",
    "driver.get(atp_serve_url)\n",
    "driver.implicitly_wait(2)"
   ]
  },
  {
   "cell_type": "markdown",
   "id": "202445ab",
   "metadata": {},
   "source": [
    "We are finding every HTML instance of the tag name 'tr', which includes the rows of data for every player in the top 80 serve leaders. These are stored in r, an array of webdriver objects"
   ]
  },
  {
   "cell_type": "code",
   "execution_count": 5,
   "id": "79168295",
   "metadata": {},
   "outputs": [
    {
     "name": "stdout",
     "output_type": "stream",
     "text": [
      "r length: 78\n",
      "r index 0: <selenium.webdriver.firefox.webelement.FirefoxWebElement (session=\"ec13a12d-122d-4359-bed0-22405e2cafc4\", element=\"b0c3bf23-1ca6-4e34-b600-cfd84521958a\")>\n"
     ]
    }
   ],
   "source": [
    "table = driver.find_element_by_id('leaderboardTable')\n",
    "r = table.find_elements_by_tag_name('tr')\n",
    "c = table.find_elements_by_tag_name('img')\n",
    "\n",
    "print(\"r length: \"+str(len(r)))\n",
    "print(\"r index 0: \"+str(r[0]))"
   ]
  },
  {
   "cell_type": "markdown",
   "id": "b9ce65f0",
   "metadata": {},
   "source": [
    "For every row in the atp serve leaders website, we are taking the corresponding webdriver object and taking out the name of the player and the serve rating and serve-related-data of the player, storing them in names and serve_df\n",
    "\n",
    "In addition, we separately webscrape the nationalities of all the players using a separate .get_attribute() method. The nationality isn't explicity stated, rather it is stored inside the name for a .svg file link. .get_attribute('src') is able to scrape the .svg file name and the nationality can be extracted from that. The nationality is stated in a three-letter code, for example 'esp' corresponds to Spain"
   ]
  },
  {
   "cell_type": "code",
   "execution_count": 6,
   "id": "2e6257ff",
   "metadata": {},
   "outputs": [
    {
     "name": "stdout",
     "output_type": "stream",
     "text": [
      "names length: 78\n",
      "names first 5: ['Hubert Hurkacz', 'Stefanos Tsitsipas', 'Nicolas Jarry', 'Novak Djokovic', 'Christopher Eubanks']\n",
      "serve_df length: 78\n",
      "serve_df first 5: [array([295.5,  64. ,  79.6,  50.7,  88. ,  15.2,   2. ]), array([291.6,  63.9,  78.3,  55.1,  88.7,   7.8,   2.2]), array([290.6,  65.1,  76.8,  53.9,  87.8,   9.1,   2.1]), array([290.6,  63.9,  76.4,  57.9,  88.5,   6.9,   3. ]), array([289.7,  68.8,  73.9,  52.4,  85.6,  12.1,   3.1])]\n"
     ]
    }
   ],
   "source": [
    "names = []  \n",
    "serve_df = []\n",
    "for row in r:\n",
    "  name = row.text.split('\\n')[1]\n",
    "  row = np.array(row.text.split('\\n')[2].split(' '))\n",
    "  for i in range(len(row)): \n",
    "    if '%' in row[i]: row[i] = row[i].replace('%', '')\n",
    "\n",
    "  names.append(name)\n",
    "  serve_df.append(row.astype(float))\n",
    "\n",
    "print(\"names length: \"+str(len(names)))\n",
    "print(\"names first 5: \"+str(names[0:5]))\n",
    "print(\"serve_df length: \"+str(len(serve_df)))\n",
    "print(\"serve_df first 5: \"+str(serve_df[0:5]))\n",
    "\n",
    "countries = []\n",
    "index = 0\n",
    "for row in c:\n",
    "  if index%2 == 1: countries.append(row.get_attribute('src')[-7:-4])\n",
    "  index += 1"
   ]
  },
  {
   "cell_type": "markdown",
   "id": "35745817",
   "metadata": {},
   "source": [
    "Here we are processing the names and serve_df data and putting it all into one dataframe"
   ]
  },
  {
   "cell_type": "code",
   "execution_count": 7,
   "id": "08e67052",
   "metadata": {},
   "outputs": [
    {
     "data": {
      "text/html": [
       "<div>\n",
       "<style scoped>\n",
       "    .dataframe tbody tr th:only-of-type {\n",
       "        vertical-align: middle;\n",
       "    }\n",
       "\n",
       "    .dataframe tbody tr th {\n",
       "        vertical-align: top;\n",
       "    }\n",
       "\n",
       "    .dataframe thead th {\n",
       "        text-align: right;\n",
       "    }\n",
       "</style>\n",
       "<table border=\"1\" class=\"dataframe\">\n",
       "  <thead>\n",
       "    <tr style=\"text-align: right;\">\n",
       "      <th></th>\n",
       "      <th>name</th>\n",
       "      <th>country</th>\n",
       "      <th>serve_rating</th>\n",
       "      <th>1st_serve_%</th>\n",
       "      <th>1st_serve_points_won_%</th>\n",
       "      <th>2nd_serve_points_won_%</th>\n",
       "      <th>service_games_won_%</th>\n",
       "      <th>avg_aces_per_match</th>\n",
       "      <th>avg_double_faults_per_match</th>\n",
       "    </tr>\n",
       "  </thead>\n",
       "  <tbody>\n",
       "    <tr>\n",
       "      <th>0</th>\n",
       "      <td>Hubert Hurkacz</td>\n",
       "      <td>pol</td>\n",
       "      <td>295.5</td>\n",
       "      <td>64.0</td>\n",
       "      <td>79.6</td>\n",
       "      <td>50.7</td>\n",
       "      <td>88.0</td>\n",
       "      <td>15.2</td>\n",
       "      <td>2.0</td>\n",
       "    </tr>\n",
       "    <tr>\n",
       "      <th>1</th>\n",
       "      <td>Novak Djokovic</td>\n",
       "      <td>srb</td>\n",
       "      <td>292.2</td>\n",
       "      <td>64.3</td>\n",
       "      <td>76.8</td>\n",
       "      <td>57.9</td>\n",
       "      <td>89.0</td>\n",
       "      <td>7.0</td>\n",
       "      <td>2.8</td>\n",
       "    </tr>\n",
       "    <tr>\n",
       "      <th>2</th>\n",
       "      <td>Stefanos Tsitsipas</td>\n",
       "      <td>gre</td>\n",
       "      <td>292.0</td>\n",
       "      <td>64.1</td>\n",
       "      <td>78.3</td>\n",
       "      <td>55.2</td>\n",
       "      <td>88.7</td>\n",
       "      <td>7.9</td>\n",
       "      <td>2.2</td>\n",
       "    </tr>\n",
       "    <tr>\n",
       "      <th>3</th>\n",
       "      <td>Nicolas Jarry</td>\n",
       "      <td>chi</td>\n",
       "      <td>290.6</td>\n",
       "      <td>65.1</td>\n",
       "      <td>76.8</td>\n",
       "      <td>53.9</td>\n",
       "      <td>87.8</td>\n",
       "      <td>9.1</td>\n",
       "      <td>2.1</td>\n",
       "    </tr>\n",
       "    <tr>\n",
       "      <th>4</th>\n",
       "      <td>Christopher Eubanks</td>\n",
       "      <td>usa</td>\n",
       "      <td>289.7</td>\n",
       "      <td>68.8</td>\n",
       "      <td>73.9</td>\n",
       "      <td>52.4</td>\n",
       "      <td>85.6</td>\n",
       "      <td>12.1</td>\n",
       "      <td>3.1</td>\n",
       "    </tr>\n",
       "    <tr>\n",
       "      <th>...</th>\n",
       "      <td>...</td>\n",
       "      <td>...</td>\n",
       "      <td>...</td>\n",
       "      <td>...</td>\n",
       "      <td>...</td>\n",
       "      <td>...</td>\n",
       "      <td>...</td>\n",
       "      <td>...</td>\n",
       "      <td>...</td>\n",
       "    </tr>\n",
       "    <tr>\n",
       "      <th>73</th>\n",
       "      <td>Richard Gasquet</td>\n",
       "      <td>fra</td>\n",
       "      <td>252.4</td>\n",
       "      <td>57.8</td>\n",
       "      <td>69.5</td>\n",
       "      <td>49.2</td>\n",
       "      <td>74.0</td>\n",
       "      <td>4.8</td>\n",
       "      <td>2.9</td>\n",
       "    </tr>\n",
       "    <tr>\n",
       "      <th>74</th>\n",
       "      <td>Sebastian Ofner</td>\n",
       "      <td>aut</td>\n",
       "      <td>248.6</td>\n",
       "      <td>57.0</td>\n",
       "      <td>70.9</td>\n",
       "      <td>46.8</td>\n",
       "      <td>71.4</td>\n",
       "      <td>6.0</td>\n",
       "      <td>3.5</td>\n",
       "    </tr>\n",
       "    <tr>\n",
       "      <th>75</th>\n",
       "      <td>Jaume Munar</td>\n",
       "      <td>esp</td>\n",
       "      <td>246.9</td>\n",
       "      <td>68.0</td>\n",
       "      <td>65.3</td>\n",
       "      <td>45.2</td>\n",
       "      <td>69.0</td>\n",
       "      <td>2.4</td>\n",
       "      <td>3.0</td>\n",
       "    </tr>\n",
       "    <tr>\n",
       "      <th>76</th>\n",
       "      <td>Diego Schwartzman</td>\n",
       "      <td>arg</td>\n",
       "      <td>244.0</td>\n",
       "      <td>67.6</td>\n",
       "      <td>62.4</td>\n",
       "      <td>47.5</td>\n",
       "      <td>67.9</td>\n",
       "      <td>1.2</td>\n",
       "      <td>2.6</td>\n",
       "    </tr>\n",
       "    <tr>\n",
       "      <th>77</th>\n",
       "      <td>Bernabe Zapata Miralles</td>\n",
       "      <td>esp</td>\n",
       "      <td>242.8</td>\n",
       "      <td>66.4</td>\n",
       "      <td>63.5</td>\n",
       "      <td>45.7</td>\n",
       "      <td>67.4</td>\n",
       "      <td>1.8</td>\n",
       "      <td>2.0</td>\n",
       "    </tr>\n",
       "  </tbody>\n",
       "</table>\n",
       "<p>78 rows × 9 columns</p>\n",
       "</div>"
      ],
      "text/plain": [
       "                       name country  serve_rating  1st_serve_%  \\\n",
       "0            Hubert Hurkacz     pol         295.5         64.0   \n",
       "1            Novak Djokovic     srb         292.2         64.3   \n",
       "2        Stefanos Tsitsipas     gre         292.0         64.1   \n",
       "3             Nicolas Jarry     chi         290.6         65.1   \n",
       "4       Christopher Eubanks     usa         289.7         68.8   \n",
       "..                      ...     ...           ...          ...   \n",
       "73          Richard Gasquet     fra         252.4         57.8   \n",
       "74          Sebastian Ofner     aut         248.6         57.0   \n",
       "75              Jaume Munar     esp         246.9         68.0   \n",
       "76        Diego Schwartzman     arg         244.0         67.6   \n",
       "77  Bernabe Zapata Miralles     esp         242.8         66.4   \n",
       "\n",
       "    1st_serve_points_won_%  2nd_serve_points_won_%  service_games_won_%  \\\n",
       "0                     79.6                    50.7                 88.0   \n",
       "1                     76.8                    57.9                 89.0   \n",
       "2                     78.3                    55.2                 88.7   \n",
       "3                     76.8                    53.9                 87.8   \n",
       "4                     73.9                    52.4                 85.6   \n",
       "..                     ...                     ...                  ...   \n",
       "73                    69.5                    49.2                 74.0   \n",
       "74                    70.9                    46.8                 71.4   \n",
       "75                    65.3                    45.2                 69.0   \n",
       "76                    62.4                    47.5                 67.9   \n",
       "77                    63.5                    45.7                 67.4   \n",
       "\n",
       "    avg_aces_per_match  avg_double_faults_per_match  \n",
       "0                 15.2                          2.0  \n",
       "1                  7.0                          2.8  \n",
       "2                  7.9                          2.2  \n",
       "3                  9.1                          2.1  \n",
       "4                 12.1                          3.1  \n",
       "..                 ...                          ...  \n",
       "73                 4.8                          2.9  \n",
       "74                 6.0                          3.5  \n",
       "75                 2.4                          3.0  \n",
       "76                 1.2                          2.6  \n",
       "77                 1.8                          2.0  \n",
       "\n",
       "[78 rows x 9 columns]"
      ]
     },
     "execution_count": 7,
     "metadata": {},
     "output_type": "execute_result"
    }
   ],
   "source": [
    "serve_df = pd.DataFrame(serve_df)\n",
    "serve_df = serve_df.rename(columns={0:'serve_rating', 1:'1st_serve_%', \n",
    "                                    2:'1st_serve_points_won_%', \n",
    "                                    3:'2nd_serve_points_won_%', \n",
    "                                    4:'service_games_won_%', \n",
    "                                    5:'avg_aces_per_match', \n",
    "                                    6:'avg_double_faults_per_match'})\n",
    "\n",
    "serve_df = pd.concat([pd.Series(names), pd.Series(countries), serve_df], axis=1)\n",
    "serve_df = serve_df.rename(columns={0:'name', 1:'country'})\n",
    "\n",
    "serve_df.to_csv('serve_leader_df.csv')\n",
    "serve_df"
   ]
  },
  {
   "cell_type": "code",
   "execution_count": 48,
   "id": "8b6bb19b",
   "metadata": {},
   "outputs": [],
   "source": [
    "serve_df = pd.read_csv(\"serve_leader_df.csv\")"
   ]
  },
  {
   "cell_type": "markdown",
   "id": "3737c048",
   "metadata": {},
   "source": [
    "### Return Leaders\n",
    "This first section is initializing the webdriver object using Selenium. Because the atp website is dynamically loaded, we can't use BeautifulSoup to access the html."
   ]
  },
  {
   "cell_type": "code",
   "execution_count": 8,
   "id": "52681fbb",
   "metadata": {},
   "outputs": [],
   "source": [
    "link = 'https://www.atptour.com/en/stats/leaderboard?boardType=return&timeFrame=52Week&surface=all&versusRank=all&formerNo1=false'\n",
    "browser = webdriver.Firefox(executable_path=str(str(os.getcwd())+'/geckodriver'))\n",
    "browser.get(link)\n"
   ]
  },
  {
   "cell_type": "markdown",
   "id": "a6a95f4b",
   "metadata": {},
   "source": [
    "Next, we found the table containing all the information of return leaders in 2023. First we accessed the table element as a whole, then created a list where each element is a separate row."
   ]
  },
  {
   "cell_type": "code",
   "execution_count": 9,
   "id": "623adde3",
   "metadata": {},
   "outputs": [],
   "source": [
    "table = browser.find_element_by_id('leaderboardTable')\n",
    "r = table.find_elements_by_tag_name('tr')\n",
    "c = table.find_elements_by_tag_name('img')"
   ]
  },
  {
   "cell_type": "markdown",
   "id": "b1afce53",
   "metadata": {},
   "source": [
    "This is a quick function to make the process of getting each player's information easier. This function parses the text of each row to return a dictionary containing all the pertinent information about a player, like their name and return rating."
   ]
  },
  {
   "cell_type": "code",
   "execution_count": 10,
   "id": "b42965bd",
   "metadata": {},
   "outputs": [],
   "source": [
    "def GetInfo(id, row = r):\n",
    "    t = row[id].text\n",
    "    first_slash = t.index('\\n')\n",
    "    standing = t[:first_slash]\n",
    "    name = t[first_slash+1:t.rfind('\\n')]\n",
    "    stats = t[t.rfind('\\n')+1:].split(' ')\n",
    "    \n",
    "    return {'Name': name, 'Standing': standing, 'Return Rating': float(stats[0]), \n",
    "            '% 1st Serve Return Points W'\\\n",
    "            : float(stats[1][:-1]),\\\n",
    "            '% 2nd Serve Return Points W':float(stats[2][:-1]), \n",
    "            '% Return Games Won': float(stats[3][:-1]),\\\n",
    "            '% Break Points Converted': float(stats[4][:-1])}"
   ]
  },
  {
   "cell_type": "markdown",
   "id": "b4d44fdc",
   "metadata": {},
   "source": [
    "Finally, this cell is where the dataframe containing all the information is created. We used the GetInfo() function to  create the first row of the data frame, and then a for loop to fill it in with all the other player's information.\n",
    "\n",
    "The nationalities of the return leaders is scraped in the same way as the serve leaders."
   ]
  },
  {
   "cell_type": "code",
   "execution_count": 11,
   "id": "ca733d7c",
   "metadata": {},
   "outputs": [
    {
     "data": {
      "text/html": [
       "<div>\n",
       "<style scoped>\n",
       "    .dataframe tbody tr th:only-of-type {\n",
       "        vertical-align: middle;\n",
       "    }\n",
       "\n",
       "    .dataframe tbody tr th {\n",
       "        vertical-align: top;\n",
       "    }\n",
       "\n",
       "    .dataframe thead th {\n",
       "        text-align: right;\n",
       "    }\n",
       "</style>\n",
       "<table border=\"1\" class=\"dataframe\">\n",
       "  <thead>\n",
       "    <tr style=\"text-align: right;\">\n",
       "      <th></th>\n",
       "      <th>country</th>\n",
       "      <th>Name</th>\n",
       "      <th>Standing</th>\n",
       "      <th>Return Rating</th>\n",
       "      <th>% 1st Serve Return Points W</th>\n",
       "      <th>% 2nd Serve Return Points W</th>\n",
       "      <th>% Return Games Won</th>\n",
       "      <th>% Break Points Converted</th>\n",
       "    </tr>\n",
       "  </thead>\n",
       "  <tbody>\n",
       "    <tr>\n",
       "      <th>0</th>\n",
       "      <td>rus</td>\n",
       "      <td>Daniil Medvedev</td>\n",
       "      <td>1</td>\n",
       "      <td>163.7</td>\n",
       "      <td>32.9</td>\n",
       "      <td>54.0</td>\n",
       "      <td>30.4</td>\n",
       "      <td>46.4</td>\n",
       "    </tr>\n",
       "    <tr>\n",
       "      <th>1</th>\n",
       "      <td>esp</td>\n",
       "      <td>Carlos Alcaraz</td>\n",
       "      <td>2</td>\n",
       "      <td>162.6</td>\n",
       "      <td>35.8</td>\n",
       "      <td>53.9</td>\n",
       "      <td>32.5</td>\n",
       "      <td>40.4</td>\n",
       "    </tr>\n",
       "    <tr>\n",
       "      <th>2</th>\n",
       "      <td>ita</td>\n",
       "      <td>Jannik Sinner</td>\n",
       "      <td>3</td>\n",
       "      <td>160.0</td>\n",
       "      <td>33.1</td>\n",
       "      <td>54.7</td>\n",
       "      <td>29.8</td>\n",
       "      <td>42.4</td>\n",
       "    </tr>\n",
       "    <tr>\n",
       "      <th>3</th>\n",
       "      <td>srb</td>\n",
       "      <td>Novak Djokovic</td>\n",
       "      <td>4</td>\n",
       "      <td>158.4</td>\n",
       "      <td>33.0</td>\n",
       "      <td>54.1</td>\n",
       "      <td>28.6</td>\n",
       "      <td>42.7</td>\n",
       "    </tr>\n",
       "    <tr>\n",
       "      <th>4</th>\n",
       "      <td>aus</td>\n",
       "      <td>Alex de Minaur</td>\n",
       "      <td>5</td>\n",
       "      <td>157.7</td>\n",
       "      <td>33.6</td>\n",
       "      <td>51.9</td>\n",
       "      <td>29.0</td>\n",
       "      <td>43.2</td>\n",
       "    </tr>\n",
       "    <tr>\n",
       "      <th>...</th>\n",
       "      <td>...</td>\n",
       "      <td>...</td>\n",
       "      <td>...</td>\n",
       "      <td>...</td>\n",
       "      <td>...</td>\n",
       "      <td>...</td>\n",
       "      <td>...</td>\n",
       "      <td>...</td>\n",
       "    </tr>\n",
       "    <tr>\n",
       "      <th>73</th>\n",
       "      <td>can</td>\n",
       "      <td>Felix Auger-Aliassime</td>\n",
       "      <td>74</td>\n",
       "      <td>122.0</td>\n",
       "      <td>27.2</td>\n",
       "      <td>46.4</td>\n",
       "      <td>16.2</td>\n",
       "      <td>32.2</td>\n",
       "    </tr>\n",
       "    <tr>\n",
       "      <th>74</th>\n",
       "      <td>aus</td>\n",
       "      <td>Thanasi Kokkinakis</td>\n",
       "      <td>75</td>\n",
       "      <td>121.9</td>\n",
       "      <td>25.9</td>\n",
       "      <td>44.8</td>\n",
       "      <td>15.9</td>\n",
       "      <td>35.3</td>\n",
       "    </tr>\n",
       "    <tr>\n",
       "      <th>75</th>\n",
       "      <td>usa</td>\n",
       "      <td>Brandon Nakashima</td>\n",
       "      <td>76</td>\n",
       "      <td>119.6</td>\n",
       "      <td>27.4</td>\n",
       "      <td>46.3</td>\n",
       "      <td>15.2</td>\n",
       "      <td>30.7</td>\n",
       "    </tr>\n",
       "    <tr>\n",
       "      <th>76</th>\n",
       "      <td>aus</td>\n",
       "      <td>Alexei Popyrin</td>\n",
       "      <td>77</td>\n",
       "      <td>119.5</td>\n",
       "      <td>26.0</td>\n",
       "      <td>46.0</td>\n",
       "      <td>15.2</td>\n",
       "      <td>32.3</td>\n",
       "    </tr>\n",
       "    <tr>\n",
       "      <th>77</th>\n",
       "      <td>usa</td>\n",
       "      <td>Christopher Eubanks</td>\n",
       "      <td>78</td>\n",
       "      <td>114.6</td>\n",
       "      <td>22.3</td>\n",
       "      <td>45.5</td>\n",
       "      <td>12.2</td>\n",
       "      <td>34.6</td>\n",
       "    </tr>\n",
       "  </tbody>\n",
       "</table>\n",
       "<p>78 rows × 8 columns</p>\n",
       "</div>"
      ],
      "text/plain": [
       "   country                   Name Standing Return Rating  \\\n",
       "0      rus        Daniil Medvedev        1         163.7   \n",
       "1      esp         Carlos Alcaraz        2         162.6   \n",
       "2      ita          Jannik Sinner        3         160.0   \n",
       "3      srb         Novak Djokovic        4         158.4   \n",
       "4      aus         Alex de Minaur        5         157.7   \n",
       "..     ...                    ...      ...           ...   \n",
       "73     can  Felix Auger-Aliassime       74         122.0   \n",
       "74     aus     Thanasi Kokkinakis       75         121.9   \n",
       "75     usa      Brandon Nakashima       76         119.6   \n",
       "76     aus         Alexei Popyrin       77         119.5   \n",
       "77     usa    Christopher Eubanks       78         114.6   \n",
       "\n",
       "   % 1st Serve Return Points W % 2nd Serve Return Points W % Return Games Won  \\\n",
       "0                         32.9                        54.0               30.4   \n",
       "1                         35.8                        53.9               32.5   \n",
       "2                         33.1                        54.7               29.8   \n",
       "3                         33.0                        54.1               28.6   \n",
       "4                         33.6                        51.9               29.0   \n",
       "..                         ...                         ...                ...   \n",
       "73                        27.2                        46.4               16.2   \n",
       "74                        25.9                        44.8               15.9   \n",
       "75                        27.4                        46.3               15.2   \n",
       "76                        26.0                        46.0               15.2   \n",
       "77                        22.3                        45.5               12.2   \n",
       "\n",
       "   % Break Points Converted  \n",
       "0                      46.4  \n",
       "1                      40.4  \n",
       "2                      42.4  \n",
       "3                      42.7  \n",
       "4                      43.2  \n",
       "..                      ...  \n",
       "73                     32.2  \n",
       "74                     35.3  \n",
       "75                     30.7  \n",
       "76                     32.3  \n",
       "77                     34.6  \n",
       "\n",
       "[78 rows x 8 columns]"
      ]
     },
     "execution_count": 11,
     "metadata": {},
     "output_type": "execute_result"
    }
   ],
   "source": [
    "y = GetInfo(0)\n",
    "return_df = pd.DataFrame(y, index = [0])\n",
    "for x in range(len(r))[1:]:\n",
    "    record = pd.Series(GetInfo(x))\n",
    "    return_df = pd.concat([return_df, record.to_frame().T], ignore_index = True)\n",
    "\n",
    "countries = []\n",
    "index = 0\n",
    "for row in c:\n",
    "  if index%2 == 1: countries.append(row.get_attribute('src')[-7:-4])\n",
    "  index += 1\n",
    "\n",
    "return_df = pd.concat([pd.Series(countries), return_df], axis=1)\n",
    "return_df = return_df.rename(columns={0:'country'})\n",
    "\n",
    "return_df.to_csv('serve_return.csv')\n",
    "return_df"
   ]
  },
  {
   "cell_type": "code",
   "execution_count": 49,
   "id": "f3bef661",
   "metadata": {},
   "outputs": [],
   "source": [
    "return_df = pd.read_csv(\"serve_return.csv\")"
   ]
  },
  {
   "cell_type": "markdown",
   "id": "b4e0b3ce",
   "metadata": {},
   "source": [
    "### Joining the different tables\n",
    "Now, we are loading in a dataframe (described in the data description section) compiled by a tennis statistician, with the results of every ATP men's tennis match that occured in the calendar year of 2023, plus a ton of other data."
   ]
  },
  {
   "cell_type": "code",
   "execution_count": 50,
   "id": "b9623c0d",
   "metadata": {},
   "outputs": [
    {
     "data": {
      "text/html": [
       "<div>\n",
       "<style scoped>\n",
       "    .dataframe tbody tr th:only-of-type {\n",
       "        vertical-align: middle;\n",
       "    }\n",
       "\n",
       "    .dataframe tbody tr th {\n",
       "        vertical-align: top;\n",
       "    }\n",
       "\n",
       "    .dataframe thead th {\n",
       "        text-align: right;\n",
       "    }\n",
       "</style>\n",
       "<table border=\"1\" class=\"dataframe\">\n",
       "  <thead>\n",
       "    <tr style=\"text-align: right;\">\n",
       "      <th></th>\n",
       "      <th>tourney_id</th>\n",
       "      <th>tourney_name</th>\n",
       "      <th>surface</th>\n",
       "      <th>draw_size</th>\n",
       "      <th>tourney_level</th>\n",
       "      <th>tourney_date</th>\n",
       "      <th>match_num</th>\n",
       "      <th>winner_id</th>\n",
       "      <th>winner_seed</th>\n",
       "      <th>winner_entry</th>\n",
       "      <th>...</th>\n",
       "      <th>l_1stIn</th>\n",
       "      <th>l_1stWon</th>\n",
       "      <th>l_2ndWon</th>\n",
       "      <th>l_SvGms</th>\n",
       "      <th>l_bpSaved</th>\n",
       "      <th>l_bpFaced</th>\n",
       "      <th>winner_rank</th>\n",
       "      <th>winner_rank_points</th>\n",
       "      <th>loser_rank</th>\n",
       "      <th>loser_rank_points</th>\n",
       "    </tr>\n",
       "  </thead>\n",
       "  <tbody>\n",
       "    <tr>\n",
       "      <th>0</th>\n",
       "      <td>2023-9900</td>\n",
       "      <td>United Cup</td>\n",
       "      <td>Hard</td>\n",
       "      <td>18</td>\n",
       "      <td>A</td>\n",
       "      <td>20230102</td>\n",
       "      <td>300</td>\n",
       "      <td>126203</td>\n",
       "      <td>3.0</td>\n",
       "      <td>NaN</td>\n",
       "      <td>...</td>\n",
       "      <td>62.0</td>\n",
       "      <td>47.0</td>\n",
       "      <td>15.0</td>\n",
       "      <td>12.0</td>\n",
       "      <td>9.0</td>\n",
       "      <td>9.0</td>\n",
       "      <td>9.0</td>\n",
       "      <td>3355.0</td>\n",
       "      <td>16.0</td>\n",
       "      <td>2375.0</td>\n",
       "    </tr>\n",
       "    <tr>\n",
       "      <th>1</th>\n",
       "      <td>2023-9900</td>\n",
       "      <td>United Cup</td>\n",
       "      <td>Hard</td>\n",
       "      <td>18</td>\n",
       "      <td>A</td>\n",
       "      <td>20230102</td>\n",
       "      <td>299</td>\n",
       "      <td>126207</td>\n",
       "      <td>NaN</td>\n",
       "      <td>NaN</td>\n",
       "      <td>...</td>\n",
       "      <td>12.0</td>\n",
       "      <td>8.0</td>\n",
       "      <td>3.0</td>\n",
       "      <td>4.0</td>\n",
       "      <td>1.0</td>\n",
       "      <td>3.0</td>\n",
       "      <td>19.0</td>\n",
       "      <td>2000.0</td>\n",
       "      <td>23.0</td>\n",
       "      <td>1865.0</td>\n",
       "    </tr>\n",
       "    <tr>\n",
       "      <th>2</th>\n",
       "      <td>2023-9900</td>\n",
       "      <td>United Cup</td>\n",
       "      <td>Hard</td>\n",
       "      <td>18</td>\n",
       "      <td>A</td>\n",
       "      <td>20230102</td>\n",
       "      <td>296</td>\n",
       "      <td>126203</td>\n",
       "      <td>3.0</td>\n",
       "      <td>NaN</td>\n",
       "      <td>...</td>\n",
       "      <td>62.0</td>\n",
       "      <td>51.0</td>\n",
       "      <td>7.0</td>\n",
       "      <td>12.0</td>\n",
       "      <td>2.0</td>\n",
       "      <td>2.0</td>\n",
       "      <td>9.0</td>\n",
       "      <td>3355.0</td>\n",
       "      <td>10.0</td>\n",
       "      <td>2905.0</td>\n",
       "    </tr>\n",
       "    <tr>\n",
       "      <th>3</th>\n",
       "      <td>2023-9900</td>\n",
       "      <td>United Cup</td>\n",
       "      <td>Hard</td>\n",
       "      <td>18</td>\n",
       "      <td>A</td>\n",
       "      <td>20230102</td>\n",
       "      <td>295</td>\n",
       "      <td>126207</td>\n",
       "      <td>NaN</td>\n",
       "      <td>NaN</td>\n",
       "      <td>...</td>\n",
       "      <td>41.0</td>\n",
       "      <td>26.0</td>\n",
       "      <td>12.0</td>\n",
       "      <td>9.0</td>\n",
       "      <td>6.0</td>\n",
       "      <td>9.0</td>\n",
       "      <td>19.0</td>\n",
       "      <td>2000.0</td>\n",
       "      <td>245.0</td>\n",
       "      <td>220.0</td>\n",
       "    </tr>\n",
       "    <tr>\n",
       "      <th>4</th>\n",
       "      <td>2023-9900</td>\n",
       "      <td>United Cup</td>\n",
       "      <td>Hard</td>\n",
       "      <td>18</td>\n",
       "      <td>A</td>\n",
       "      <td>20230102</td>\n",
       "      <td>292</td>\n",
       "      <td>126774</td>\n",
       "      <td>1.0</td>\n",
       "      <td>NaN</td>\n",
       "      <td>...</td>\n",
       "      <td>58.0</td>\n",
       "      <td>48.0</td>\n",
       "      <td>18.0</td>\n",
       "      <td>16.0</td>\n",
       "      <td>1.0</td>\n",
       "      <td>2.0</td>\n",
       "      <td>4.0</td>\n",
       "      <td>5550.0</td>\n",
       "      <td>16.0</td>\n",
       "      <td>2375.0</td>\n",
       "    </tr>\n",
       "  </tbody>\n",
       "</table>\n",
       "<p>5 rows × 49 columns</p>\n",
       "</div>"
      ],
      "text/plain": [
       "  tourney_id tourney_name surface  draw_size tourney_level  tourney_date  \\\n",
       "0  2023-9900   United Cup    Hard         18             A      20230102   \n",
       "1  2023-9900   United Cup    Hard         18             A      20230102   \n",
       "2  2023-9900   United Cup    Hard         18             A      20230102   \n",
       "3  2023-9900   United Cup    Hard         18             A      20230102   \n",
       "4  2023-9900   United Cup    Hard         18             A      20230102   \n",
       "\n",
       "   match_num  winner_id  winner_seed winner_entry  ... l_1stIn l_1stWon  \\\n",
       "0        300     126203          3.0          NaN  ...    62.0     47.0   \n",
       "1        299     126207          NaN          NaN  ...    12.0      8.0   \n",
       "2        296     126203          3.0          NaN  ...    62.0     51.0   \n",
       "3        295     126207          NaN          NaN  ...    41.0     26.0   \n",
       "4        292     126774          1.0          NaN  ...    58.0     48.0   \n",
       "\n",
       "   l_2ndWon l_SvGms  l_bpSaved  l_bpFaced  winner_rank winner_rank_points  \\\n",
       "0      15.0    12.0        9.0        9.0          9.0             3355.0   \n",
       "1       3.0     4.0        1.0        3.0         19.0             2000.0   \n",
       "2       7.0    12.0        2.0        2.0          9.0             3355.0   \n",
       "3      12.0     9.0        6.0        9.0         19.0             2000.0   \n",
       "4      18.0    16.0        1.0        2.0          4.0             5550.0   \n",
       "\n",
       "  loser_rank loser_rank_points  \n",
       "0       16.0            2375.0  \n",
       "1       23.0            1865.0  \n",
       "2       10.0            2905.0  \n",
       "3      245.0             220.0  \n",
       "4       16.0            2375.0  \n",
       "\n",
       "[5 rows x 49 columns]"
      ]
     },
     "execution_count": 50,
     "metadata": {},
     "output_type": "execute_result"
    }
   ],
   "source": [
    "head_to_head_df = pd.read_csv('atp_matches_2023.csv')\n",
    "head_to_head_df.head()"
   ]
  },
  {
   "cell_type": "markdown",
   "id": "8e52b63b",
   "metadata": {},
   "source": [
    "From the above dataframe, make a dataframe that contains the winner name of each match, the loser name of each match, and the winner's ATP overall ranking (scraped above) by INNER JOINING with the overall ATP rank df where the player name from the ranking dataframe matches the winner name. The inner join is necessary because we don't want to consider matches between unranked players. "
   ]
  },
  {
   "cell_type": "code",
   "execution_count": 51,
   "id": "6ba522e9",
   "metadata": {},
   "outputs": [
    {
     "data": {
      "text/html": [
       "<div>\n",
       "<style scoped>\n",
       "    .dataframe tbody tr th:only-of-type {\n",
       "        vertical-align: middle;\n",
       "    }\n",
       "\n",
       "    .dataframe tbody tr th {\n",
       "        vertical-align: top;\n",
       "    }\n",
       "\n",
       "    .dataframe thead th {\n",
       "        text-align: right;\n",
       "    }\n",
       "</style>\n",
       "<table border=\"1\" class=\"dataframe\">\n",
       "  <thead>\n",
       "    <tr style=\"text-align: right;\">\n",
       "      <th></th>\n",
       "      <th>winner_name</th>\n",
       "      <th>loser_name</th>\n",
       "      <th>winner_rank</th>\n",
       "    </tr>\n",
       "  </thead>\n",
       "  <tbody>\n",
       "    <tr>\n",
       "      <th>0</th>\n",
       "      <td>Taylor Fritz</td>\n",
       "      <td>Matteo Berrettini</td>\n",
       "      <td>800.0</td>\n",
       "    </tr>\n",
       "    <tr>\n",
       "      <th>1</th>\n",
       "      <td>Frances Tiafoe</td>\n",
       "      <td>Lorenzo Musetti</td>\n",
       "      <td>2570.0</td>\n",
       "    </tr>\n",
       "    <tr>\n",
       "      <th>2</th>\n",
       "      <td>Taylor Fritz</td>\n",
       "      <td>Hubert Hurkacz</td>\n",
       "      <td>800.0</td>\n",
       "    </tr>\n",
       "    <tr>\n",
       "      <th>3</th>\n",
       "      <td>Frances Tiafoe</td>\n",
       "      <td>Kacper Zuk</td>\n",
       "      <td>2570.0</td>\n",
       "    </tr>\n",
       "    <tr>\n",
       "      <th>4</th>\n",
       "      <td>Stefanos Tsitsipas</td>\n",
       "      <td>Matteo Berrettini</td>\n",
       "      <td>5205.0</td>\n",
       "    </tr>\n",
       "  </tbody>\n",
       "</table>\n",
       "</div>"
      ],
      "text/plain": [
       "          winner_name         loser_name  winner_rank\n",
       "0        Taylor Fritz  Matteo Berrettini        800.0\n",
       "1      Frances Tiafoe    Lorenzo Musetti       2570.0\n",
       "2        Taylor Fritz     Hubert Hurkacz        800.0\n",
       "3      Frances Tiafoe         Kacper Zuk       2570.0\n",
       "4  Stefanos Tsitsipas  Matteo Berrettini       5205.0"
      ]
     },
     "execution_count": 51,
     "metadata": {},
     "output_type": "execute_result"
    }
   ],
   "source": [
    "winners_df = duckdb.sql(\"SELECT winner_name, loser_name, \\\n",
    "    rankings_df.ranking AS winner_rank FROM head_to_head_df  \\\n",
    "    INNER JOIN rankings_df ON head_to_head_df.winner_name = rankings_df.player\").df()\n",
    "winners_df.head()"
   ]
  },
  {
   "cell_type": "markdown",
   "id": "558db6d2",
   "metadata": {},
   "source": [
    "Next, we need to add the loser ranking to the above dataframe, inner joining on where the name of the player in the ranking df matches the loser name from the match results dataframe."
   ]
  },
  {
   "cell_type": "code",
   "execution_count": 52,
   "id": "d00d7d1f",
   "metadata": {},
   "outputs": [
    {
     "data": {
      "text/html": [
       "<div>\n",
       "<style scoped>\n",
       "    .dataframe tbody tr th:only-of-type {\n",
       "        vertical-align: middle;\n",
       "    }\n",
       "\n",
       "    .dataframe tbody tr th {\n",
       "        vertical-align: top;\n",
       "    }\n",
       "\n",
       "    .dataframe thead th {\n",
       "        text-align: right;\n",
       "    }\n",
       "</style>\n",
       "<table border=\"1\" class=\"dataframe\">\n",
       "  <thead>\n",
       "    <tr style=\"text-align: right;\">\n",
       "      <th></th>\n",
       "      <th>winner_name</th>\n",
       "      <th>loser_name</th>\n",
       "      <th>winner_rank</th>\n",
       "      <th>loser_rank</th>\n",
       "    </tr>\n",
       "  </thead>\n",
       "  <tbody>\n",
       "    <tr>\n",
       "      <th>0</th>\n",
       "      <td>Taylor Fritz</td>\n",
       "      <td>Matteo Berrettini</td>\n",
       "      <td>800.0</td>\n",
       "      <td>691.0</td>\n",
       "    </tr>\n",
       "    <tr>\n",
       "      <th>1</th>\n",
       "      <td>Frances Tiafoe</td>\n",
       "      <td>Lorenzo Musetti</td>\n",
       "      <td>2570.0</td>\n",
       "      <td>1525.0</td>\n",
       "    </tr>\n",
       "    <tr>\n",
       "      <th>2</th>\n",
       "      <td>Taylor Fritz</td>\n",
       "      <td>Hubert Hurkacz</td>\n",
       "      <td>800.0</td>\n",
       "      <td>3500.0</td>\n",
       "    </tr>\n",
       "    <tr>\n",
       "      <th>3</th>\n",
       "      <td>Stefanos Tsitsipas</td>\n",
       "      <td>Matteo Berrettini</td>\n",
       "      <td>5205.0</td>\n",
       "      <td>691.0</td>\n",
       "    </tr>\n",
       "    <tr>\n",
       "      <th>4</th>\n",
       "      <td>Stefanos Tsitsipas</td>\n",
       "      <td>Borna Coric</td>\n",
       "      <td>5205.0</td>\n",
       "      <td>1193.0</td>\n",
       "    </tr>\n",
       "  </tbody>\n",
       "</table>\n",
       "</div>"
      ],
      "text/plain": [
       "          winner_name         loser_name  winner_rank  loser_rank\n",
       "0        Taylor Fritz  Matteo Berrettini        800.0       691.0\n",
       "1      Frances Tiafoe    Lorenzo Musetti       2570.0      1525.0\n",
       "2        Taylor Fritz     Hubert Hurkacz        800.0      3500.0\n",
       "3  Stefanos Tsitsipas  Matteo Berrettini       5205.0       691.0\n",
       "4  Stefanos Tsitsipas        Borna Coric       5205.0      1193.0"
      ]
     },
     "execution_count": 52,
     "metadata": {},
     "output_type": "execute_result"
    }
   ],
   "source": [
    "winners_and_losers_df = duckdb.sql(\"SELECT winner_name, loser_name, winners_df.winner_rank, rankings_df.ranking\\\n",
    "                                    AS loser_rank FROM winners_df  INNER JOIN rankings_df ON\\\n",
    "                                       winners_df.loser_name = rankings_df.player\").df()\n",
    "winners_and_losers_df.head()"
   ]
  },
  {
   "cell_type": "markdown",
   "id": "17355f8e",
   "metadata": {},
   "source": [
    "Next, I will load in the csv that we generated in an earlier step of the serve leaders (player names and serve statistics). I will then immediately discard all columns that are not player name and serve rating."
   ]
  },
  {
   "cell_type": "code",
   "execution_count": 53,
   "id": "b1ca8fab",
   "metadata": {},
   "outputs": [
    {
     "data": {
      "text/html": [
       "<div>\n",
       "<style scoped>\n",
       "    .dataframe tbody tr th:only-of-type {\n",
       "        vertical-align: middle;\n",
       "    }\n",
       "\n",
       "    .dataframe tbody tr th {\n",
       "        vertical-align: top;\n",
       "    }\n",
       "\n",
       "    .dataframe thead th {\n",
       "        text-align: right;\n",
       "    }\n",
       "</style>\n",
       "<table border=\"1\" class=\"dataframe\">\n",
       "  <thead>\n",
       "    <tr style=\"text-align: right;\">\n",
       "      <th></th>\n",
       "      <th>name</th>\n",
       "      <th>serve_rating</th>\n",
       "    </tr>\n",
       "  </thead>\n",
       "  <tbody>\n",
       "    <tr>\n",
       "      <th>0</th>\n",
       "      <td>Hubert Hurkacz</td>\n",
       "      <td>295.5</td>\n",
       "    </tr>\n",
       "    <tr>\n",
       "      <th>1</th>\n",
       "      <td>Novak Djokovic</td>\n",
       "      <td>292.2</td>\n",
       "    </tr>\n",
       "    <tr>\n",
       "      <th>2</th>\n",
       "      <td>Stefanos Tsitsipas</td>\n",
       "      <td>292.0</td>\n",
       "    </tr>\n",
       "    <tr>\n",
       "      <th>3</th>\n",
       "      <td>Nicolas Jarry</td>\n",
       "      <td>290.6</td>\n",
       "    </tr>\n",
       "    <tr>\n",
       "      <th>4</th>\n",
       "      <td>Christopher Eubanks</td>\n",
       "      <td>289.7</td>\n",
       "    </tr>\n",
       "  </tbody>\n",
       "</table>\n",
       "</div>"
      ],
      "text/plain": [
       "                  name  serve_rating\n",
       "0       Hubert Hurkacz         295.5\n",
       "1       Novak Djokovic         292.2\n",
       "2   Stefanos Tsitsipas         292.0\n",
       "3        Nicolas Jarry         290.6\n",
       "4  Christopher Eubanks         289.7"
      ]
     },
     "execution_count": 53,
     "metadata": {},
     "output_type": "execute_result"
    }
   ],
   "source": [
    "serve_rating = pd.read_csv(\"serve_leader_df.csv\")\n",
    "serve_rating = duckdb.sql(\"SELECT name, serve_rating FROM serve_rating\").df()\n",
    "serve_rating.head()"
   ]
  },
  {
   "cell_type": "markdown",
   "id": "40708aaf",
   "metadata": {},
   "source": [
    "Next, we will add the winner's serve rating to the dataframe by inner joining the serve rating dataframe with the existing dataframe where the player name in the serve rating equals the player name in the existing dataframe."
   ]
  },
  {
   "cell_type": "code",
   "execution_count": 54,
   "id": "ab2ba8d6",
   "metadata": {},
   "outputs": [
    {
     "data": {
      "text/html": [
       "<div>\n",
       "<style scoped>\n",
       "    .dataframe tbody tr th:only-of-type {\n",
       "        vertical-align: middle;\n",
       "    }\n",
       "\n",
       "    .dataframe tbody tr th {\n",
       "        vertical-align: top;\n",
       "    }\n",
       "\n",
       "    .dataframe thead th {\n",
       "        text-align: right;\n",
       "    }\n",
       "</style>\n",
       "<table border=\"1\" class=\"dataframe\">\n",
       "  <thead>\n",
       "    <tr style=\"text-align: right;\">\n",
       "      <th></th>\n",
       "      <th>winner_name</th>\n",
       "      <th>loser_name</th>\n",
       "      <th>winner_rank</th>\n",
       "      <th>loser_rank</th>\n",
       "      <th>winner_serve_rating</th>\n",
       "    </tr>\n",
       "  </thead>\n",
       "  <tbody>\n",
       "    <tr>\n",
       "      <th>0</th>\n",
       "      <td>Taylor Fritz</td>\n",
       "      <td>Matteo Berrettini</td>\n",
       "      <td>800.0</td>\n",
       "      <td>691.0</td>\n",
       "      <td>288.6</td>\n",
       "    </tr>\n",
       "    <tr>\n",
       "      <th>1</th>\n",
       "      <td>Frances Tiafoe</td>\n",
       "      <td>Lorenzo Musetti</td>\n",
       "      <td>2570.0</td>\n",
       "      <td>1525.0</td>\n",
       "      <td>282.3</td>\n",
       "    </tr>\n",
       "    <tr>\n",
       "      <th>2</th>\n",
       "      <td>Taylor Fritz</td>\n",
       "      <td>Hubert Hurkacz</td>\n",
       "      <td>800.0</td>\n",
       "      <td>3500.0</td>\n",
       "      <td>288.6</td>\n",
       "    </tr>\n",
       "    <tr>\n",
       "      <th>3</th>\n",
       "      <td>Stefanos Tsitsipas</td>\n",
       "      <td>Matteo Berrettini</td>\n",
       "      <td>5205.0</td>\n",
       "      <td>691.0</td>\n",
       "      <td>292.0</td>\n",
       "    </tr>\n",
       "    <tr>\n",
       "      <th>4</th>\n",
       "      <td>Stefanos Tsitsipas</td>\n",
       "      <td>Borna Coric</td>\n",
       "      <td>5205.0</td>\n",
       "      <td>1193.0</td>\n",
       "      <td>292.0</td>\n",
       "    </tr>\n",
       "  </tbody>\n",
       "</table>\n",
       "</div>"
      ],
      "text/plain": [
       "          winner_name         loser_name  winner_rank  loser_rank  \\\n",
       "0        Taylor Fritz  Matteo Berrettini        800.0       691.0   \n",
       "1      Frances Tiafoe    Lorenzo Musetti       2570.0      1525.0   \n",
       "2        Taylor Fritz     Hubert Hurkacz        800.0      3500.0   \n",
       "3  Stefanos Tsitsipas  Matteo Berrettini       5205.0       691.0   \n",
       "4  Stefanos Tsitsipas        Borna Coric       5205.0      1193.0   \n",
       "\n",
       "   winner_serve_rating  \n",
       "0                288.6  \n",
       "1                282.3  \n",
       "2                288.6  \n",
       "3                292.0  \n",
       "4                292.0  "
      ]
     },
     "execution_count": 54,
     "metadata": {},
     "output_type": "execute_result"
    }
   ],
   "source": [
    "overall_df = duckdb.sql(\"SELECT winner_name, loser_name, winner_rank, loser_rank, serve_rating AS\\\n",
    "                         winner_serve_rating FROM winners_and_losers_df INNER JOIN serve_rating ON \\\n",
    "                        winners_and_losers_df.winner_name = serve_rating.name\").df()\n",
    "overall_df.head()"
   ]
  },
  {
   "cell_type": "markdown",
   "id": "d7147d25",
   "metadata": {},
   "source": [
    "We will do the same process for the serve rating of the loser of the match. We will continue inner joining to ensure that we do not consider matches between players for whom we don't have data."
   ]
  },
  {
   "cell_type": "code",
   "execution_count": 55,
   "id": "9de9075c",
   "metadata": {},
   "outputs": [
    {
     "data": {
      "text/html": [
       "<div>\n",
       "<style scoped>\n",
       "    .dataframe tbody tr th:only-of-type {\n",
       "        vertical-align: middle;\n",
       "    }\n",
       "\n",
       "    .dataframe tbody tr th {\n",
       "        vertical-align: top;\n",
       "    }\n",
       "\n",
       "    .dataframe thead th {\n",
       "        text-align: right;\n",
       "    }\n",
       "</style>\n",
       "<table border=\"1\" class=\"dataframe\">\n",
       "  <thead>\n",
       "    <tr style=\"text-align: right;\">\n",
       "      <th></th>\n",
       "      <th>winner_name</th>\n",
       "      <th>loser_name</th>\n",
       "      <th>winner_rank</th>\n",
       "      <th>loser_rank</th>\n",
       "      <th>winner_serve_rating</th>\n",
       "      <th>loser_serve_rating</th>\n",
       "    </tr>\n",
       "  </thead>\n",
       "  <tbody>\n",
       "    <tr>\n",
       "      <th>0</th>\n",
       "      <td>Frances Tiafoe</td>\n",
       "      <td>Lorenzo Musetti</td>\n",
       "      <td>2570.0</td>\n",
       "      <td>1525.0</td>\n",
       "      <td>282.3</td>\n",
       "      <td>265.3</td>\n",
       "    </tr>\n",
       "    <tr>\n",
       "      <th>1</th>\n",
       "      <td>Taylor Fritz</td>\n",
       "      <td>Hubert Hurkacz</td>\n",
       "      <td>800.0</td>\n",
       "      <td>3500.0</td>\n",
       "      <td>288.6</td>\n",
       "      <td>295.5</td>\n",
       "    </tr>\n",
       "    <tr>\n",
       "      <th>2</th>\n",
       "      <td>Stefanos Tsitsipas</td>\n",
       "      <td>Borna Coric</td>\n",
       "      <td>5205.0</td>\n",
       "      <td>1193.0</td>\n",
       "      <td>292.0</td>\n",
       "      <td>264.0</td>\n",
       "    </tr>\n",
       "    <tr>\n",
       "      <th>3</th>\n",
       "      <td>Cameron Norrie</td>\n",
       "      <td>Taylor Fritz</td>\n",
       "      <td>2310.0</td>\n",
       "      <td>800.0</td>\n",
       "      <td>270.6</td>\n",
       "      <td>288.6</td>\n",
       "    </tr>\n",
       "    <tr>\n",
       "      <th>4</th>\n",
       "      <td>Frances Tiafoe</td>\n",
       "      <td>Daniel Evans</td>\n",
       "      <td>2570.0</td>\n",
       "      <td>1178.0</td>\n",
       "      <td>282.3</td>\n",
       "      <td>260.8</td>\n",
       "    </tr>\n",
       "  </tbody>\n",
       "</table>\n",
       "</div>"
      ],
      "text/plain": [
       "          winner_name       loser_name  winner_rank  loser_rank  \\\n",
       "0      Frances Tiafoe  Lorenzo Musetti       2570.0      1525.0   \n",
       "1        Taylor Fritz   Hubert Hurkacz        800.0      3500.0   \n",
       "2  Stefanos Tsitsipas      Borna Coric       5205.0      1193.0   \n",
       "3      Cameron Norrie     Taylor Fritz       2310.0       800.0   \n",
       "4      Frances Tiafoe     Daniel Evans       2570.0      1178.0   \n",
       "\n",
       "   winner_serve_rating  loser_serve_rating  \n",
       "0                282.3               265.3  \n",
       "1                288.6               295.5  \n",
       "2                292.0               264.0  \n",
       "3                270.6               288.6  \n",
       "4                282.3               260.8  "
      ]
     },
     "execution_count": 55,
     "metadata": {},
     "output_type": "execute_result"
    }
   ],
   "source": [
    "overall_df = duckdb.sql(\"SELECT winner_name, loser_name, winner_rank, loser_rank, winner_serve_rating, \\\n",
    "serve_rating AS loser_serve_rating FROM overall_df INNER JOIN serve_rating ON overall_df.loser_name = \\\n",
    "serve_rating.name\").df()\n",
    "overall_df.head()"
   ]
  },
  {
   "cell_type": "markdown",
   "id": "e49e1faa",
   "metadata": {},
   "source": [
    "Next, we will execute essentially the same process using the return ratings csv generated above. First, we will load in the csv and discard all of the columns that do not contain relevant data to our analysis."
   ]
  },
  {
   "cell_type": "code",
   "execution_count": 56,
   "id": "35aab3bb",
   "metadata": {},
   "outputs": [],
   "source": [
    "return_rating = pd.read_csv(\"serve_return.csv\")\n",
    "return_rating.rename(columns = {'Return Rating':'return_rating'}, inplace = True)\n",
    "\n",
    "return_rating = duckdb.sql(\"SELECT Name, return_rating FROM return_rating\").df()"
   ]
  },
  {
   "cell_type": "markdown",
   "id": "ad43b1f6",
   "metadata": {},
   "source": [
    "We will inner join the return ratings df where the match winner name equals the name in the return rating, exactly as we have done several times above."
   ]
  },
  {
   "cell_type": "code",
   "execution_count": 57,
   "id": "23671fe9",
   "metadata": {},
   "outputs": [
    {
     "data": {
      "text/html": [
       "<div>\n",
       "<style scoped>\n",
       "    .dataframe tbody tr th:only-of-type {\n",
       "        vertical-align: middle;\n",
       "    }\n",
       "\n",
       "    .dataframe tbody tr th {\n",
       "        vertical-align: top;\n",
       "    }\n",
       "\n",
       "    .dataframe thead th {\n",
       "        text-align: right;\n",
       "    }\n",
       "</style>\n",
       "<table border=\"1\" class=\"dataframe\">\n",
       "  <thead>\n",
       "    <tr style=\"text-align: right;\">\n",
       "      <th></th>\n",
       "      <th>winner_name</th>\n",
       "      <th>loser_name</th>\n",
       "      <th>winner_rank</th>\n",
       "      <th>loser_rank</th>\n",
       "      <th>winner_serve_rating</th>\n",
       "      <th>loser_serve_rating</th>\n",
       "      <th>winner_return_rating</th>\n",
       "    </tr>\n",
       "  </thead>\n",
       "  <tbody>\n",
       "    <tr>\n",
       "      <th>0</th>\n",
       "      <td>Frances Tiafoe</td>\n",
       "      <td>Lorenzo Musetti</td>\n",
       "      <td>2570.0</td>\n",
       "      <td>1525.0</td>\n",
       "      <td>282.3</td>\n",
       "      <td>265.3</td>\n",
       "      <td>137.8</td>\n",
       "    </tr>\n",
       "    <tr>\n",
       "      <th>1</th>\n",
       "      <td>Taylor Fritz</td>\n",
       "      <td>Hubert Hurkacz</td>\n",
       "      <td>800.0</td>\n",
       "      <td>3500.0</td>\n",
       "      <td>288.6</td>\n",
       "      <td>295.5</td>\n",
       "      <td>145.4</td>\n",
       "    </tr>\n",
       "    <tr>\n",
       "      <th>2</th>\n",
       "      <td>Stefanos Tsitsipas</td>\n",
       "      <td>Borna Coric</td>\n",
       "      <td>5205.0</td>\n",
       "      <td>1193.0</td>\n",
       "      <td>292.0</td>\n",
       "      <td>264.0</td>\n",
       "      <td>133.5</td>\n",
       "    </tr>\n",
       "    <tr>\n",
       "      <th>3</th>\n",
       "      <td>Cameron Norrie</td>\n",
       "      <td>Taylor Fritz</td>\n",
       "      <td>2310.0</td>\n",
       "      <td>800.0</td>\n",
       "      <td>270.6</td>\n",
       "      <td>288.6</td>\n",
       "      <td>147.0</td>\n",
       "    </tr>\n",
       "    <tr>\n",
       "      <th>4</th>\n",
       "      <td>Frances Tiafoe</td>\n",
       "      <td>Daniel Evans</td>\n",
       "      <td>2570.0</td>\n",
       "      <td>1178.0</td>\n",
       "      <td>282.3</td>\n",
       "      <td>260.8</td>\n",
       "      <td>137.8</td>\n",
       "    </tr>\n",
       "  </tbody>\n",
       "</table>\n",
       "</div>"
      ],
      "text/plain": [
       "          winner_name       loser_name  winner_rank  loser_rank  \\\n",
       "0      Frances Tiafoe  Lorenzo Musetti       2570.0      1525.0   \n",
       "1        Taylor Fritz   Hubert Hurkacz        800.0      3500.0   \n",
       "2  Stefanos Tsitsipas      Borna Coric       5205.0      1193.0   \n",
       "3      Cameron Norrie     Taylor Fritz       2310.0       800.0   \n",
       "4      Frances Tiafoe     Daniel Evans       2570.0      1178.0   \n",
       "\n",
       "   winner_serve_rating  loser_serve_rating  winner_return_rating  \n",
       "0                282.3               265.3                 137.8  \n",
       "1                288.6               295.5                 145.4  \n",
       "2                292.0               264.0                 133.5  \n",
       "3                270.6               288.6                 147.0  \n",
       "4                282.3               260.8                 137.8  "
      ]
     },
     "execution_count": 57,
     "metadata": {},
     "output_type": "execute_result"
    }
   ],
   "source": [
    "overall_df = duckdb.sql(\"SELECT winner_name, loser_name, winner_rank, loser_rank, winner_serve_rating, \\\n",
    "loser_serve_rating, return_rating AS winner_return_rating FROM overall_df INNER JOIN return_rating ON \\\n",
    "overall_df.winner_name = return_rating.Name\").df()\n",
    "overall_df.head()"
   ]
  },
  {
   "cell_type": "markdown",
   "id": "626b4483",
   "metadata": {},
   "source": [
    "Repeating the same step as above, except now for the loser's return rating:"
   ]
  },
  {
   "cell_type": "code",
   "execution_count": 58,
   "id": "5012d7ca",
   "metadata": {},
   "outputs": [
    {
     "data": {
      "text/html": [
       "<div>\n",
       "<style scoped>\n",
       "    .dataframe tbody tr th:only-of-type {\n",
       "        vertical-align: middle;\n",
       "    }\n",
       "\n",
       "    .dataframe tbody tr th {\n",
       "        vertical-align: top;\n",
       "    }\n",
       "\n",
       "    .dataframe thead th {\n",
       "        text-align: right;\n",
       "    }\n",
       "</style>\n",
       "<table border=\"1\" class=\"dataframe\">\n",
       "  <thead>\n",
       "    <tr style=\"text-align: right;\">\n",
       "      <th></th>\n",
       "      <th>winner_name</th>\n",
       "      <th>loser_name</th>\n",
       "      <th>winner_rank</th>\n",
       "      <th>loser_rank</th>\n",
       "      <th>winner_serve_rating</th>\n",
       "      <th>loser_serve_rating</th>\n",
       "      <th>winner_return_rating</th>\n",
       "      <th>loser_return_rating</th>\n",
       "    </tr>\n",
       "  </thead>\n",
       "  <tbody>\n",
       "    <tr>\n",
       "      <th>0</th>\n",
       "      <td>Frances Tiafoe</td>\n",
       "      <td>Lorenzo Musetti</td>\n",
       "      <td>2570.0</td>\n",
       "      <td>1525.0</td>\n",
       "      <td>282.3</td>\n",
       "      <td>265.3</td>\n",
       "      <td>137.8</td>\n",
       "      <td>152.4</td>\n",
       "    </tr>\n",
       "    <tr>\n",
       "      <th>1</th>\n",
       "      <td>Taylor Fritz</td>\n",
       "      <td>Hubert Hurkacz</td>\n",
       "      <td>800.0</td>\n",
       "      <td>3500.0</td>\n",
       "      <td>288.6</td>\n",
       "      <td>295.5</td>\n",
       "      <td>145.4</td>\n",
       "      <td>124.6</td>\n",
       "    </tr>\n",
       "    <tr>\n",
       "      <th>2</th>\n",
       "      <td>Stefanos Tsitsipas</td>\n",
       "      <td>Borna Coric</td>\n",
       "      <td>5205.0</td>\n",
       "      <td>1193.0</td>\n",
       "      <td>292.0</td>\n",
       "      <td>264.0</td>\n",
       "      <td>133.5</td>\n",
       "      <td>125.6</td>\n",
       "    </tr>\n",
       "    <tr>\n",
       "      <th>3</th>\n",
       "      <td>Cameron Norrie</td>\n",
       "      <td>Taylor Fritz</td>\n",
       "      <td>2310.0</td>\n",
       "      <td>800.0</td>\n",
       "      <td>270.6</td>\n",
       "      <td>288.6</td>\n",
       "      <td>147.0</td>\n",
       "      <td>145.4</td>\n",
       "    </tr>\n",
       "    <tr>\n",
       "      <th>4</th>\n",
       "      <td>Frances Tiafoe</td>\n",
       "      <td>Daniel Evans</td>\n",
       "      <td>2570.0</td>\n",
       "      <td>1178.0</td>\n",
       "      <td>282.3</td>\n",
       "      <td>260.8</td>\n",
       "      <td>137.8</td>\n",
       "      <td>136.7</td>\n",
       "    </tr>\n",
       "  </tbody>\n",
       "</table>\n",
       "</div>"
      ],
      "text/plain": [
       "          winner_name       loser_name  winner_rank  loser_rank  \\\n",
       "0      Frances Tiafoe  Lorenzo Musetti       2570.0      1525.0   \n",
       "1        Taylor Fritz   Hubert Hurkacz        800.0      3500.0   \n",
       "2  Stefanos Tsitsipas      Borna Coric       5205.0      1193.0   \n",
       "3      Cameron Norrie     Taylor Fritz       2310.0       800.0   \n",
       "4      Frances Tiafoe     Daniel Evans       2570.0      1178.0   \n",
       "\n",
       "   winner_serve_rating  loser_serve_rating  winner_return_rating  \\\n",
       "0                282.3               265.3                 137.8   \n",
       "1                288.6               295.5                 145.4   \n",
       "2                292.0               264.0                 133.5   \n",
       "3                270.6               288.6                 147.0   \n",
       "4                282.3               260.8                 137.8   \n",
       "\n",
       "   loser_return_rating  \n",
       "0                152.4  \n",
       "1                124.6  \n",
       "2                125.6  \n",
       "3                145.4  \n",
       "4                136.7  "
      ]
     },
     "execution_count": 58,
     "metadata": {},
     "output_type": "execute_result"
    }
   ],
   "source": [
    "overall_df = duckdb.sql(\"SELECT winner_name, loser_name, winner_rank, loser_rank, winner_serve_rating, \\\n",
    "loser_serve_rating, winner_return_rating, return_rating AS loser_return_rating FROM overall_df INNER JOIN \\\n",
    "return_rating ON overall_df.loser_name = return_rating.Name\").df()\n",
    "overall_df.head()"
   ]
  },
  {
   "cell_type": "markdown",
   "id": "c64c8f78",
   "metadata": {},
   "source": [
    "Finally, we will check the shape of our dataframe to assess how many matches of data we have to analyze."
   ]
  },
  {
   "cell_type": "markdown",
   "id": "b4ff8dfe",
   "metadata": {},
   "source": [
    "We have overall ranking data, return ratings, and serve ratings for both players in 862 ATP tennis matches in the calendar year of 2023. We contend that this is more than enough data to train a model on, at least as a preliminary step."
   ]
  }
 ],
 "metadata": {
  "kernelspec": {
   "display_name": "Python 3 (ipykernel)",
   "language": "python",
   "name": "python3"
  },
  "language_info": {
   "codemirror_mode": {
    "name": "ipython",
    "version": 3
   },
   "file_extension": ".py",
   "mimetype": "text/x-python",
   "name": "python",
   "nbconvert_exporter": "python",
   "pygments_lexer": "ipython3",
   "version": "3.11.5"
  }
 },
 "nbformat": 4,
 "nbformat_minor": 5
}
