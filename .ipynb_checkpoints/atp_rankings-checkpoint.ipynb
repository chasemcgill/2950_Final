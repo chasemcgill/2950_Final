{
 "cells": [
  {
   "cell_type": "code",
   "execution_count": 76,
   "id": "330f7748",
   "metadata": {},
   "outputs": [
    {
     "data": {
      "text/plain": [
       "'en_US.UTF-8'"
      ]
     },
     "execution_count": 76,
     "metadata": {},
     "output_type": "execute_result"
    }
   ],
   "source": [
    "import requests\n",
    "from bs4 import BeautifulSoup\n",
    "\n",
    "import pandas as pd\n",
    "import numpy as np\n",
    "import time\n",
    "import locale\n",
    "locale.setlocale(locale.LC_ALL, 'en_US.UTF-8')"
   ]
  },
  {
   "cell_type": "code",
   "execution_count": 104,
   "id": "df2cc309",
   "metadata": {},
   "outputs": [],
   "source": [
    "#wiki_url = \"https://en.wikipedia.org/wiki/ATP_rankings\"\n",
    "wiki_url = \"https://www.atptour.com/rankings/singles\""
   ]
  },
  {
   "cell_type": "code",
   "execution_count": 105,
   "id": "5b219bae",
   "metadata": {},
   "outputs": [],
   "source": [
    "wiki_result = requests.get(wiki_url)\n",
    "if wiki_result.status_code != 200:\n",
    "  print(\"something went wrong:\", wiki_result.status_code, wiki_result.reason)"
   ]
  },
  {
   "cell_type": "code",
   "execution_count": 106,
   "id": "b82e27c4",
   "metadata": {},
   "outputs": [],
   "source": [
    "with open(\"atp_ranking.html\", \"w\") as writer:\n",
    "  writer.write(wiki_result.text)"
   ]
  },
  {
   "cell_type": "code",
   "execution_count": 107,
   "id": "71c77b47",
   "metadata": {},
   "outputs": [],
   "source": [
    "with open(\"atp_ranking.html\", \"r\") as reader:\n",
    "  html_source = reader.read()"
   ]
  },
  {
   "cell_type": "code",
   "execution_count": 108,
   "id": "e115a4a4",
   "metadata": {},
   "outputs": [],
   "source": [
    "page = BeautifulSoup(html_source, \"html.parser\")"
   ]
  },
  {
   "cell_type": "code",
   "execution_count": 26,
   "id": "599d82eb",
   "metadata": {},
   "outputs": [
    {
     "data": {
      "text/plain": [
       "<title>ATP rankings - Wikipedia</title>"
      ]
     },
     "execution_count": 26,
     "metadata": {},
     "output_type": "execute_result"
    }
   ],
   "source": [
    "wikitable nowrap"
   ]
  },
  {
   "cell_type": "code",
   "execution_count": 123,
   "id": "ab0a85c6",
   "metadata": {},
   "outputs": [
    {
     "name": "stdout",
     "output_type": "stream",
     "text": [
      "[11545.0, 8715.0, 7490.0, 4910.0, 4640.0, 4615.0, 4550.0, 3865.0, 3605.0, 3450.0, 2685.0, 2660.0, 2645.0, 2385.0, 2340.0, 2020.0, 1990.0, 1925.0, 1880.0, 1735.0, 1635.0, 1552.0, 1526.0, 1481.0, 1470.0, 1470.0, 1462.0, 1415.0, 1375.0, 1367.0, 1346.0, 1313.0, 1301.0, 1256.0, 1209.0, 1190.0, 1175.0, 1120.0, 1085.0, 1050.0, 1047.0, 1037.0, 1030.0, 1020.0, 1010.0, 982.0, 971.0, 970.0, 967.0, 962.0, 955.0, 943.0, 933.0, 918.0, 913.0, 901.0, 887.0, 885.0, 880.0, 872.0, 870.0, 867.0, 860.0, 832.0, 825.0, 816.0, 805.0, 791.0, 766.0, 766.0, 757.0, 756.0, 753.0, 747.0, 747.0, 740.0, 738.0, 737.0, 731.0, 730.0, 726.0, 721.0, 718.0, 709.0, 694.0, 692.0, 686.0, 669.0, 665.0, 664.0, 662.0, 656.0, 648.0, 647.0, 643.0, 630.0, 629.0, 626.0, 624.0, 618.0]\n",
      "['Novak Djokovic', 'Carlos Alcaraz', 'Daniil Medvedev', 'Jannik Sinner', 'Holger Rune', 'Stefanos Tsitsipas', 'Andrey Rublev', 'Taylor Fritz', 'Casper Ruud', 'Alexander Zverev', 'Alex de Minaur', 'Tommy Paul', 'Frances Tiafoe', 'Karen Khachanov', 'Felix Auger-Aliassime', 'Cameron Norrie', 'Hubert Hurkacz', 'Lorenzo Musetti', 'Grigor Dimitrov', 'Ben Shelton', 'Francisco Cerundolo', 'Nicolas Jarry', 'Adrian Mannarino', 'Tallon Griekspoor', 'Alejandro Davidovich Fokina', 'Sebastian Korda', 'Jan-Lennard Struff', 'Borna Coric', 'Sebastian Baez', 'Jiri Lehecka', 'Tomas Martin Etcheverry', 'Christopher Eubanks', 'Daniel Evans', 'Ugo Humbert', 'Alexander Bublik', 'Laslo Djere', 'Denis Shapovalov', 'Mackenzie McDonald', 'Andy Murray', 'Roberto Bautista Agut', 'Max Purcell', 'Matteo Arnaldi', 'Alexei Popyrin', 'Arthur Fils', 'Miomir Kecmanovic', 'Stan Wawrinka', 'Daniel Altmaier', 'Yoshihito Nishioka', 'Sebastian Ofner', 'Roman Safiullin', 'J.J. Wolf', 'Aslan Karatsev', 'Yannick Hanfmann', 'Aleksandar Vukic', 'Dusan Lajovic', 'Emil Ruusuvuori', 'Marton Fucsovics', \"Christopher O'Connell\", 'Lorenzo Sonego', 'Zhizhen Zhang', 'Roberto Carballes Baena', 'Jordan Thompson', 'Richard Gasquet', 'Matteo Berrettini', 'Juan Pablo Varillas', 'Luca Van Assche', 'Botic van de Zandschulp', 'Arthur Rinderknech', 'Thanasi Kokkinakis', 'Bernabe Zapata Miralles', 'Pedro Cachin', 'Dominic Thiem', 'Gregoire Barrere', 'Borna Gojo', 'Rinky Hijikata', 'Quentin Halys', 'Thiago Seyboth Wild', 'Dominik Koepfer', 'Yosuke Watanuki', 'Marcos Giron', 'Alexandre Muller', 'Jaume Munar', 'Federico Coria', 'Alexander Shevchenko', 'Nuno Borges', 'Michael Mmoh', 'Mikael Ymer', 'Dominic Stricker', 'Benjamin Bonzi', 'Daniel Elahi Galan', 'Fabian Marozsan', 'Jack Draper', 'Albert Ramos-Vinolas', 'Hugo Gaston', 'Jason Kubler', 'Tomas Machac', 'Taro Daniel', 'Cristian Garin', 'David Goffin', 'Jurij Rodionov']\n",
      "100\n",
      "100\n"
     ]
    }
   ],
   "source": [
    "atp_rankings = page.find(\"table\", {\"id\":\"player-rank-detail-ajax\"})\n",
    "item_count = 0\n",
    "items = []\n",
    "rankings = []\n",
    "players = []\n",
    "for row in atp_rankings.tbody.findAll('tr'):\n",
    "    for item in row.findAll('td'):\n",
    "        items.append(item)\n",
    "        item_count += 1\n",
    "        try:\n",
    "            items[item_count -1] = locale.atof(items[item_count-1].text)\n",
    "            \n",
    "            if(items[item_count-1] > 600):\n",
    "                rankings.append(items[item_count -1])\n",
    "        except:\n",
    "            if len(items[item_count-1].text.strip()) > 0:\n",
    "                players.append(items[item_count-1].text.strip())\n",
    "atp_items = page.find_all(\"td\", {\"style\": \"text_align:left\"})\n"
   ]
  },
  {
   "cell_type": "code",
   "execution_count": null,
   "id": "c14c2743",
   "metadata": {},
   "outputs": [],
   "source": [
    "for row in soup.findAll('table')[0].tbody.findAll('tr'):\n",
    "    first_column = row.findAll('th')[0].contents\n",
    "    third_column = row.findAll('td')[2].contents\n",
    "    print first_column, third_column"
   ]
  }
 ],
 "metadata": {
  "kernelspec": {
   "display_name": "Python 3 (ipykernel)",
   "language": "python",
   "name": "python3"
  },
  "language_info": {
   "codemirror_mode": {
    "name": "ipython",
    "version": 3
   },
   "file_extension": ".py",
   "mimetype": "text/x-python",
   "name": "python",
   "nbconvert_exporter": "python",
   "pygments_lexer": "ipython3",
   "version": "3.9.17"
  }
 },
 "nbformat": 4,
 "nbformat_minor": 5
}
