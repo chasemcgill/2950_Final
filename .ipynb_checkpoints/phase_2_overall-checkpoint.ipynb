{
 "cells": [
  {
   "cell_type": "code",
   "execution_count": 88,
   "id": "6741595c",
   "metadata": {},
   "outputs": [],
   "source": [
    "import requests\n",
    "from bs4 import BeautifulSoup\n",
    "import pandas as pd\n",
    "import numpy as np\n",
    "import time\n",
    "import locale\n",
    "locale.setlocale(locale.LC_ALL, 'en_US.UTF-8')\n",
    "import pandas as pd\n",
    "import duckdb\n",
    "from selenium import webdriver\n",
    "from sklearn.metrics import precision_score,recall_score, f1_score, roc_auc_score\n",
    "import os \n",
    "import pandas as pd\n",
    "from sklearn.linear_model import LogisticRegression\n",
    "import matplotlib.pyplot as plt"
   ]
  },
  {
   "cell_type": "markdown",
   "id": "7d0dd1c2",
   "metadata": {},
   "source": [
    "# Research Question"
   ]
  },
  {
   "cell_type": "markdown",
   "id": "7d3f86c8",
   "metadata": {},
   "source": [
    "Can we use two ATP men's tennis players overall rankings, server ratings, and return ratings (compiled by the Association of Tennis Professionals) to predict who will win a tennis match between the two players? Specifically, can we use the relative ratings/rankings of each player (ie. rating of player 1 - rating of player 2) to determine who will win the match? Can we use this model to comment on which metrics are the best predictor of tennis performance? (i.e. Is serving more important than returning? Is overall ranking more important than specific skills? etc)\n",
    "\n",
    "The Association of Tennis Professionals (ATP) compiles a ranking of each male tennis athlete in their league, and also computes metrics about the players skill in serving and returning. We would like to train a multivariate logistic regression model on all of the 2023 ATP men's tennis match results to predict the winner and loser of a tennis match based on their respective overall rankings and serving/return ratings. \n",
    "\n",
    "Then, we would like to evaluate the reliability of this model using binary regression metrics like precision, recall, ROC/AUC, and F1."
   ]
  },
  {
   "cell_type": "markdown",
   "id": "b9f48ca7",
   "metadata": {},
   "source": [
    "# Data Cleaning"
   ]
  },
  {
   "cell_type": "markdown",
   "id": "b6fdd569",
   "metadata": {},
   "source": [
    "### Overall Rankings\n",
    "We will begin by querying the ATP tour website. We will use beautiful soup to parse the html file, closely following the procedure from Discussion 3."
   ]
  },
  {
   "cell_type": "code",
   "execution_count": 29,
   "id": "c0e1d914",
   "metadata": {},
   "outputs": [],
   "source": [
    "atp_rankings_url = \"https://www.atptour.com/rankings/singles\"\n",
    "atp_rankings_result = requests.get(atp_rankings_url)\n",
    "if atp_rankings_result.status_code != 200:\n",
    "  print(\"something went wrong:\", atp_rankings_result.status_code, atp_rankings_result.reason)\n",
    "with open(\"atp_ranking.html\", \"w\") as writer:\n",
    "  writer.write(atp_rankings_result.text)\n",
    "with open(\"atp_ranking.html\", \"r\") as reader:\n",
    "  html_source = reader.read()\n",
    "page = BeautifulSoup(html_source, \"html.parser\")"
   ]
  },
  {
   "cell_type": "markdown",
   "id": "4cbfb319",
   "metadata": {},
   "source": [
    "Next, we will locate the table where the player rankings are stored on the ATP website. I will iterate through each row in the table. The number of items in each row is unlabeled and highly irregular, so we will need to take some ugly shortcuts to determine which values correspond to the player's name, and which corresponds to their ranking as compiled by ATP. Essentially, for each item in each row, we try to convert it to a float - if we get an error, we know that the item in the row is a string. The only string value in each row is the player name, so we know that item corresponds to the player name. If we are successful in converting our item to a float, then the only values in the table which will exceed 610 will be the player rankings. So we check if the value is larger than 610, and if it is, we add it to the player rankings list. At the end, we verify that the length of these lists are the same length, confirming that we didn't miss any values. \n",
    "\n",
    "This method is extremely messy because it is not invariant under changes in the format of the table - if extra values are added to each row that are strings, this step will fail. If there is a new row added to the table with floats that are in excess of 610, this step will fail. However, data cleaning is messy and we only need to get this data into a csv one time for it to work reliably, so we will proceed with this method for now. Perhaps in later phases we can go back and clean up this step."
   ]
  },
  {
   "cell_type": "code",
   "execution_count": 30,
   "id": "854f8086",
   "metadata": {},
   "outputs": [
    {
     "data": {
      "text/html": [
       "<div>\n",
       "<style scoped>\n",
       "    .dataframe tbody tr th:only-of-type {\n",
       "        vertical-align: middle;\n",
       "    }\n",
       "\n",
       "    .dataframe tbody tr th {\n",
       "        vertical-align: top;\n",
       "    }\n",
       "\n",
       "    .dataframe thead th {\n",
       "        text-align: right;\n",
       "    }\n",
       "</style>\n",
       "<table border=\"1\" class=\"dataframe\">\n",
       "  <thead>\n",
       "    <tr style=\"text-align: right;\">\n",
       "      <th></th>\n",
       "      <th>player</th>\n",
       "      <th>ranking</th>\n",
       "    </tr>\n",
       "  </thead>\n",
       "  <tbody>\n",
       "    <tr>\n",
       "      <th>0</th>\n",
       "      <td>Novak Djokovic</td>\n",
       "      <td>11045.0</td>\n",
       "    </tr>\n",
       "    <tr>\n",
       "      <th>1</th>\n",
       "      <td>Carlos Alcaraz</td>\n",
       "      <td>8805.0</td>\n",
       "    </tr>\n",
       "    <tr>\n",
       "      <th>2</th>\n",
       "      <td>Daniil Medvedev</td>\n",
       "      <td>7355.0</td>\n",
       "    </tr>\n",
       "    <tr>\n",
       "      <th>3</th>\n",
       "      <td>Jannik Sinner</td>\n",
       "      <td>5000.0</td>\n",
       "    </tr>\n",
       "    <tr>\n",
       "      <th>4</th>\n",
       "      <td>Andrey Rublev</td>\n",
       "      <td>4765.0</td>\n",
       "    </tr>\n",
       "    <tr>\n",
       "      <th>...</th>\n",
       "      <td>...</td>\n",
       "      <td>...</td>\n",
       "    </tr>\n",
       "    <tr>\n",
       "      <th>95</th>\n",
       "      <td>Hugo Gaston</td>\n",
       "      <td>643.0</td>\n",
       "    </tr>\n",
       "    <tr>\n",
       "      <th>96</th>\n",
       "      <td>Taro Daniel</td>\n",
       "      <td>634.0</td>\n",
       "    </tr>\n",
       "    <tr>\n",
       "      <th>97</th>\n",
       "      <td>Facundo Diaz Acosta</td>\n",
       "      <td>633.0</td>\n",
       "    </tr>\n",
       "    <tr>\n",
       "      <th>98</th>\n",
       "      <td>Juan Manuel Cerundolo</td>\n",
       "      <td>618.0</td>\n",
       "    </tr>\n",
       "    <tr>\n",
       "      <th>99</th>\n",
       "      <td>Liam Broady</td>\n",
       "      <td>617.0</td>\n",
       "    </tr>\n",
       "  </tbody>\n",
       "</table>\n",
       "<p>100 rows × 2 columns</p>\n",
       "</div>"
      ],
      "text/plain": [
       "                   player  ranking\n",
       "0          Novak Djokovic  11045.0\n",
       "1          Carlos Alcaraz   8805.0\n",
       "2         Daniil Medvedev   7355.0\n",
       "3           Jannik Sinner   5000.0\n",
       "4           Andrey Rublev   4765.0\n",
       "..                    ...      ...\n",
       "95            Hugo Gaston    643.0\n",
       "96            Taro Daniel    634.0\n",
       "97    Facundo Diaz Acosta    633.0\n",
       "98  Juan Manuel Cerundolo    618.0\n",
       "99            Liam Broady    617.0\n",
       "\n",
       "[100 rows x 2 columns]"
      ]
     },
     "execution_count": 30,
     "metadata": {},
     "output_type": "execute_result"
    }
   ],
   "source": [
    "atp_rankings = page.find(\"table\", {\"id\":\"player-rank-detail-ajax\"})\n",
    "item_count = 0\n",
    "items = []\n",
    "rankings = []\n",
    "players = []\n",
    "for row in atp_rankings.tbody.findAll('tr'):\n",
    "    for item in row.findAll('td'):\n",
    "        items.append(item)\n",
    "        item_count += 1\n",
    "        try:\n",
    "            items[item_count -1] = locale.atof(items[item_count-1].text)\n",
    "            \n",
    "            if(items[item_count-1] > 610):\n",
    "                rankings.append(items[item_count -1])\n",
    "        except:\n",
    "            if len(items[item_count-1].text.strip()) > 0:\n",
    "                players.append(items[item_count-1].text.strip())\n",
    "atp_items = page.find_all(\"td\", {\"data-type\": \"text_align:left\"})\n",
    "rankings_df = pd.DataFrame({\"player\":players, \"ranking\":rankings})\n",
    "rankings_df.to_csv(\"atp_rankings.csv\")\n",
    "rankings_df"
   ]
  },
  {
   "cell_type": "markdown",
   "id": "31468309",
   "metadata": {},
   "source": [
    "### Serve Leaders\n",
    "This code is using the Firefox webdriver to get the HTML data from the atp website. We are using a webdriver because the data were are trying to scrape is dynamically loaded, and as such doesn't appear when BeautifulSoup is used. "
   ]
  },
  {
   "cell_type": "code",
   "execution_count": 31,
   "id": "643d2e7e",
   "metadata": {},
   "outputs": [],
   "source": [
    "atp_serve_url = 'https://www.atptour.com/en/stats/leaderboard?boardType=serve&timeFrame=52Week&surface=all&versusRank=all&formerNo1=false'\n",
    "driver = webdriver.Firefox(executable_path=str(str(os.getcwd())+'/geckodriver'))\n",
    "driver.get(atp_serve_url)\n",
    "driver.implicitly_wait(2)"
   ]
  },
  {
   "cell_type": "markdown",
   "id": "3be762b9",
   "metadata": {},
   "source": [
    "We are finding every HTML instance of the tag name 'tr', which includes the rows of data for every player in the top 80 serve leaders. These are stored in r, an array of webdriver objects"
   ]
  },
  {
   "cell_type": "code",
   "execution_count": 32,
   "id": "83e92993",
   "metadata": {},
   "outputs": [
    {
     "name": "stdout",
     "output_type": "stream",
     "text": [
      "r length: 80\n",
      "r index 0: <selenium.webdriver.firefox.webelement.FirefoxWebElement (session=\"41a11396-b59f-4a90-b954-9ad8ed5beac8\", element=\"fd64b793-4733-4cee-9f7d-d0d6afc3bfbb\")>\n"
     ]
    }
   ],
   "source": [
    "table = driver.find_element_by_id('leaderboardTable')\n",
    "r = table.find_elements_by_tag_name('tr')\n",
    "print(\"r length: \"+str(len(r)))\n",
    "print(\"r index 0: \"+str(r[0]))"
   ]
  },
  {
   "cell_type": "markdown",
   "id": "448a8611",
   "metadata": {},
   "source": [
    "For every row in the atp serve leaders website, we are taking the corresponding webdriver object and taking out the name of the player and the serve rating and serve-related-data of the player, storing them in names and serve_df"
   ]
  },
  {
   "cell_type": "code",
   "execution_count": 33,
   "id": "84f42e9b",
   "metadata": {},
   "outputs": [
    {
     "name": "stdout",
     "output_type": "stream",
     "text": [
      "names length: 80\n",
      "names first 5: ['Hubert Hurkacz', 'Novak Djokovic', 'Stefanos Tsitsipas', 'Christopher Eubanks', 'Nicolas Jarry']\n",
      "serve_df length: 80\n",
      "serve_df first 5: [array([297. ,  63.9,  79.8,  51.3,  88.1,  16. ,   2.1]), array([292.7,  64.5,  77.3,  58.2,  88.7,   6.6,   2.6]), array([292. ,  64.8,  78.4,  54.9,  88.4,   7.6,   2.1]), array([289.9,  68.8,  73.8,  52.9,  85.4,  12.1,   3.1]), array([289.1,  65.1,  76.6,  53.5,  87. ,   9. ,   2.1])]\n"
     ]
    }
   ],
   "source": [
    "names = []  \n",
    "serve_df = []\n",
    "for row in r:\n",
    "  name = row.text.split('\\n')[1]\n",
    "  row = np.array(row.text.split('\\n')[2].split(' '))\n",
    "  for i in range(len(row)): \n",
    "    if '%' in row[i]: row[i] = row[i].replace('%', '')\n",
    "\n",
    "  names.append(name)\n",
    "  serve_df.append(row.astype(float))\n",
    "\n",
    "print(\"names length: \"+str(len(names)))\n",
    "print(\"names first 5: \"+str(names[0:5]))\n",
    "print(\"serve_df length: \"+str(len(serve_df)))\n",
    "print(\"serve_df first 5: \"+str(serve_df[0:5]))"
   ]
  },
  {
   "cell_type": "markdown",
   "id": "729fed3d",
   "metadata": {},
   "source": [
    "Here we are processing the names and serve_df data and putting it all into one dataframe"
   ]
  },
  {
   "cell_type": "code",
   "execution_count": 34,
   "id": "fbfa472d",
   "metadata": {},
   "outputs": [
    {
     "data": {
      "text/html": [
       "<div>\n",
       "<style scoped>\n",
       "    .dataframe tbody tr th:only-of-type {\n",
       "        vertical-align: middle;\n",
       "    }\n",
       "\n",
       "    .dataframe tbody tr th {\n",
       "        vertical-align: top;\n",
       "    }\n",
       "\n",
       "    .dataframe thead th {\n",
       "        text-align: right;\n",
       "    }\n",
       "</style>\n",
       "<table border=\"1\" class=\"dataframe\">\n",
       "  <thead>\n",
       "    <tr style=\"text-align: right;\">\n",
       "      <th></th>\n",
       "      <th>name</th>\n",
       "      <th>serve_rating</th>\n",
       "      <th>1st_serve_%</th>\n",
       "      <th>1st_serve_points_won_%</th>\n",
       "      <th>2nd_serve_points_won_%</th>\n",
       "      <th>service_games_won_%</th>\n",
       "      <th>avg_aces_per_match</th>\n",
       "      <th>avg_double_faults_per_match</th>\n",
       "    </tr>\n",
       "  </thead>\n",
       "  <tbody>\n",
       "    <tr>\n",
       "      <th>0</th>\n",
       "      <td>Hubert Hurkacz</td>\n",
       "      <td>297.0</td>\n",
       "      <td>63.9</td>\n",
       "      <td>79.8</td>\n",
       "      <td>51.3</td>\n",
       "      <td>88.1</td>\n",
       "      <td>16.0</td>\n",
       "      <td>2.1</td>\n",
       "    </tr>\n",
       "    <tr>\n",
       "      <th>1</th>\n",
       "      <td>Novak Djokovic</td>\n",
       "      <td>292.7</td>\n",
       "      <td>64.5</td>\n",
       "      <td>77.3</td>\n",
       "      <td>58.2</td>\n",
       "      <td>88.7</td>\n",
       "      <td>6.6</td>\n",
       "      <td>2.6</td>\n",
       "    </tr>\n",
       "    <tr>\n",
       "      <th>2</th>\n",
       "      <td>Stefanos Tsitsipas</td>\n",
       "      <td>292.0</td>\n",
       "      <td>64.8</td>\n",
       "      <td>78.4</td>\n",
       "      <td>54.9</td>\n",
       "      <td>88.4</td>\n",
       "      <td>7.6</td>\n",
       "      <td>2.1</td>\n",
       "    </tr>\n",
       "    <tr>\n",
       "      <th>3</th>\n",
       "      <td>Christopher Eubanks</td>\n",
       "      <td>289.9</td>\n",
       "      <td>68.8</td>\n",
       "      <td>73.8</td>\n",
       "      <td>52.9</td>\n",
       "      <td>85.4</td>\n",
       "      <td>12.1</td>\n",
       "      <td>3.1</td>\n",
       "    </tr>\n",
       "    <tr>\n",
       "      <th>4</th>\n",
       "      <td>Nicolas Jarry</td>\n",
       "      <td>289.1</td>\n",
       "      <td>65.1</td>\n",
       "      <td>76.6</td>\n",
       "      <td>53.5</td>\n",
       "      <td>87.0</td>\n",
       "      <td>9.0</td>\n",
       "      <td>2.1</td>\n",
       "    </tr>\n",
       "    <tr>\n",
       "      <th>...</th>\n",
       "      <td>...</td>\n",
       "      <td>...</td>\n",
       "      <td>...</td>\n",
       "      <td>...</td>\n",
       "      <td>...</td>\n",
       "      <td>...</td>\n",
       "      <td>...</td>\n",
       "      <td>...</td>\n",
       "    </tr>\n",
       "    <tr>\n",
       "      <th>75</th>\n",
       "      <td>Botic van de Zandschulp</td>\n",
       "      <td>251.3</td>\n",
       "      <td>62.3</td>\n",
       "      <td>68.5</td>\n",
       "      <td>46.3</td>\n",
       "      <td>73.1</td>\n",
       "      <td>5.3</td>\n",
       "      <td>4.2</td>\n",
       "    </tr>\n",
       "    <tr>\n",
       "      <th>76</th>\n",
       "      <td>Jaume Munar</td>\n",
       "      <td>248.7</td>\n",
       "      <td>68.3</td>\n",
       "      <td>65.6</td>\n",
       "      <td>45.7</td>\n",
       "      <td>69.6</td>\n",
       "      <td>2.5</td>\n",
       "      <td>3.0</td>\n",
       "    </tr>\n",
       "    <tr>\n",
       "      <th>77</th>\n",
       "      <td>Sebastian Ofner</td>\n",
       "      <td>248.6</td>\n",
       "      <td>56.9</td>\n",
       "      <td>71.0</td>\n",
       "      <td>47.1</td>\n",
       "      <td>71.8</td>\n",
       "      <td>5.6</td>\n",
       "      <td>3.8</td>\n",
       "    </tr>\n",
       "    <tr>\n",
       "      <th>78</th>\n",
       "      <td>Diego Schwartzman</td>\n",
       "      <td>243.7</td>\n",
       "      <td>67.7</td>\n",
       "      <td>62.3</td>\n",
       "      <td>47.6</td>\n",
       "      <td>67.7</td>\n",
       "      <td>1.1</td>\n",
       "      <td>2.7</td>\n",
       "    </tr>\n",
       "    <tr>\n",
       "      <th>79</th>\n",
       "      <td>Bernabe Zapata Miralles</td>\n",
       "      <td>242.2</td>\n",
       "      <td>66.2</td>\n",
       "      <td>63.6</td>\n",
       "      <td>45.3</td>\n",
       "      <td>67.3</td>\n",
       "      <td>1.8</td>\n",
       "      <td>2.0</td>\n",
       "    </tr>\n",
       "  </tbody>\n",
       "</table>\n",
       "<p>80 rows × 8 columns</p>\n",
       "</div>"
      ],
      "text/plain": [
       "                       name  serve_rating  1st_serve_%  \\\n",
       "0            Hubert Hurkacz         297.0         63.9   \n",
       "1            Novak Djokovic         292.7         64.5   \n",
       "2        Stefanos Tsitsipas         292.0         64.8   \n",
       "3       Christopher Eubanks         289.9         68.8   \n",
       "4             Nicolas Jarry         289.1         65.1   \n",
       "..                      ...           ...          ...   \n",
       "75  Botic van de Zandschulp         251.3         62.3   \n",
       "76              Jaume Munar         248.7         68.3   \n",
       "77          Sebastian Ofner         248.6         56.9   \n",
       "78        Diego Schwartzman         243.7         67.7   \n",
       "79  Bernabe Zapata Miralles         242.2         66.2   \n",
       "\n",
       "    1st_serve_points_won_%  2nd_serve_points_won_%  service_games_won_%  \\\n",
       "0                     79.8                    51.3                 88.1   \n",
       "1                     77.3                    58.2                 88.7   \n",
       "2                     78.4                    54.9                 88.4   \n",
       "3                     73.8                    52.9                 85.4   \n",
       "4                     76.6                    53.5                 87.0   \n",
       "..                     ...                     ...                  ...   \n",
       "75                    68.5                    46.3                 73.1   \n",
       "76                    65.6                    45.7                 69.6   \n",
       "77                    71.0                    47.1                 71.8   \n",
       "78                    62.3                    47.6                 67.7   \n",
       "79                    63.6                    45.3                 67.3   \n",
       "\n",
       "    avg_aces_per_match  avg_double_faults_per_match  \n",
       "0                 16.0                          2.1  \n",
       "1                  6.6                          2.6  \n",
       "2                  7.6                          2.1  \n",
       "3                 12.1                          3.1  \n",
       "4                  9.0                          2.1  \n",
       "..                 ...                          ...  \n",
       "75                 5.3                          4.2  \n",
       "76                 2.5                          3.0  \n",
       "77                 5.6                          3.8  \n",
       "78                 1.1                          2.7  \n",
       "79                 1.8                          2.0  \n",
       "\n",
       "[80 rows x 8 columns]"
      ]
     },
     "execution_count": 34,
     "metadata": {},
     "output_type": "execute_result"
    }
   ],
   "source": [
    "serve_df = pd.DataFrame(serve_df)\n",
    "serve_df = serve_df.rename(columns={0:'serve_rating', 1:'1st_serve_%', 2:'1st_serve_points_won_%', 3:'2nd_serve_points_won_%', \n",
    "                                      4:'service_games_won_%', 5:'avg_aces_per_match', 6:'avg_double_faults_per_match'})\n",
    "names = pd.Series(names)\n",
    "serve_df = pd.concat([pd.Series(names), serve_df], axis=1, )\n",
    "serve_df = serve_df.rename(columns={0:'name'})\n",
    "\n",
    "serve_df.to_csv('serve_leader_df.csv')\n",
    "serve_df"
   ]
  },
  {
   "cell_type": "markdown",
   "id": "3fe7659a",
   "metadata": {},
   "source": [
    "### Return Leaders\n",
    "This first section is initializing the webdriver object using Selenium. Because the atp website is dynamically loaded, we can't use BeautifulSoup to access the html."
   ]
  },
  {
   "cell_type": "code",
   "execution_count": 10,
   "id": "38ca3ef5",
   "metadata": {},
   "outputs": [],
   "source": [
    "link = 'https://www.atptour.com/en/stats/leaderboard?boardType=return&timeFrame=52Week&surface=all&versusRank=all&formerNo1=false'\n",
    "browser = webdriver.Firefox(executable_path='/Users/chasemcgill/Downloads/geckodriver')\n",
    "browser.get(link)\n"
   ]
  },
  {
   "cell_type": "markdown",
   "id": "9223236b",
   "metadata": {},
   "source": [
    "Next, we found the table containing all the information of return leaders in 2023. First we accessed the table element as a whole, then created a list where each element is a separate row."
   ]
  },
  {
   "cell_type": "code",
   "execution_count": 11,
   "id": "08b56d94",
   "metadata": {},
   "outputs": [],
   "source": [
    "table = browser.find_element_by_id('leaderboardTable')\n",
    "r = table.find_elements_by_tag_name('tr')"
   ]
  },
  {
   "cell_type": "markdown",
   "id": "c5891b3d",
   "metadata": {},
   "source": [
    "This is a quick function to make the process of getting each player's information easier. This function parses the text of each row to return a dictionary containing all the pertinent information about a player, like their name and return rating."
   ]
  },
  {
   "cell_type": "code",
   "execution_count": 12,
   "id": "bd91f0d1",
   "metadata": {},
   "outputs": [],
   "source": [
    "def GetInfo(id, row = r):\n",
    "    t = row[id].text\n",
    "    first_slash = t.index('\\n')\n",
    "    standing = t[:first_slash]\n",
    "    name = t[first_slash+1:t.rfind('\\n')]\n",
    "    stats = t[t.rfind('\\n')+1:].split(' ')\n",
    "    \n",
    "    return {'Name': name, 'Standing': standing, 'Return Rating': float(stats[0]), '% 1st Serve Return Points W'\\\n",
    "            : float(stats[1][:-1]),\\\n",
    "            '% 2nd Serve Return Points W':float(stats[2][:-1]), '% Return Games Won': float(stats[3][:-1]),\\\n",
    "            '% Break Points Converted': float(stats[4][:-1])}"
   ]
  },
  {
   "cell_type": "markdown",
   "id": "06cd6428",
   "metadata": {},
   "source": [
    "Finally, this cell is where the dataframe containing all the information is created. We used the GetInfo() function to  create the first row of the data frame, and then a for loop to fill it in with all the other player's information."
   ]
  },
  {
   "cell_type": "code",
   "execution_count": 13,
   "id": "aebeb090",
   "metadata": {},
   "outputs": [
    {
     "data": {
      "text/html": [
       "<div>\n",
       "<style scoped>\n",
       "    .dataframe tbody tr th:only-of-type {\n",
       "        vertical-align: middle;\n",
       "    }\n",
       "\n",
       "    .dataframe tbody tr th {\n",
       "        vertical-align: top;\n",
       "    }\n",
       "\n",
       "    .dataframe thead th {\n",
       "        text-align: right;\n",
       "    }\n",
       "</style>\n",
       "<table border=\"1\" class=\"dataframe\">\n",
       "  <thead>\n",
       "    <tr style=\"text-align: right;\">\n",
       "      <th></th>\n",
       "      <th>Name</th>\n",
       "      <th>Standing</th>\n",
       "      <th>Return Rating</th>\n",
       "      <th>% 1st Serve Return Points W</th>\n",
       "      <th>% 2nd Serve Return Points W</th>\n",
       "      <th>% Return Games Won</th>\n",
       "      <th>% Break Points Converted</th>\n",
       "    </tr>\n",
       "  </thead>\n",
       "  <tbody>\n",
       "    <tr>\n",
       "      <th>0</th>\n",
       "      <td>Daniil Medvedev</td>\n",
       "      <td>1</td>\n",
       "      <td>166.1</td>\n",
       "      <td>33.6</td>\n",
       "      <td>54.2</td>\n",
       "      <td>31.3</td>\n",
       "      <td>47.0</td>\n",
       "    </tr>\n",
       "    <tr>\n",
       "      <th>1</th>\n",
       "      <td>Carlos Alcaraz</td>\n",
       "      <td>2</td>\n",
       "      <td>162.0</td>\n",
       "      <td>35.5</td>\n",
       "      <td>53.8</td>\n",
       "      <td>32.2</td>\n",
       "      <td>40.5</td>\n",
       "    </tr>\n",
       "    <tr>\n",
       "      <th>2</th>\n",
       "      <td>Jannik Sinner</td>\n",
       "      <td>3</td>\n",
       "      <td>160.8</td>\n",
       "      <td>33.1</td>\n",
       "      <td>54.9</td>\n",
       "      <td>29.9</td>\n",
       "      <td>42.9</td>\n",
       "    </tr>\n",
       "    <tr>\n",
       "      <th>3</th>\n",
       "      <td>Novak Djokovic</td>\n",
       "      <td>4</td>\n",
       "      <td>159.1</td>\n",
       "      <td>33.4</td>\n",
       "      <td>54.8</td>\n",
       "      <td>29.2</td>\n",
       "      <td>41.7</td>\n",
       "    </tr>\n",
       "    <tr>\n",
       "      <th>4</th>\n",
       "      <td>Alex de Minaur</td>\n",
       "      <td>5</td>\n",
       "      <td>157.7</td>\n",
       "      <td>33.5</td>\n",
       "      <td>52.1</td>\n",
       "      <td>29.3</td>\n",
       "      <td>42.8</td>\n",
       "    </tr>\n",
       "    <tr>\n",
       "      <th>...</th>\n",
       "      <td>...</td>\n",
       "      <td>...</td>\n",
       "      <td>...</td>\n",
       "      <td>...</td>\n",
       "      <td>...</td>\n",
       "      <td>...</td>\n",
       "      <td>...</td>\n",
       "    </tr>\n",
       "    <tr>\n",
       "      <th>75</th>\n",
       "      <td>Quentin Halys</td>\n",
       "      <td>76</td>\n",
       "      <td>121.0</td>\n",
       "      <td>25.1</td>\n",
       "      <td>44.5</td>\n",
       "      <td>14.8</td>\n",
       "      <td>36.6</td>\n",
       "    </tr>\n",
       "    <tr>\n",
       "      <th>76</th>\n",
       "      <td>Brandon Nakashima</td>\n",
       "      <td>77</td>\n",
       "      <td>118.1</td>\n",
       "      <td>27.1</td>\n",
       "      <td>45.7</td>\n",
       "      <td>14.8</td>\n",
       "      <td>30.5</td>\n",
       "    </tr>\n",
       "    <tr>\n",
       "      <th>77</th>\n",
       "      <td>Alexei Popyrin</td>\n",
       "      <td>78</td>\n",
       "      <td>117.1</td>\n",
       "      <td>25.7</td>\n",
       "      <td>45.6</td>\n",
       "      <td>14.4</td>\n",
       "      <td>31.4</td>\n",
       "    </tr>\n",
       "    <tr>\n",
       "      <th>78</th>\n",
       "      <td>Christopher Eubanks</td>\n",
       "      <td>79</td>\n",
       "      <td>116.6</td>\n",
       "      <td>22.5</td>\n",
       "      <td>45.6</td>\n",
       "      <td>13.0</td>\n",
       "      <td>35.5</td>\n",
       "    </tr>\n",
       "    <tr>\n",
       "      <th>79</th>\n",
       "      <td>Maxime Cressy</td>\n",
       "      <td>80</td>\n",
       "      <td>102.0</td>\n",
       "      <td>22.0</td>\n",
       "      <td>38.5</td>\n",
       "      <td>9.0</td>\n",
       "      <td>32.5</td>\n",
       "    </tr>\n",
       "  </tbody>\n",
       "</table>\n",
       "<p>80 rows × 7 columns</p>\n",
       "</div>"
      ],
      "text/plain": [
       "                   Name Standing Return Rating % 1st Serve Return Points W  \\\n",
       "0       Daniil Medvedev        1         166.1                        33.6   \n",
       "1        Carlos Alcaraz        2         162.0                        35.5   \n",
       "2         Jannik Sinner        3         160.8                        33.1   \n",
       "3        Novak Djokovic        4         159.1                        33.4   \n",
       "4        Alex de Minaur        5         157.7                        33.5   \n",
       "..                  ...      ...           ...                         ...   \n",
       "75        Quentin Halys       76         121.0                        25.1   \n",
       "76    Brandon Nakashima       77         118.1                        27.1   \n",
       "77       Alexei Popyrin       78         117.1                        25.7   \n",
       "78  Christopher Eubanks       79         116.6                        22.5   \n",
       "79        Maxime Cressy       80         102.0                        22.0   \n",
       "\n",
       "   % 2nd Serve Return Points W % Return Games Won % Break Points Converted  \n",
       "0                         54.2               31.3                     47.0  \n",
       "1                         53.8               32.2                     40.5  \n",
       "2                         54.9               29.9                     42.9  \n",
       "3                         54.8               29.2                     41.7  \n",
       "4                         52.1               29.3                     42.8  \n",
       "..                         ...                ...                      ...  \n",
       "75                        44.5               14.8                     36.6  \n",
       "76                        45.7               14.8                     30.5  \n",
       "77                        45.6               14.4                     31.4  \n",
       "78                        45.6               13.0                     35.5  \n",
       "79                        38.5                9.0                     32.5  \n",
       "\n",
       "[80 rows x 7 columns]"
      ]
     },
     "execution_count": 13,
     "metadata": {},
     "output_type": "execute_result"
    }
   ],
   "source": [
    "y = GetInfo(0)\n",
    "return_df = pd.DataFrame(y, index = [0])\n",
    "for x in range(len(r))[1:]:\n",
    "    record = pd.Series(GetInfo(x))\n",
    "    return_df = pd.concat([return_df, record.to_frame().T], ignore_index = True)\n",
    "\n",
    "return_df.to_csv('serve_return.csv')\n",
    "return_df"
   ]
  },
  {
   "cell_type": "markdown",
   "id": "503e6e85",
   "metadata": {},
   "source": [
    "### Joining the different tables\n",
    "Now, we are loading in a dataframe (described in the data description section) compiled by a tennis statistician, with the results of every ATP men's tennis match that occured in the calendar year of 2023, plus a ton of other data."
   ]
  },
  {
   "cell_type": "code",
   "execution_count": 35,
   "id": "fd56c0b7",
   "metadata": {},
   "outputs": [
    {
     "data": {
      "text/html": [
       "<div>\n",
       "<style scoped>\n",
       "    .dataframe tbody tr th:only-of-type {\n",
       "        vertical-align: middle;\n",
       "    }\n",
       "\n",
       "    .dataframe tbody tr th {\n",
       "        vertical-align: top;\n",
       "    }\n",
       "\n",
       "    .dataframe thead th {\n",
       "        text-align: right;\n",
       "    }\n",
       "</style>\n",
       "<table border=\"1\" class=\"dataframe\">\n",
       "  <thead>\n",
       "    <tr style=\"text-align: right;\">\n",
       "      <th></th>\n",
       "      <th>tourney_id</th>\n",
       "      <th>tourney_name</th>\n",
       "      <th>surface</th>\n",
       "      <th>draw_size</th>\n",
       "      <th>tourney_level</th>\n",
       "      <th>tourney_date</th>\n",
       "      <th>match_num</th>\n",
       "      <th>winner_id</th>\n",
       "      <th>winner_seed</th>\n",
       "      <th>winner_entry</th>\n",
       "      <th>...</th>\n",
       "      <th>l_1stIn</th>\n",
       "      <th>l_1stWon</th>\n",
       "      <th>l_2ndWon</th>\n",
       "      <th>l_SvGms</th>\n",
       "      <th>l_bpSaved</th>\n",
       "      <th>l_bpFaced</th>\n",
       "      <th>winner_rank</th>\n",
       "      <th>winner_rank_points</th>\n",
       "      <th>loser_rank</th>\n",
       "      <th>loser_rank_points</th>\n",
       "    </tr>\n",
       "  </thead>\n",
       "  <tbody>\n",
       "    <tr>\n",
       "      <th>0</th>\n",
       "      <td>2023-9900</td>\n",
       "      <td>United Cup</td>\n",
       "      <td>Hard</td>\n",
       "      <td>18</td>\n",
       "      <td>A</td>\n",
       "      <td>20230102</td>\n",
       "      <td>300</td>\n",
       "      <td>126203</td>\n",
       "      <td>3.0</td>\n",
       "      <td>NaN</td>\n",
       "      <td>...</td>\n",
       "      <td>62.0</td>\n",
       "      <td>47.0</td>\n",
       "      <td>15.0</td>\n",
       "      <td>12.0</td>\n",
       "      <td>9.0</td>\n",
       "      <td>9.0</td>\n",
       "      <td>9.0</td>\n",
       "      <td>3355.0</td>\n",
       "      <td>16.0</td>\n",
       "      <td>2375.0</td>\n",
       "    </tr>\n",
       "    <tr>\n",
       "      <th>1</th>\n",
       "      <td>2023-9900</td>\n",
       "      <td>United Cup</td>\n",
       "      <td>Hard</td>\n",
       "      <td>18</td>\n",
       "      <td>A</td>\n",
       "      <td>20230102</td>\n",
       "      <td>299</td>\n",
       "      <td>126207</td>\n",
       "      <td>NaN</td>\n",
       "      <td>NaN</td>\n",
       "      <td>...</td>\n",
       "      <td>12.0</td>\n",
       "      <td>8.0</td>\n",
       "      <td>3.0</td>\n",
       "      <td>4.0</td>\n",
       "      <td>1.0</td>\n",
       "      <td>3.0</td>\n",
       "      <td>19.0</td>\n",
       "      <td>2000.0</td>\n",
       "      <td>23.0</td>\n",
       "      <td>1865.0</td>\n",
       "    </tr>\n",
       "    <tr>\n",
       "      <th>2</th>\n",
       "      <td>2023-9900</td>\n",
       "      <td>United Cup</td>\n",
       "      <td>Hard</td>\n",
       "      <td>18</td>\n",
       "      <td>A</td>\n",
       "      <td>20230102</td>\n",
       "      <td>296</td>\n",
       "      <td>126203</td>\n",
       "      <td>3.0</td>\n",
       "      <td>NaN</td>\n",
       "      <td>...</td>\n",
       "      <td>62.0</td>\n",
       "      <td>51.0</td>\n",
       "      <td>7.0</td>\n",
       "      <td>12.0</td>\n",
       "      <td>2.0</td>\n",
       "      <td>2.0</td>\n",
       "      <td>9.0</td>\n",
       "      <td>3355.0</td>\n",
       "      <td>10.0</td>\n",
       "      <td>2905.0</td>\n",
       "    </tr>\n",
       "    <tr>\n",
       "      <th>3</th>\n",
       "      <td>2023-9900</td>\n",
       "      <td>United Cup</td>\n",
       "      <td>Hard</td>\n",
       "      <td>18</td>\n",
       "      <td>A</td>\n",
       "      <td>20230102</td>\n",
       "      <td>295</td>\n",
       "      <td>126207</td>\n",
       "      <td>NaN</td>\n",
       "      <td>NaN</td>\n",
       "      <td>...</td>\n",
       "      <td>41.0</td>\n",
       "      <td>26.0</td>\n",
       "      <td>12.0</td>\n",
       "      <td>9.0</td>\n",
       "      <td>6.0</td>\n",
       "      <td>9.0</td>\n",
       "      <td>19.0</td>\n",
       "      <td>2000.0</td>\n",
       "      <td>245.0</td>\n",
       "      <td>220.0</td>\n",
       "    </tr>\n",
       "    <tr>\n",
       "      <th>4</th>\n",
       "      <td>2023-9900</td>\n",
       "      <td>United Cup</td>\n",
       "      <td>Hard</td>\n",
       "      <td>18</td>\n",
       "      <td>A</td>\n",
       "      <td>20230102</td>\n",
       "      <td>292</td>\n",
       "      <td>126774</td>\n",
       "      <td>1.0</td>\n",
       "      <td>NaN</td>\n",
       "      <td>...</td>\n",
       "      <td>58.0</td>\n",
       "      <td>48.0</td>\n",
       "      <td>18.0</td>\n",
       "      <td>16.0</td>\n",
       "      <td>1.0</td>\n",
       "      <td>2.0</td>\n",
       "      <td>4.0</td>\n",
       "      <td>5550.0</td>\n",
       "      <td>16.0</td>\n",
       "      <td>2375.0</td>\n",
       "    </tr>\n",
       "  </tbody>\n",
       "</table>\n",
       "<p>5 rows × 49 columns</p>\n",
       "</div>"
      ],
      "text/plain": [
       "  tourney_id tourney_name surface  draw_size tourney_level  tourney_date  \\\n",
       "0  2023-9900   United Cup    Hard         18             A      20230102   \n",
       "1  2023-9900   United Cup    Hard         18             A      20230102   \n",
       "2  2023-9900   United Cup    Hard         18             A      20230102   \n",
       "3  2023-9900   United Cup    Hard         18             A      20230102   \n",
       "4  2023-9900   United Cup    Hard         18             A      20230102   \n",
       "\n",
       "   match_num  winner_id  winner_seed winner_entry  ... l_1stIn l_1stWon  \\\n",
       "0        300     126203          3.0          NaN  ...    62.0     47.0   \n",
       "1        299     126207          NaN          NaN  ...    12.0      8.0   \n",
       "2        296     126203          3.0          NaN  ...    62.0     51.0   \n",
       "3        295     126207          NaN          NaN  ...    41.0     26.0   \n",
       "4        292     126774          1.0          NaN  ...    58.0     48.0   \n",
       "\n",
       "   l_2ndWon l_SvGms  l_bpSaved  l_bpFaced  winner_rank winner_rank_points  \\\n",
       "0      15.0    12.0        9.0        9.0          9.0             3355.0   \n",
       "1       3.0     4.0        1.0        3.0         19.0             2000.0   \n",
       "2       7.0    12.0        2.0        2.0          9.0             3355.0   \n",
       "3      12.0     9.0        6.0        9.0         19.0             2000.0   \n",
       "4      18.0    16.0        1.0        2.0          4.0             5550.0   \n",
       "\n",
       "  loser_rank loser_rank_points  \n",
       "0       16.0            2375.0  \n",
       "1       23.0            1865.0  \n",
       "2       10.0            2905.0  \n",
       "3      245.0             220.0  \n",
       "4       16.0            2375.0  \n",
       "\n",
       "[5 rows x 49 columns]"
      ]
     },
     "execution_count": 35,
     "metadata": {},
     "output_type": "execute_result"
    }
   ],
   "source": [
    "head_to_head_df = pd.read_csv('atp_matches_2023.csv')\n",
    "head_to_head_df.head()"
   ]
  },
  {
   "cell_type": "markdown",
   "id": "c39c206b",
   "metadata": {},
   "source": [
    "From the above dataframe, make a dataframe that contains the winner name of each match, the loser name of each match, and the winner's ATP overall ranking (scraped above) by INNER JOINING with the overall ATP rank df where the player name from the ranking dataframe matches the winner name. The inner join is necessary because we don't want to consider matches between unranked players. "
   ]
  },
  {
   "cell_type": "code",
   "execution_count": 36,
   "id": "e4dffec1",
   "metadata": {},
   "outputs": [
    {
     "data": {
      "text/html": [
       "<div>\n",
       "<style scoped>\n",
       "    .dataframe tbody tr th:only-of-type {\n",
       "        vertical-align: middle;\n",
       "    }\n",
       "\n",
       "    .dataframe tbody tr th {\n",
       "        vertical-align: top;\n",
       "    }\n",
       "\n",
       "    .dataframe thead th {\n",
       "        text-align: right;\n",
       "    }\n",
       "</style>\n",
       "<table border=\"1\" class=\"dataframe\">\n",
       "  <thead>\n",
       "    <tr style=\"text-align: right;\">\n",
       "      <th></th>\n",
       "      <th>winner_name</th>\n",
       "      <th>loser_name</th>\n",
       "      <th>winner_rank</th>\n",
       "    </tr>\n",
       "  </thead>\n",
       "  <tbody>\n",
       "    <tr>\n",
       "      <th>0</th>\n",
       "      <td>Taylor Fritz</td>\n",
       "      <td>Matteo Berrettini</td>\n",
       "      <td>3410.0</td>\n",
       "    </tr>\n",
       "    <tr>\n",
       "      <th>1</th>\n",
       "      <td>Frances Tiafoe</td>\n",
       "      <td>Lorenzo Musetti</td>\n",
       "      <td>2650.0</td>\n",
       "    </tr>\n",
       "    <tr>\n",
       "      <th>2</th>\n",
       "      <td>Taylor Fritz</td>\n",
       "      <td>Hubert Hurkacz</td>\n",
       "      <td>3410.0</td>\n",
       "    </tr>\n",
       "    <tr>\n",
       "      <th>3</th>\n",
       "      <td>Frances Tiafoe</td>\n",
       "      <td>Kacper Zuk</td>\n",
       "      <td>2650.0</td>\n",
       "    </tr>\n",
       "    <tr>\n",
       "      <th>4</th>\n",
       "      <td>Stefanos Tsitsipas</td>\n",
       "      <td>Matteo Berrettini</td>\n",
       "      <td>4360.0</td>\n",
       "    </tr>\n",
       "  </tbody>\n",
       "</table>\n",
       "</div>"
      ],
      "text/plain": [
       "          winner_name         loser_name  winner_rank\n",
       "0        Taylor Fritz  Matteo Berrettini       3410.0\n",
       "1      Frances Tiafoe    Lorenzo Musetti       2650.0\n",
       "2        Taylor Fritz     Hubert Hurkacz       3410.0\n",
       "3      Frances Tiafoe         Kacper Zuk       2650.0\n",
       "4  Stefanos Tsitsipas  Matteo Berrettini       4360.0"
      ]
     },
     "execution_count": 36,
     "metadata": {},
     "output_type": "execute_result"
    }
   ],
   "source": [
    "winners_df = duckdb.sql(\"SELECT winner_name, loser_name, \\\n",
    "    rankings_df.ranking AS winner_rank FROM head_to_head_df  \\\n",
    "    INNER JOIN rankings_df ON head_to_head_df.winner_name = rankings_df.player\").df()\n",
    "winners_df.head()"
   ]
  },
  {
   "cell_type": "markdown",
   "id": "fd3067bd",
   "metadata": {},
   "source": [
    "Next, we need to add the loser ranking to the above dataframe, inner joining on where the name of the player in the ranking df matches the loser name from the match results dataframe."
   ]
  },
  {
   "cell_type": "code",
   "execution_count": 37,
   "id": "56c86da3",
   "metadata": {},
   "outputs": [
    {
     "data": {
      "text/html": [
       "<div>\n",
       "<style scoped>\n",
       "    .dataframe tbody tr th:only-of-type {\n",
       "        vertical-align: middle;\n",
       "    }\n",
       "\n",
       "    .dataframe tbody tr th {\n",
       "        vertical-align: top;\n",
       "    }\n",
       "\n",
       "    .dataframe thead th {\n",
       "        text-align: right;\n",
       "    }\n",
       "</style>\n",
       "<table border=\"1\" class=\"dataframe\">\n",
       "  <thead>\n",
       "    <tr style=\"text-align: right;\">\n",
       "      <th></th>\n",
       "      <th>winner_name</th>\n",
       "      <th>loser_name</th>\n",
       "      <th>winner_rank</th>\n",
       "      <th>loser_rank</th>\n",
       "    </tr>\n",
       "  </thead>\n",
       "  <tbody>\n",
       "    <tr>\n",
       "      <th>0</th>\n",
       "      <td>Taylor Fritz</td>\n",
       "      <td>Matteo Berrettini</td>\n",
       "      <td>3410.0</td>\n",
       "      <td>850.0</td>\n",
       "    </tr>\n",
       "    <tr>\n",
       "      <th>1</th>\n",
       "      <td>Frances Tiafoe</td>\n",
       "      <td>Lorenzo Musetti</td>\n",
       "      <td>2650.0</td>\n",
       "      <td>1865.0</td>\n",
       "    </tr>\n",
       "    <tr>\n",
       "      <th>2</th>\n",
       "      <td>Taylor Fritz</td>\n",
       "      <td>Hubert Hurkacz</td>\n",
       "      <td>3410.0</td>\n",
       "      <td>2900.0</td>\n",
       "    </tr>\n",
       "    <tr>\n",
       "      <th>3</th>\n",
       "      <td>Stefanos Tsitsipas</td>\n",
       "      <td>Matteo Berrettini</td>\n",
       "      <td>4360.0</td>\n",
       "      <td>850.0</td>\n",
       "    </tr>\n",
       "    <tr>\n",
       "      <th>4</th>\n",
       "      <td>Stefanos Tsitsipas</td>\n",
       "      <td>Borna Coric</td>\n",
       "      <td>4360.0</td>\n",
       "      <td>1328.0</td>\n",
       "    </tr>\n",
       "  </tbody>\n",
       "</table>\n",
       "</div>"
      ],
      "text/plain": [
       "          winner_name         loser_name  winner_rank  loser_rank\n",
       "0        Taylor Fritz  Matteo Berrettini       3410.0       850.0\n",
       "1      Frances Tiafoe    Lorenzo Musetti       2650.0      1865.0\n",
       "2        Taylor Fritz     Hubert Hurkacz       3410.0      2900.0\n",
       "3  Stefanos Tsitsipas  Matteo Berrettini       4360.0       850.0\n",
       "4  Stefanos Tsitsipas        Borna Coric       4360.0      1328.0"
      ]
     },
     "execution_count": 37,
     "metadata": {},
     "output_type": "execute_result"
    }
   ],
   "source": [
    "winners_and_losers_df = duckdb.sql(\"SELECT winner_name, loser_name, winners_df.winner_rank, rankings_df.ranking\\\n",
    "AS loser_rank FROM winners_df  INNER JOIN rankings_df ON winners_df.loser_name = rankings_df.player\").df()\n",
    "winners_and_losers_df.head()"
   ]
  },
  {
   "cell_type": "markdown",
   "id": "5093c2f3",
   "metadata": {},
   "source": [
    "Next, I will load in the csv that we generated in an earlier step of the serve leaders (player names and serve statistics). I will then immediately discard all columns that are not player name and serve rating."
   ]
  },
  {
   "cell_type": "code",
   "execution_count": 38,
   "id": "50ba9f0b",
   "metadata": {},
   "outputs": [
    {
     "data": {
      "text/html": [
       "<div>\n",
       "<style scoped>\n",
       "    .dataframe tbody tr th:only-of-type {\n",
       "        vertical-align: middle;\n",
       "    }\n",
       "\n",
       "    .dataframe tbody tr th {\n",
       "        vertical-align: top;\n",
       "    }\n",
       "\n",
       "    .dataframe thead th {\n",
       "        text-align: right;\n",
       "    }\n",
       "</style>\n",
       "<table border=\"1\" class=\"dataframe\">\n",
       "  <thead>\n",
       "    <tr style=\"text-align: right;\">\n",
       "      <th></th>\n",
       "      <th>name</th>\n",
       "      <th>serve_rating</th>\n",
       "    </tr>\n",
       "  </thead>\n",
       "  <tbody>\n",
       "    <tr>\n",
       "      <th>0</th>\n",
       "      <td>Hubert Hurkacz</td>\n",
       "      <td>297.0</td>\n",
       "    </tr>\n",
       "    <tr>\n",
       "      <th>1</th>\n",
       "      <td>Novak Djokovic</td>\n",
       "      <td>292.7</td>\n",
       "    </tr>\n",
       "    <tr>\n",
       "      <th>2</th>\n",
       "      <td>Stefanos Tsitsipas</td>\n",
       "      <td>292.0</td>\n",
       "    </tr>\n",
       "    <tr>\n",
       "      <th>3</th>\n",
       "      <td>Christopher Eubanks</td>\n",
       "      <td>289.9</td>\n",
       "    </tr>\n",
       "    <tr>\n",
       "      <th>4</th>\n",
       "      <td>Nicolas Jarry</td>\n",
       "      <td>289.1</td>\n",
       "    </tr>\n",
       "  </tbody>\n",
       "</table>\n",
       "</div>"
      ],
      "text/plain": [
       "                  name  serve_rating\n",
       "0       Hubert Hurkacz         297.0\n",
       "1       Novak Djokovic         292.7\n",
       "2   Stefanos Tsitsipas         292.0\n",
       "3  Christopher Eubanks         289.9\n",
       "4        Nicolas Jarry         289.1"
      ]
     },
     "execution_count": 38,
     "metadata": {},
     "output_type": "execute_result"
    }
   ],
   "source": [
    "serve_rating = pd.read_csv(\"serve_leader_df.csv\")\n",
    "serve_rating = duckdb.sql(\"SELECT name, serve_rating FROM serve_rating\").df()\n",
    "serve_rating.head()"
   ]
  },
  {
   "cell_type": "markdown",
   "id": "5b7f4cb1",
   "metadata": {},
   "source": [
    "Next, we will add the winner's serve rating to the dataframe by inner joining the serve rating dataframe with the existing dataframe where the player name in the serve rating equals the player name in the existing dataframe."
   ]
  },
  {
   "cell_type": "code",
   "execution_count": 39,
   "id": "c439fbf6",
   "metadata": {},
   "outputs": [
    {
     "ename": "CatalogException",
     "evalue": "Catalog Error: Table with name overall_df does not exist!\nDid you mean \"system.information_schema.tables\"?",
     "output_type": "error",
     "traceback": [
      "\u001b[0;31m---------------------------------------------------------------------------\u001b[0m",
      "\u001b[0;31mCatalogException\u001b[0m                          Traceback (most recent call last)",
      "\u001b[1;32m/Users/haonan/Documents/GitHub/2950_final_project/phase_2_overall.ipynb Cell 26\u001b[0m line \u001b[0;36m1\n\u001b[0;32m----> <a href='vscode-notebook-cell:/Users/haonan/Documents/GitHub/2950_final_project/phase_2_overall.ipynb#X26sZmlsZQ%3D%3D?line=0'>1</a>\u001b[0m overall_df \u001b[39m=\u001b[39m duckdb\u001b[39m.\u001b[39msql(\u001b[39m\"\u001b[39m\u001b[39mSELECT winner_name, loser_name, winner_rank, loser_rank, serve_rating AS winner_serve_rating FROM overall_df INNER JOIN serve_rating ON overall_df.winner_name = serve_rating.name\u001b[39m\u001b[39m\"\u001b[39m)\u001b[39m.\u001b[39mdf()\n\u001b[1;32m      <a href='vscode-notebook-cell:/Users/haonan/Documents/GitHub/2950_final_project/phase_2_overall.ipynb#X26sZmlsZQ%3D%3D?line=1'>2</a>\u001b[0m overall_df\u001b[39m.\u001b[39mhead()\n",
      "\u001b[0;31mCatalogException\u001b[0m: Catalog Error: Table with name overall_df does not exist!\nDid you mean \"system.information_schema.tables\"?"
     ]
    }
   ],
   "source": [
    "overall_df = duckdb.sql(\"SELECT winner_name, loser_name, winner_rank, loser_rank, serve_rating AS \\\n",
    "winner_serve_rating FROM overall_df INNER JOIN serve_rating ON overall_df.winner_name = serve_rating.name\").df()\n",
    "overall_df.head()"
   ]
  },
  {
   "cell_type": "markdown",
   "id": "4e84335d",
   "metadata": {},
   "source": [
    "We will do the same process for the serve rating of the loser of the match. We will continue inner joining to ensure that we do not consider matches between players for whom we don't have data."
   ]
  },
  {
   "cell_type": "code",
   "execution_count": null,
   "id": "1a01bb39",
   "metadata": {},
   "outputs": [
    {
     "data": {
      "text/html": [
       "<div>\n",
       "<style scoped>\n",
       "    .dataframe tbody tr th:only-of-type {\n",
       "        vertical-align: middle;\n",
       "    }\n",
       "\n",
       "    .dataframe tbody tr th {\n",
       "        vertical-align: top;\n",
       "    }\n",
       "\n",
       "    .dataframe thead th {\n",
       "        text-align: right;\n",
       "    }\n",
       "</style>\n",
       "<table border=\"1\" class=\"dataframe\">\n",
       "  <thead>\n",
       "    <tr style=\"text-align: right;\">\n",
       "      <th></th>\n",
       "      <th>winner_name</th>\n",
       "      <th>loser_name</th>\n",
       "      <th>winner_rank</th>\n",
       "      <th>loser_rank</th>\n",
       "      <th>winner_serve_rating</th>\n",
       "      <th>loser_serve_rating</th>\n",
       "    </tr>\n",
       "  </thead>\n",
       "  <tbody>\n",
       "    <tr>\n",
       "      <th>0</th>\n",
       "      <td>Frances Tiafoe</td>\n",
       "      <td>Lorenzo Musetti</td>\n",
       "      <td>2650.0</td>\n",
       "      <td>1865.0</td>\n",
       "      <td>282.1</td>\n",
       "      <td>268.2</td>\n",
       "    </tr>\n",
       "    <tr>\n",
       "      <th>1</th>\n",
       "      <td>Taylor Fritz</td>\n",
       "      <td>Hubert Hurkacz</td>\n",
       "      <td>3410.0</td>\n",
       "      <td>2900.0</td>\n",
       "      <td>286.8</td>\n",
       "      <td>297.0</td>\n",
       "    </tr>\n",
       "    <tr>\n",
       "      <th>2</th>\n",
       "      <td>Stefanos Tsitsipas</td>\n",
       "      <td>Borna Coric</td>\n",
       "      <td>4360.0</td>\n",
       "      <td>1328.0</td>\n",
       "      <td>292.0</td>\n",
       "      <td>267.5</td>\n",
       "    </tr>\n",
       "    <tr>\n",
       "      <th>3</th>\n",
       "      <td>Cameron Norrie</td>\n",
       "      <td>Taylor Fritz</td>\n",
       "      <td>2100.0</td>\n",
       "      <td>3410.0</td>\n",
       "      <td>270.9</td>\n",
       "      <td>286.8</td>\n",
       "    </tr>\n",
       "    <tr>\n",
       "      <th>4</th>\n",
       "      <td>Frances Tiafoe</td>\n",
       "      <td>Daniel Evans</td>\n",
       "      <td>2650.0</td>\n",
       "      <td>1325.0</td>\n",
       "      <td>282.1</td>\n",
       "      <td>263.8</td>\n",
       "    </tr>\n",
       "  </tbody>\n",
       "</table>\n",
       "</div>"
      ],
      "text/plain": [
       "          winner_name       loser_name  winner_rank  loser_rank  \\\n",
       "0      Frances Tiafoe  Lorenzo Musetti       2650.0      1865.0   \n",
       "1        Taylor Fritz   Hubert Hurkacz       3410.0      2900.0   \n",
       "2  Stefanos Tsitsipas      Borna Coric       4360.0      1328.0   \n",
       "3      Cameron Norrie     Taylor Fritz       2100.0      3410.0   \n",
       "4      Frances Tiafoe     Daniel Evans       2650.0      1325.0   \n",
       "\n",
       "   winner_serve_rating  loser_serve_rating  \n",
       "0                282.1               268.2  \n",
       "1                286.8               297.0  \n",
       "2                292.0               267.5  \n",
       "3                270.9               286.8  \n",
       "4                282.1               263.8  "
      ]
     },
     "execution_count": 48,
     "metadata": {},
     "output_type": "execute_result"
    }
   ],
   "source": [
    "overall_df = duckdb.sql(\"SELECT winner_name, loser_name, winner_rank, loser_rank, winner_serve_rating, \\\n",
    "serve_rating AS loser_serve_rating FROM overall_df INNER JOIN serve_rating ON overall_df.loser_name = \\\n",
    "serve_rating.name\").df()\n",
    "overall_df.head()"
   ]
  },
  {
   "cell_type": "markdown",
   "id": "b017bf86",
   "metadata": {},
   "source": [
    "Next, we will execute essentially the same process using the return ratings csv generated above. First, we will load in the csv and discard all of the columns that do not contain relevant data to our analysis."
   ]
  },
  {
   "cell_type": "code",
   "execution_count": null,
   "id": "7fbc9e95",
   "metadata": {},
   "outputs": [],
   "source": [
    "return_rating = pd.read_csv(\"serve_return.csv\")\n",
    "return_rating.rename(columns = {'Return Rating':'return_rating'}, inplace = True)\n",
    "\n",
    "return_rating = duckdb.sql(\"SELECT Name, return_rating FROM return_rating\").df()"
   ]
  },
  {
   "cell_type": "markdown",
   "id": "e3359ddf",
   "metadata": {},
   "source": [
    "We will inner join the return ratings df where the match winner name equals the name in the return rating, exactly as we have done several times above."
   ]
  },
  {
   "cell_type": "code",
   "execution_count": null,
   "id": "ae4b358b",
   "metadata": {},
   "outputs": [
    {
     "data": {
      "text/html": [
       "<div>\n",
       "<style scoped>\n",
       "    .dataframe tbody tr th:only-of-type {\n",
       "        vertical-align: middle;\n",
       "    }\n",
       "\n",
       "    .dataframe tbody tr th {\n",
       "        vertical-align: top;\n",
       "    }\n",
       "\n",
       "    .dataframe thead th {\n",
       "        text-align: right;\n",
       "    }\n",
       "</style>\n",
       "<table border=\"1\" class=\"dataframe\">\n",
       "  <thead>\n",
       "    <tr style=\"text-align: right;\">\n",
       "      <th></th>\n",
       "      <th>winner_name</th>\n",
       "      <th>loser_name</th>\n",
       "      <th>winner_rank</th>\n",
       "      <th>loser_rank</th>\n",
       "      <th>winner_serve_rating</th>\n",
       "      <th>loser_serve_rating</th>\n",
       "      <th>winner_return_rating</th>\n",
       "    </tr>\n",
       "  </thead>\n",
       "  <tbody>\n",
       "    <tr>\n",
       "      <th>0</th>\n",
       "      <td>Frances Tiafoe</td>\n",
       "      <td>Lorenzo Musetti</td>\n",
       "      <td>2650.0</td>\n",
       "      <td>1865.0</td>\n",
       "      <td>282.1</td>\n",
       "      <td>268.2</td>\n",
       "      <td>138.3</td>\n",
       "    </tr>\n",
       "    <tr>\n",
       "      <th>1</th>\n",
       "      <td>Taylor Fritz</td>\n",
       "      <td>Hubert Hurkacz</td>\n",
       "      <td>3410.0</td>\n",
       "      <td>2900.0</td>\n",
       "      <td>286.8</td>\n",
       "      <td>297.0</td>\n",
       "      <td>145.8</td>\n",
       "    </tr>\n",
       "    <tr>\n",
       "      <th>2</th>\n",
       "      <td>Stefanos Tsitsipas</td>\n",
       "      <td>Borna Coric</td>\n",
       "      <td>4360.0</td>\n",
       "      <td>1328.0</td>\n",
       "      <td>292.0</td>\n",
       "      <td>267.5</td>\n",
       "      <td>135.2</td>\n",
       "    </tr>\n",
       "    <tr>\n",
       "      <th>3</th>\n",
       "      <td>Cameron Norrie</td>\n",
       "      <td>Taylor Fritz</td>\n",
       "      <td>2100.0</td>\n",
       "      <td>3410.0</td>\n",
       "      <td>270.9</td>\n",
       "      <td>286.8</td>\n",
       "      <td>148.0</td>\n",
       "    </tr>\n",
       "    <tr>\n",
       "      <th>4</th>\n",
       "      <td>Frances Tiafoe</td>\n",
       "      <td>Daniel Evans</td>\n",
       "      <td>2650.0</td>\n",
       "      <td>1325.0</td>\n",
       "      <td>282.1</td>\n",
       "      <td>263.8</td>\n",
       "      <td>138.3</td>\n",
       "    </tr>\n",
       "  </tbody>\n",
       "</table>\n",
       "</div>"
      ],
      "text/plain": [
       "          winner_name       loser_name  winner_rank  loser_rank  \\\n",
       "0      Frances Tiafoe  Lorenzo Musetti       2650.0      1865.0   \n",
       "1        Taylor Fritz   Hubert Hurkacz       3410.0      2900.0   \n",
       "2  Stefanos Tsitsipas      Borna Coric       4360.0      1328.0   \n",
       "3      Cameron Norrie     Taylor Fritz       2100.0      3410.0   \n",
       "4      Frances Tiafoe     Daniel Evans       2650.0      1325.0   \n",
       "\n",
       "   winner_serve_rating  loser_serve_rating  winner_return_rating  \n",
       "0                282.1               268.2                 138.3  \n",
       "1                286.8               297.0                 145.8  \n",
       "2                292.0               267.5                 135.2  \n",
       "3                270.9               286.8                 148.0  \n",
       "4                282.1               263.8                 138.3  "
      ]
     },
     "execution_count": 51,
     "metadata": {},
     "output_type": "execute_result"
    }
   ],
   "source": [
    "overall_df = duckdb.sql(\"SELECT winner_name, loser_name, winner_rank, loser_rank, winner_serve_rating, \\\n",
    "loser_serve_rating, return_rating AS winner_return_rating FROM overall_df INNER JOIN return_rating ON \\\n",
    "overall_df.winner_name = return_rating.Name\").df()\n",
    "overall_df.head()"
   ]
  },
  {
   "cell_type": "markdown",
   "id": "4a51b022",
   "metadata": {},
   "source": [
    "Repeating the same step as above, except now for the loser's return rating:"
   ]
  },
  {
   "cell_type": "code",
   "execution_count": null,
   "id": "a0396845",
   "metadata": {},
   "outputs": [
    {
     "data": {
      "text/html": [
       "<div>\n",
       "<style scoped>\n",
       "    .dataframe tbody tr th:only-of-type {\n",
       "        vertical-align: middle;\n",
       "    }\n",
       "\n",
       "    .dataframe tbody tr th {\n",
       "        vertical-align: top;\n",
       "    }\n",
       "\n",
       "    .dataframe thead th {\n",
       "        text-align: right;\n",
       "    }\n",
       "</style>\n",
       "<table border=\"1\" class=\"dataframe\">\n",
       "  <thead>\n",
       "    <tr style=\"text-align: right;\">\n",
       "      <th></th>\n",
       "      <th>winner_name</th>\n",
       "      <th>loser_name</th>\n",
       "      <th>winner_rank</th>\n",
       "      <th>loser_rank</th>\n",
       "      <th>winner_serve_rating</th>\n",
       "      <th>loser_serve_rating</th>\n",
       "      <th>winner_return_rating</th>\n",
       "      <th>loser_return_rating</th>\n",
       "    </tr>\n",
       "  </thead>\n",
       "  <tbody>\n",
       "    <tr>\n",
       "      <th>0</th>\n",
       "      <td>Frances Tiafoe</td>\n",
       "      <td>Lorenzo Musetti</td>\n",
       "      <td>2650.0</td>\n",
       "      <td>1865.0</td>\n",
       "      <td>282.1</td>\n",
       "      <td>268.2</td>\n",
       "      <td>138.3</td>\n",
       "      <td>153.5</td>\n",
       "    </tr>\n",
       "    <tr>\n",
       "      <th>1</th>\n",
       "      <td>Taylor Fritz</td>\n",
       "      <td>Hubert Hurkacz</td>\n",
       "      <td>3410.0</td>\n",
       "      <td>2900.0</td>\n",
       "      <td>286.8</td>\n",
       "      <td>297.0</td>\n",
       "      <td>145.8</td>\n",
       "      <td>121.1</td>\n",
       "    </tr>\n",
       "    <tr>\n",
       "      <th>2</th>\n",
       "      <td>Stefanos Tsitsipas</td>\n",
       "      <td>Borna Coric</td>\n",
       "      <td>4360.0</td>\n",
       "      <td>1328.0</td>\n",
       "      <td>292.0</td>\n",
       "      <td>267.5</td>\n",
       "      <td>135.2</td>\n",
       "      <td>124.6</td>\n",
       "    </tr>\n",
       "    <tr>\n",
       "      <th>3</th>\n",
       "      <td>Cameron Norrie</td>\n",
       "      <td>Taylor Fritz</td>\n",
       "      <td>2100.0</td>\n",
       "      <td>3410.0</td>\n",
       "      <td>270.9</td>\n",
       "      <td>286.8</td>\n",
       "      <td>148.0</td>\n",
       "      <td>145.8</td>\n",
       "    </tr>\n",
       "    <tr>\n",
       "      <th>4</th>\n",
       "      <td>Frances Tiafoe</td>\n",
       "      <td>Daniel Evans</td>\n",
       "      <td>2650.0</td>\n",
       "      <td>1325.0</td>\n",
       "      <td>282.1</td>\n",
       "      <td>263.8</td>\n",
       "      <td>138.3</td>\n",
       "      <td>137.8</td>\n",
       "    </tr>\n",
       "  </tbody>\n",
       "</table>\n",
       "</div>"
      ],
      "text/plain": [
       "          winner_name       loser_name  winner_rank  loser_rank  \\\n",
       "0      Frances Tiafoe  Lorenzo Musetti       2650.0      1865.0   \n",
       "1        Taylor Fritz   Hubert Hurkacz       3410.0      2900.0   \n",
       "2  Stefanos Tsitsipas      Borna Coric       4360.0      1328.0   \n",
       "3      Cameron Norrie     Taylor Fritz       2100.0      3410.0   \n",
       "4      Frances Tiafoe     Daniel Evans       2650.0      1325.0   \n",
       "\n",
       "   winner_serve_rating  loser_serve_rating  winner_return_rating  \\\n",
       "0                282.1               268.2                 138.3   \n",
       "1                286.8               297.0                 145.8   \n",
       "2                292.0               267.5                 135.2   \n",
       "3                270.9               286.8                 148.0   \n",
       "4                282.1               263.8                 138.3   \n",
       "\n",
       "   loser_return_rating  \n",
       "0                153.5  \n",
       "1                121.1  \n",
       "2                124.6  \n",
       "3                145.8  \n",
       "4                137.8  "
      ]
     },
     "execution_count": 53,
     "metadata": {},
     "output_type": "execute_result"
    }
   ],
   "source": [
    "overall_df = duckdb.sql(\"SELECT winner_name, loser_name, winner_rank, loser_rank, winner_serve_rating, \\\n",
    "loser_serve_rating, winner_return_rating, return_rating AS loser_return_rating FROM overall_df INNER JOIN \\\n",
    "return_rating ON overall_df.loser_name = return_rating.Name\").df()\n",
    "overall_df.head()"
   ]
  },
  {
   "cell_type": "markdown",
   "id": "a129e635",
   "metadata": {},
   "source": [
    "Finally, we will check the shape of our dataframe to assess how many matches of data we have to analyze."
   ]
  },
  {
   "cell_type": "code",
   "execution_count": null,
   "id": "9e4398db",
   "metadata": {},
   "outputs": [
    {
     "name": "stdout",
     "output_type": "stream",
     "text": [
      "(862, 8)\n"
     ]
    }
   ],
   "source": [
    "print(overall_df.shape)"
   ]
  },
  {
   "cell_type": "markdown",
   "id": "28842942",
   "metadata": {},
   "source": [
    "We have overall ranking data, return ratings, and serve ratings for both players in 862 ATP tennis matches in the calendar year of 2023. We contend that this is more than enough data to train a model on, at least as a preliminary step."
   ]
  },
  {
   "cell_type": "markdown",
   "id": "c81dfb45",
   "metadata": {},
   "source": [
    "# Data Description"
   ]
  },
  {
   "cell_type": "code",
   "execution_count": null,
   "id": "829ea3d2",
   "metadata": {},
   "outputs": [],
   "source": [
    "overall_df.to_csv(\"overall_df.csv\")"
   ]
  },
  {
   "cell_type": "markdown",
   "id": "5e2fec82",
   "metadata": {},
   "source": [
    "### __MOTIVATION__\n",
    "\n",
    "__Why was this dataset created?__\n",
    "\n",
    "This dataset was created to create a model that is able to accurately predict the probability that one player will win against another player given data from matches played in 2023. These players are the top 80 players. \n",
    "\n",
    "__Who funded the creation of the dataset?__\n",
    "\n",
    "Association of Tennis Professionals (ATP). This is the official and primary tennis association for all professional games and matches, and as such has the most and most accurate data out of any other website or association. We did not verify the methods in which they calculated the values of rankings of everything. We are assuming that the formulas that the ATP uses to take data and output rankings and ratings accurately measure the real skill of these players. \n",
    "\n",
    "The specific pages that were taken from ATP are listed as follows: \n",
    "- https://www.atptour.com/en/rankings/singles\n",
    "- https://www.atptour.com/en/stats/leaderboard?boardType=serve&timeFrame=52Week&surface=all&versusRank=all&formerNo1=false\n",
    "- https://www.atptour.com/en/stats/leaderboard?boardType=return&timeFrame=52Week&surface=all&versusRank=all&formerNo1=false.\n",
    "\n",
    "In addition, information from the specific matches that have taken place in 2023 were found from (https://github.com/JeffSackmann/tennis_atp/blob/master/atp_matches_2023.csv). The source, Jeff Sackman, is experienced in sports statistics, having written and analyzed tennis for many big organizations including the Wall Street Journal and ESPN. In addition, the information contained are completely objective and are not the result of calculations or models, such as when the match took place and the ages of the players."
   ]
  },
  {
   "cell_type": "markdown",
   "id": "56b1571a",
   "metadata": {},
   "source": [
    "### __COMPOSITION__\n",
    "\n",
    "__What do the instances that comprise the dataset represent?__\n",
    "\n",
    "The instances that comprise the dataset represent one match between two professional tennis players in the year 2023. \n",
    "\n",
    "__Are there any errors, sources of noise, or redundancies in the dataset?__\n",
    "\n",
    "There are many more factors that affect the probability and outcome of a tennis match, from the surface, to the time of year and day, to the current physical and mental health of each player, age, differing strengths and weaknesses of specific players, and more. We are just focusing on some of the larger factors\n",
    "\n",
    "__Is the dataset self-contained, or does it link to or otherwise rely on external resources?__\n",
    "\n",
    "The dataset was taken from multiple sources listed above and merged together, this model is only accurate currently as the data used will constantly be changed as rankings and ratings of players change\n",
    "\n",
    "__What are the observations (rows) and the attributes (columns)?__\n",
    "\n",
    "Columns:\n",
    "\n",
    "- winner_name: The name of the winner of the match\n",
    "- loser_name: The name of the loser of the math\n",
    "- winner_ranking: The current rating/ELO of the winner\n",
    "- loser_ranking: The current rating/ELO of the loser\n",
    "- serve_diff: The current difference in the rating/ELO for the serve between the winner and loser\n",
    "- return_diff: The current difference in the rating/ELO for the return between the winner and loser\n",
    "    \n",
    "Rows: \n",
    "\n",
    "- Every professional match that has taken place in 2023"
   ]
  },
  {
   "cell_type": "markdown",
   "id": "47896750",
   "metadata": {},
   "source": [
    "### __COLLECTION PROCESS__\n",
    "\n",
    "__What processes might have influenced what data was observed and recorded and what was not?__\n",
    "\n",
    "The ATP website only contains data for a limited number of players, up to 80, which is different for both the serve and return leaders. This means that the overall dataset only contains players that are found in not only the matches in 2023 but also in the serve leaders along with the return leaders. More player stats were able to be collected from ATP as it wasn't shown.\n",
    "\n",
    "__Over what time frame was the data collected?__\n",
    "\n",
    "Data for the players were only collected from 2023\n",
    "\n",
    "__How was the data associated with each instance acquired?__\n",
    "\n",
    "The overall, serve, and return ELO's of the players were collected from the ATP website. The matches of 2023 were collected from Jeff Sackman's github.\n",
    "\n",
    "__What preprocessing was done, and how did the data come to be in the form that you are using?__\n",
    "\n",
    "The ATP data all came in a table, which needed to be webscraped, and cleaning also involved only specific columns needed to be taken. The data from Jeff Sackman's github came as a downloadable csv, from which specific columns were taken from"
   ]
  },
  {
   "cell_type": "markdown",
   "id": "fc010d04",
   "metadata": {},
   "source": [
    "# Data Limitations"
   ]
  },
  {
   "cell_type": "markdown",
   "id": "483628da",
   "metadata": {},
   "source": [
    "The data that we are considering has several limitations. \n",
    "## Limitations of metrics that we collected\n",
    "- We are using single-number summary statistics generated by the ATP that, broadly speaking, are supposed to assess how \"good\" a player is overall, at serving specifically, and at returning. We do not know, as it is proprietary, how the ATP is taking \"lower level\" statistics about a tennis player's performance and turning them into these rankings. If the \"magic formula\" that ATP uses to rank players and rate them on their serving and return abilities is flawed, that will mean that we are not using reliable or valuable information about their serving ability to predict the winner of a match, which may harm our model. Furthermore, there is an intrinsic assumption that is being made with these metrics that you can boil down all of the important factors about a particular tennis player's serve into one number. \n",
    "- The rankings and ratings that we downloaded from the internet are extremely current. When the matches occurred, it is possible that one or both of the player's ratings or rankings had significantly changed in the intervening time between the date of the match and when we downloaded the rankings. Because we are considering current rankings and only training the model on matches that occurred in the calendar year 2023, we do not expect that the rankings will have substantially moved.\n",
    "- The available rankings on the internet are only compiled for the top 80-100 tennis players (depending on the metric) in the ATP. Some of those tennis players have been in the professional circuit for multiple decades and reams of data exist about them on the internet. For some high profile players, like Novak Djokovic, we can trust that the rankings and ratings compiled by ATP are likely to be very reliable because there is a lot of data about those players. However, for some newer players or younger players who may have recently exploded onto the professional tennis circuit, their ratings and rankings may be skewed by insufficient data - perhaps they have over or underperformed relative to their potential in their existing matches, or perhaps the ratings and rankings are biased against newer players by factoring in \"cumulative\" achievements (like total matches won) into the ranking. \n",
    "## Limitations of predictions made from the metrics that we collected (and didn't collect)\n",
    "- In our data cleaning step, we repeatedly filter out matches where we do not have data for both players in the match by doing inner joins on data bases on the names of individual tennis players. If the names are spelled slightly differently - perhaps a typo in the dataset, or perhaps a player has a non-traditional last name with a hyphen or an accent, we may end up removing, systematically and for no good reason, data from our dataset corresponding to matches where players appeared with difficult to spell names.  \n",
    "- We are neglecting a large number of factors that have been proven to affect the outcome of a tennis match and the performance of specific tennis professionals. For example, certain players are expected to perform better on certain surfaces, like clay, relative to others, like grass. Our metrics do not take into account how the surface may affect a tennis player's probability to win a match. If one player is rated better on clay than another player, but worse on grass than another player, our model may make an erroneous prediction depending on which surface the match occured on.\n",
    "- Our model is missing an interaction term between two players. As any serious tennis player can tell you (we think - none of us are actually serious tennis players), the complicated dynamics in a tennis match can't be boiled down to how \"good\" a tennis player is relative to his opponent. Some players may play better against players that are ranked far better than them because their specific cocktail of skills (not to mention psychological factors that are far too complicated to be modeled) as well as incidental circumstances on a given day like weather and how much sleep the athlete's got, may lead to an upset that we have no means of predicting from the data that we have. \n",
    "## Implications of Data Limitations\n",
    "- Implications of data limitations on people: since this model is only being compiled privately and for an academic audience, we know that our model does not have many implications for people in the \"real world\". However, if we were selling our model to bettors (who may be deciding what lines to bet) or sports gambling firms (who may be deciding how to set a betting line), the limitations that we have discussed would likely make our model unreliable in predicting the outcomes of matches and we may cause our clients to lose money or embarrass themselves."
   ]
  },
  {
   "cell_type": "markdown",
   "id": "0a337087",
   "metadata": {},
   "source": [
    "# Exploratory Data Analysis"
   ]
  },
  {
   "cell_type": "markdown",
   "id": "6120ab20",
   "metadata": {},
   "source": [
    "First, we will read in the overall data frame from above. We will drop the vestigial index column. Since we are planning to do regressions not on the ratings/rankings for each player themselves but on the difference between the rankings of the two players, we will make 3 columns corresponding to the difference between the overall rank, the server rating, and the return rating between the two players."
   ]
  },
  {
   "cell_type": "code",
   "execution_count": null,
   "id": "3c7d6bc6",
   "metadata": {},
   "outputs": [],
   "source": [
    "overall_df = pd.read_csv('overall_df.csv')\n",
    "overall_df = overall_df.drop(['Unnamed: 0'], axis=1)\n",
    "overall_df['rank_diff'] = overall_df.winner_rank - overall_df.loser_rank\n",
    "overall_df['serve_diff'] = overall_df.winner_serve_rating - overall_df.loser_serve_rating\n",
    "overall_df['return_diff'] = overall_df.winner_return_rating - overall_df.loser_return_rating"
   ]
  },
  {
   "cell_type": "markdown",
   "id": "46ba4c86",
   "metadata": {},
   "source": [
    "Next, we will make an np array of our inputs, X, formatted in \"list of list\" form for the purpose of doing a regression on the array. We will also make an np array for our outputs, which are all one (meaning that the ratings are calculated as Player A rating - Player B rating, where Player A is always the winner in our table). We then plot the outcome of the 800+ matches in our dataset vs the differential ratings and rankingsof players in those matches.."
   ]
  },
  {
   "cell_type": "code",
   "execution_count": 89,
   "id": "43612a32",
   "metadata": {},
   "outputs": [
    {
     "data": {
      "text/plain": [
       "<matplotlib.collections.PathCollection at 0x7fe10cde5f70>"
      ]
     },
     "execution_count": 89,
     "metadata": {},
     "output_type": "execute_result"
    },
    {
     "data": {
      "image/png": "[encoded data removed]",
      "text/plain": [
       "<Figure size 640x480 with 1 Axes>"
      ]
     },
     "metadata": {},
     "output_type": "display_data"
    },
    {
     "data": {
      "image/png": "[encoded data removed]",
      "text/plain": [
       "<Figure size 640x480 with 1 Axes>"
      ]
     },
     "metadata": {},
     "output_type": "display_data"
    },
    {
     "data": {
      "image/png": "[encoded data removed]",
      "text/plain": [
       "<Figure size 640x480 with 1 Axes>"
      ]
     },
     "metadata": {},
     "output_type": "display_data"
    }
   ],
   "source": [
    "X = np.array(overall_df[['rank_diff', 'serve_diff', 'return_diff']])\n",
    "y = np.ones((len(X),1))\n",
    "\n",
    "\n",
    "for i in range(0, len(X), 2):\n",
    "  X[i] = X[i]*-1\n",
    "  y[i] = 0\n",
    "\n",
    "fig1 = plt.figure('Ranking Difference')\n",
    "plt.title('Rank Difference')\n",
    "plt.scatter(X[:,0],y)\n",
    "fig2 = plt.figure('Serve Difference')\n",
    "plt.title('Serve Difference')\n",
    "plt.scatter(X[:,1],y)\n",
    "fig3 = plt.figure('Return Difference')\n",
    "plt.title('Return Difference')\n",
    "plt.scatter(X[:,2],y)"
   ]
  },
  {
   "cell_type": "markdown",
   "id": "8ea32778",
   "metadata": {},
   "source": [
    "To begin, we will fit a logistic model with the difference in the two tennis player's rankings as the input and the winner of the match between the two players as the output. The red curve is the modeled probability of player A winning the match based on the differential in ranking Player A - Player B. The blue data are the outcomes of the 800+ matches between players we have data on from the 2023 calendar year."
   ]
  },
  {
   "cell_type": "markdown",
   "id": "2dd947ce",
   "metadata": {},
   "source": [
    "## Predicting Winners from Overall Rankings Alone"
   ]
  },
  {
   "cell_type": "code",
   "execution_count": null,
   "id": "d45fe172",
   "metadata": {},
   "outputs": [
    {
     "name": "stderr",
     "output_type": "stream",
     "text": [
      "/Users/colinmurphy/opt/anaconda3/envs/info2950/lib/python3.9/site-packages/sklearn/utils/validation.py:993: DataConversionWarning: A column-vector y was passed when a 1d array was expected. Please change the shape of y to (n_samples, ), for example using ravel().\n",
      "  y = column_or_1d(y, warn=True)\n"
     ]
    },
    {
     "data": {
      "text/plain": [
       "Text(0, 0.5, 'Probability of Victory')"
      ]
     },
     "execution_count": 62,
     "metadata": {},
     "output_type": "execute_result"
    },
    {
     "data": {
      "image/png": "[encoded data removed]",
      "text/plain": [
       "<Figure size 640x480 with 1 Axes>"
      ]
     },
     "metadata": {},
     "output_type": "display_data"
    }
   ],
   "source": [
    "rank_X =  np.array([[x] for x in X[:, 0]])\n",
    "rank_model = LogisticRegression().fit(rank_X, y)\n",
    "fig1 = plt.figure('Overall Ranking Difference Model')\n",
    "plt.title('Overall Ranking Difference Model')\n",
    "plt.scatter(X[:,0],y, label = \"match_data\")\n",
    "fit_x = np.linspace(np.min(rank_X.flatten()), np.max(rank_X.flatten()), 1000)\n",
    "fit_x = [[x] for x in fit_x]\n",
    "plt.plot(fit_x, rank_model.predict_proba(fit_x)[:, 1], color = \"red\", label = \"model fit\")\n",
    "plt.xlabel(\"Ranking difference\")\n",
    "plt.ylabel(\"Probability of Victory\")"
   ]
  },
  {
   "cell_type": "markdown",
   "id": "0ba8a04d",
   "metadata": {},
   "source": [
    "In the below cell, we are iterating through every threshold between 1 and 100 and calculating binary statistics on the resulting yhats to determine the performance of the model and the optimal place to set the threshold to maximize the precision of our model's prediction. \n",
    "\n",
    "Specifically, in the below data, I am calculating the precision and recall with each threshold, and also calculating the rocauc score for each threshold. "
   ]
  },
  {
   "cell_type": "code",
   "execution_count": null,
   "id": "23c89b9c",
   "metadata": {},
   "outputs": [
    {
     "name": "stderr",
     "output_type": "stream",
     "text": [
      "/Users/colinmurphy/opt/anaconda3/envs/info2950/lib/python3.9/site-packages/sklearn/metrics/_classification.py:1318: UndefinedMetricWarning: Precision is ill-defined and being set to 0.0 due to no predicted samples. Use `zero_division` parameter to control this behavior.\n",
      "  _warn_prf(average, modifier, msg_start, len(result))\n",
      "/Users/colinmurphy/opt/anaconda3/envs/info2950/lib/python3.9/site-packages/sklearn/metrics/_classification.py:1318: UndefinedMetricWarning: Precision is ill-defined and being set to 0.0 due to no predicted samples. Use `zero_division` parameter to control this behavior.\n",
      "  _warn_prf(average, modifier, msg_start, len(result))\n",
      "/Users/colinmurphy/opt/anaconda3/envs/info2950/lib/python3.9/site-packages/sklearn/metrics/_classification.py:1318: UndefinedMetricWarning: Precision is ill-defined and being set to 0.0 due to no predicted samples. Use `zero_division` parameter to control this behavior.\n",
      "  _warn_prf(average, modifier, msg_start, len(result))\n"
     ]
    }
   ],
   "source": [
    "thresholds = np.linspace(0, 1.0, 100)\n",
    "precisions = []\n",
    "recalls = []\n",
    "f1s = []\n",
    "rocaucs = []\n",
    "for threshold in thresholds:\n",
    "    yhat = []\n",
    "    for x in rank_X.flatten():\n",
    "        if rank_model.predict_proba([[x]])[0, 1] >= threshold:\n",
    "            yhat.append(1)\n",
    "        if rank_model.predict_proba([[x]])[0, 1] < threshold:\n",
    "            yhat.append(0)\n",
    "    precisions.append(precision_score(y, yhat))\n",
    "    recalls.append(recall_score(y, yhat))\n",
    "    f1s.append(f1_score(y, yhat))\n",
    "    rocaucs.append(roc_auc_score(y, yhat))\n",
    "precisions = np.array(precisions)\n",
    "recalls = np.array(recalls)"
   ]
  },
  {
   "cell_type": "markdown",
   "id": "aed8c56e",
   "metadata": {},
   "source": [
    "Below, we are plotting the precision and recall from the above model and using the f1 score to determine the optimal threshold. The optimal threshold from the f1 score is printed below."
   ]
  },
  {
   "cell_type": "code",
   "execution_count": null,
   "id": "60f3ada4",
   "metadata": {},
   "outputs": [
    {
     "name": "stdout",
     "output_type": "stream",
     "text": [
      "threshold\n",
      "[0.38383838]\n"
     ]
    },
    {
     "data": {
      "image/png": "[encoded data removed]",
      "text/plain": [
       "<Figure size 640x480 with 1 Axes>"
      ]
     },
     "metadata": {},
     "output_type": "display_data"
    }
   ],
   "source": [
    "plt.figure()\n",
    "plt.plot(recalls[np.where(recalls != 0)], precisions[:-1][np.where(recalls != 0)],  marker = \".\")\n",
    "max_index = np.where(f1s == np.max(f1s))\n",
    "\n",
    "plt.scatter(recalls[max_index], precisions[max_index], color = \"red\", marker = \"o\", s = 100)\n",
    "plt.xlabel(\"Recall\")\n",
    "plt.ylabel(\"Precisions\")\n",
    "plt.title(\"Rankings Model\")\n",
    "print('threshold')\n",
    "print(thresholds[max_index])"
   ]
  },
  {
   "cell_type": "markdown",
   "id": "4c422269",
   "metadata": {},
   "source": [
    "From the above plot, it is clear that the optimization process is essentially optimizing recall at the expense of making precision very close to 0.5, which effectively means that this statistic is prioritizing minimizing false negatives at the expense of tolerating more false positives. At this point on the precision recall curve, the precision is not substantially better than random (corresponding to precision = 0.5). If we were to set the threshold where this model suggests at 0.38, a little less than half of the players we predict to win the match would actually lose the match. "
   ]
  },
  {
   "cell_type": "markdown",
   "id": "6244c31f",
   "metadata": {},
   "source": [
    "In the below plot, we are plotting the rocauc score to determine the optimal threshold and the predictive power of our model."
   ]
  },
  {
   "cell_type": "code",
   "execution_count": null,
   "id": "63c562a1",
   "metadata": {},
   "outputs": [
    {
     "name": "stdout",
     "output_type": "stream",
     "text": [
      "threshold\n",
      "[0.54545455]\n",
      "max auc roc score\n",
      "0.6890951276102089\n"
     ]
    },
    {
     "data": {
      "image/png": "[encoded data removed]",
      "text/plain": [
       "<Figure size 640x480 with 1 Axes>"
      ]
     },
     "metadata": {},
     "output_type": "display_data"
    }
   ],
   "source": [
    "max_index = np.where(rocaucs == np.max(rocaucs))\n",
    "plt.figure()\n",
    "plt.scatter(thresholds, rocaucs)\n",
    "plt.xlabel(\"Threshold\")\n",
    "plt.ylabel(\"AUC ROC Score\")\n",
    "plt.title(\"Rankings Model\")\n",
    "print(\"threshold\")\n",
    "print(thresholds[max_index])\n",
    "print(\"max auc roc score\")\n",
    "print(rocaucs[max_index[0][0]])"
   ]
  },
  {
   "cell_type": "markdown",
   "id": "0a028cb1",
   "metadata": {},
   "source": [
    "From above, we found that the optimal threshold occurs at .545, with a maximum auc roc score of 0.689. An auc roc score of 0.5 corresponds to essentially random classification, and an auc roc score of 1 is a perfect classifier. So this model seems to suggest that our model is actually predictive, but is closer to randomness to perfect classification. Also, a threshold value of around 0.5 stands to reason, since we expect that the player with the higher ranking should almost certainly have an advantage."
   ]
  },
  {
   "cell_type": "markdown",
   "id": "6b898f9e",
   "metadata": {},
   "source": [
    "In the below cells, I will repeat the same steps but making the predictions from server ratings and return ratings."
   ]
  },
  {
   "cell_type": "markdown",
   "id": "e61e8a29",
   "metadata": {},
   "source": [
    "## Predicting Winners from Return Ratings"
   ]
  },
  {
   "cell_type": "markdown",
   "id": "cbaf9512",
   "metadata": {},
   "source": [
    "Below, I have plotted a linear regression to the 800+ matches in our dataset based on the return rating differential, exactly as we did in the corresponding above cell from the overall rankings."
   ]
  },
  {
   "cell_type": "code",
   "execution_count": null,
   "id": "5f28595e",
   "metadata": {},
   "outputs": [
    {
     "name": "stderr",
     "output_type": "stream",
     "text": [
      "/Users/colinmurphy/opt/anaconda3/envs/info2950/lib/python3.9/site-packages/sklearn/utils/validation.py:993: DataConversionWarning: A column-vector y was passed when a 1d array was expected. Please change the shape of y to (n_samples, ), for example using ravel().\n",
      "  y = column_or_1d(y, warn=True)\n"
     ]
    },
    {
     "data": {
      "text/plain": [
       "Text(0, 0.5, 'Probability of Victory')"
      ]
     },
     "execution_count": 74,
     "metadata": {},
     "output_type": "execute_result"
    },
    {
     "data": {
      "image/png": "[encoded data removed]",
      "text/plain": [
       "<Figure size 640x480 with 1 Axes>"
      ]
     },
     "metadata": {},
     "output_type": "display_data"
    }
   ],
   "source": [
    "return_X =  np.array([[x] for x in X[:, 2]])\n",
    "return_model = LogisticRegression().fit(return_X, y)\n",
    "fig1 = plt.figure('Return Rating Difference')\n",
    "plt.title('Return Rating Difference')\n",
    "plt.scatter(X[:,2],y, label = \"match result data\")\n",
    "fit_x = np.linspace(np.min(return_X.flatten()), np.max(return_X.flatten()), 1000)\n",
    "fit_x = [[x] for x in fit_x]\n",
    "plt.plot(fit_x, return_model.predict_proba(fit_x)[:, 1], color = \"red\", label = \"model fit\")\n",
    "plt.legend()\n",
    "plt.xlabel(\"Ranking difference\")\n",
    "plt.ylabel(\"Probability of Victory\")"
   ]
  },
  {
   "cell_type": "markdown",
   "id": "133ac268",
   "metadata": {},
   "source": [
    "In the below cell, I am calculating precision, recall, f1 score, rocauc score at thresholds spaced evenly by 1% from 0 to 1."
   ]
  },
  {
   "cell_type": "code",
   "execution_count": null,
   "id": "30296caa",
   "metadata": {
    "scrolled": true
   },
   "outputs": [
    {
     "name": "stderr",
     "output_type": "stream",
     "text": [
      "/Users/colinmurphy/opt/anaconda3/envs/info2950/lib/python3.9/site-packages/sklearn/metrics/_classification.py:1318: UndefinedMetricWarning: Precision is ill-defined and being set to 0.0 due to no predicted samples. Use `zero_division` parameter to control this behavior.\n",
      "  _warn_prf(average, modifier, msg_start, len(result))\n",
      "/Users/colinmurphy/opt/anaconda3/envs/info2950/lib/python3.9/site-packages/sklearn/metrics/_classification.py:1318: UndefinedMetricWarning: Precision is ill-defined and being set to 0.0 due to no predicted samples. Use `zero_division` parameter to control this behavior.\n",
      "  _warn_prf(average, modifier, msg_start, len(result))\n",
      "/Users/colinmurphy/opt/anaconda3/envs/info2950/lib/python3.9/site-packages/sklearn/metrics/_classification.py:1318: UndefinedMetricWarning: Precision is ill-defined and being set to 0.0 due to no predicted samples. Use `zero_division` parameter to control this behavior.\n",
      "  _warn_prf(average, modifier, msg_start, len(result))\n",
      "/Users/colinmurphy/opt/anaconda3/envs/info2950/lib/python3.9/site-packages/sklearn/metrics/_classification.py:1318: UndefinedMetricWarning: Precision is ill-defined and being set to 0.0 due to no predicted samples. Use `zero_division` parameter to control this behavior.\n",
      "  _warn_prf(average, modifier, msg_start, len(result))\n",
      "/Users/colinmurphy/opt/anaconda3/envs/info2950/lib/python3.9/site-packages/sklearn/metrics/_classification.py:1318: UndefinedMetricWarning: Precision is ill-defined and being set to 0.0 due to no predicted samples. Use `zero_division` parameter to control this behavior.\n",
      "  _warn_prf(average, modifier, msg_start, len(result))\n",
      "/Users/colinmurphy/opt/anaconda3/envs/info2950/lib/python3.9/site-packages/sklearn/metrics/_classification.py:1318: UndefinedMetricWarning: Precision is ill-defined and being set to 0.0 due to no predicted samples. Use `zero_division` parameter to control this behavior.\n",
      "  _warn_prf(average, modifier, msg_start, len(result))\n",
      "/Users/colinmurphy/opt/anaconda3/envs/info2950/lib/python3.9/site-packages/sklearn/metrics/_classification.py:1318: UndefinedMetricWarning: Precision is ill-defined and being set to 0.0 due to no predicted samples. Use `zero_division` parameter to control this behavior.\n",
      "  _warn_prf(average, modifier, msg_start, len(result))\n",
      "/Users/colinmurphy/opt/anaconda3/envs/info2950/lib/python3.9/site-packages/sklearn/metrics/_classification.py:1318: UndefinedMetricWarning: Precision is ill-defined and being set to 0.0 due to no predicted samples. Use `zero_division` parameter to control this behavior.\n",
      "  _warn_prf(average, modifier, msg_start, len(result))\n",
      "/Users/colinmurphy/opt/anaconda3/envs/info2950/lib/python3.9/site-packages/sklearn/metrics/_classification.py:1318: UndefinedMetricWarning: Precision is ill-defined and being set to 0.0 due to no predicted samples. Use `zero_division` parameter to control this behavior.\n",
      "  _warn_prf(average, modifier, msg_start, len(result))\n",
      "/Users/colinmurphy/opt/anaconda3/envs/info2950/lib/python3.9/site-packages/sklearn/metrics/_classification.py:1318: UndefinedMetricWarning: Precision is ill-defined and being set to 0.0 due to no predicted samples. Use `zero_division` parameter to control this behavior.\n",
      "  _warn_prf(average, modifier, msg_start, len(result))\n",
      "/Users/colinmurphy/opt/anaconda3/envs/info2950/lib/python3.9/site-packages/sklearn/metrics/_classification.py:1318: UndefinedMetricWarning: Precision is ill-defined and being set to 0.0 due to no predicted samples. Use `zero_division` parameter to control this behavior.\n",
      "  _warn_prf(average, modifier, msg_start, len(result))\n",
      "/Users/colinmurphy/opt/anaconda3/envs/info2950/lib/python3.9/site-packages/sklearn/metrics/_classification.py:1318: UndefinedMetricWarning: Precision is ill-defined and being set to 0.0 due to no predicted samples. Use `zero_division` parameter to control this behavior.\n",
      "  _warn_prf(average, modifier, msg_start, len(result))\n",
      "/Users/colinmurphy/opt/anaconda3/envs/info2950/lib/python3.9/site-packages/sklearn/metrics/_classification.py:1318: UndefinedMetricWarning: Precision is ill-defined and being set to 0.0 due to no predicted samples. Use `zero_division` parameter to control this behavior.\n",
      "  _warn_prf(average, modifier, msg_start, len(result))\n",
      "/Users/colinmurphy/opt/anaconda3/envs/info2950/lib/python3.9/site-packages/sklearn/metrics/_classification.py:1318: UndefinedMetricWarning: Precision is ill-defined and being set to 0.0 due to no predicted samples. Use `zero_division` parameter to control this behavior.\n",
      "  _warn_prf(average, modifier, msg_start, len(result))\n",
      "/Users/colinmurphy/opt/anaconda3/envs/info2950/lib/python3.9/site-packages/sklearn/metrics/_classification.py:1318: UndefinedMetricWarning: Precision is ill-defined and being set to 0.0 due to no predicted samples. Use `zero_division` parameter to control this behavior.\n",
      "  _warn_prf(average, modifier, msg_start, len(result))\n"
     ]
    }
   ],
   "source": [
    "thresholds = np.linspace(0, 1.0, 100)\n",
    "precisions = []\n",
    "recalls = []\n",
    "f1s = []\n",
    "rocaucs = []\n",
    "for threshold in thresholds:\n",
    "    yhat = []\n",
    "    for x in return_X.flatten():\n",
    "        if return_model.predict_proba([[x]])[0, 1] >= threshold:\n",
    "            yhat.append(1)\n",
    "        if return_model.predict_proba([[x]])[0, 1] < threshold:\n",
    "            yhat.append(0)\n",
    "    precisions.append(precision_score(y, yhat))\n",
    "    recalls.append(recall_score(y, yhat))\n",
    "    f1s.append(f1_score(y, yhat))\n",
    "    rocaucs.append(roc_auc_score(y, yhat))\n",
    "precisions = np.array(precisions)\n",
    "recalls = np.array(recalls)"
   ]
  },
  {
   "cell_type": "markdown",
   "id": "42942cf8",
   "metadata": {},
   "source": [
    "Below, I am plotting the precision vs recall plot for the return rating model, exactly as in the corresponding plot for the overall rating model."
   ]
  },
  {
   "cell_type": "code",
   "execution_count": null,
   "id": "2550a4e5",
   "metadata": {},
   "outputs": [
    {
     "name": "stdout",
     "output_type": "stream",
     "text": [
      "threshold\n",
      "[0.37373737]\n"
     ]
    },
    {
     "data": {
      "image/png": "[encoded data removed]",
      "text/plain": [
       "<Figure size 640x480 with 1 Axes>"
      ]
     },
     "metadata": {},
     "output_type": "display_data"
    }
   ],
   "source": [
    "plt.figure()\n",
    "plt.plot(recalls[np.where(recalls != 0)], precisions[:-1][np.where(recalls != 0)],  marker = \".\")\n",
    "max_index = np.where(f1s == np.max(f1s))\n",
    "\n",
    "plt.scatter(recalls[max_index], precisions[max_index], color = \"red\", marker = \"o\", s = 100)\n",
    "plt.xlabel(\"Recall\")\n",
    "plt.ylabel(\"Precisions\")\n",
    "plt.title(\"Return Rating Model\")\n",
    "print('threshold')\n",
    "print(thresholds[max_index])"
   ]
  },
  {
   "cell_type": "markdown",
   "id": "dd9a5125",
   "metadata": {},
   "source": [
    "Based on the above plot, we can conclude that a very similar trend is occuring as above - prioritizing recall, and therefore minimizing false negatives at the expense of tolerating more false positives. If we were to set the threshold based on minimization of the F1 score, a little less than half of the players we predict to win the match would actually lose the match."
   ]
  },
  {
   "cell_type": "markdown",
   "id": "e2b81aca",
   "metadata": {},
   "source": [
    "In the below plot, we plot the rocauc score curve vs the threshold from the rocauc scores calculated above and use that to obtain the optimal threshold and predictive power of our model."
   ]
  },
  {
   "cell_type": "code",
   "execution_count": null,
   "id": "755d3812",
   "metadata": {},
   "outputs": [
    {
     "name": "stdout",
     "output_type": "stream",
     "text": [
      "threshold\n",
      "[0.48484848]\n",
      "max roc auc score\n",
      "0.6136890951276102\n"
     ]
    },
    {
     "data": {
      "image/png": "[encoded data removed]",
      "text/plain": [
       "<Figure size 640x480 with 1 Axes>"
      ]
     },
     "metadata": {},
     "output_type": "display_data"
    }
   ],
   "source": [
    "max_index = np.where(rocaucs == np.max(rocaucs))\n",
    "plt.figure()\n",
    "plt.scatter(thresholds, rocaucs)\n",
    "plt.xlabel(\"Threshold\")\n",
    "plt.ylabel(\"AUC ROC Score\")\n",
    "plt.title(\"Rankings Model\")\n",
    "print(\"threshold\")\n",
    "print(thresholds[max_index])\n",
    "print(\"max roc auc score\")\n",
    "print(rocaucs[max_index[0][0]])"
   ]
  },
  {
   "cell_type": "markdown",
   "id": "8000361d",
   "metadata": {},
   "source": [
    "Since the max rocauc score is lower for the model based on return rating rather than overall ranking, we can tentatively say that overall ranking is a better predictor, head to head, of who will win a tennis match than return rating. "
   ]
  },
  {
   "cell_type": "markdown",
   "id": "9bdb8cc8",
   "metadata": {},
   "source": [
    "## Predicting Winners from Serve Ratings"
   ]
  },
  {
   "cell_type": "markdown",
   "id": "6f6001dd",
   "metadata": {},
   "source": [
    "Below, we are fitting and plotting a 1-dimensional logistic regression to serve rating vs the outcomes of our match dataset. This procedure is almost identical to the previous two sections."
   ]
  },
  {
   "cell_type": "code",
   "execution_count": null,
   "id": "1fdc7481",
   "metadata": {},
   "outputs": [
    {
     "name": "stderr",
     "output_type": "stream",
     "text": [
      "/Users/colinmurphy/opt/anaconda3/envs/info2950/lib/python3.9/site-packages/sklearn/utils/validation.py:993: DataConversionWarning: A column-vector y was passed when a 1d array was expected. Please change the shape of y to (n_samples, ), for example using ravel().\n",
      "  y = column_or_1d(y, warn=True)\n"
     ]
    },
    {
     "data": {
      "text/plain": [
       "Text(0, 0.5, 'Probability of Victory')"
      ]
     },
     "execution_count": 80,
     "metadata": {},
     "output_type": "execute_result"
    },
    {
     "data": {
      "image/png": "[encoded data removed]",
      "text/plain": [
       "<Figure size 640x480 with 1 Axes>"
      ]
     },
     "metadata": {},
     "output_type": "display_data"
    }
   ],
   "source": [
    "serve_X =  np.array([[x] for x in X[:, 1]])\n",
    "serving_model = LogisticRegression().fit(serve_X, y)\n",
    "fig1 = plt.figure('Serve Rating Difference')\n",
    "plt.title('Serve Rating Difference')\n",
    "plt.scatter(X[:,1],y, label = \"match data\", marker = '.')\n",
    "fit_x = np.linspace(np.min(serve_X.flatten()), np.max(serve_X.flatten()), 1000)\n",
    "fit_x = [[x] for x in fit_x]\n",
    "plt.plot(fit_x, serving_model.predict_proba(fit_x)[:, 1], color = \"red\", label = \"model fit\")\n",
    "plt.legend()\n",
    "plt.xlabel(\"Ranking difference\")\n",
    "plt.ylabel(\"Probability of Victory\")"
   ]
  },
  {
   "cell_type": "markdown",
   "id": "7ae2cfa7",
   "metadata": {},
   "source": [
    "In the below block, we are calculating the same binary statistics for the same 100 thresholds as in the previous two sections using an identical procedure."
   ]
  },
  {
   "cell_type": "code",
   "execution_count": null,
   "id": "bedf9e2f",
   "metadata": {
    "scrolled": true
   },
   "outputs": [
    {
     "name": "stderr",
     "output_type": "stream",
     "text": [
      "/Users/colinmurphy/opt/anaconda3/envs/info2950/lib/python3.9/site-packages/sklearn/metrics/_classification.py:1318: UndefinedMetricWarning: Precision is ill-defined and being set to 0.0 due to no predicted samples. Use `zero_division` parameter to control this behavior.\n",
      "  _warn_prf(average, modifier, msg_start, len(result))\n",
      "/Users/colinmurphy/opt/anaconda3/envs/info2950/lib/python3.9/site-packages/sklearn/metrics/_classification.py:1318: UndefinedMetricWarning: Precision is ill-defined and being set to 0.0 due to no predicted samples. Use `zero_division` parameter to control this behavior.\n",
      "  _warn_prf(average, modifier, msg_start, len(result))\n",
      "/Users/colinmurphy/opt/anaconda3/envs/info2950/lib/python3.9/site-packages/sklearn/metrics/_classification.py:1318: UndefinedMetricWarning: Precision is ill-defined and being set to 0.0 due to no predicted samples. Use `zero_division` parameter to control this behavior.\n",
      "  _warn_prf(average, modifier, msg_start, len(result))\n",
      "/Users/colinmurphy/opt/anaconda3/envs/info2950/lib/python3.9/site-packages/sklearn/metrics/_classification.py:1318: UndefinedMetricWarning: Precision is ill-defined and being set to 0.0 due to no predicted samples. Use `zero_division` parameter to control this behavior.\n",
      "  _warn_prf(average, modifier, msg_start, len(result))\n",
      "/Users/colinmurphy/opt/anaconda3/envs/info2950/lib/python3.9/site-packages/sklearn/metrics/_classification.py:1318: UndefinedMetricWarning: Precision is ill-defined and being set to 0.0 due to no predicted samples. Use `zero_division` parameter to control this behavior.\n",
      "  _warn_prf(average, modifier, msg_start, len(result))\n",
      "/Users/colinmurphy/opt/anaconda3/envs/info2950/lib/python3.9/site-packages/sklearn/metrics/_classification.py:1318: UndefinedMetricWarning: Precision is ill-defined and being set to 0.0 due to no predicted samples. Use `zero_division` parameter to control this behavior.\n",
      "  _warn_prf(average, modifier, msg_start, len(result))\n",
      "/Users/colinmurphy/opt/anaconda3/envs/info2950/lib/python3.9/site-packages/sklearn/metrics/_classification.py:1318: UndefinedMetricWarning: Precision is ill-defined and being set to 0.0 due to no predicted samples. Use `zero_division` parameter to control this behavior.\n",
      "  _warn_prf(average, modifier, msg_start, len(result))\n",
      "/Users/colinmurphy/opt/anaconda3/envs/info2950/lib/python3.9/site-packages/sklearn/metrics/_classification.py:1318: UndefinedMetricWarning: Precision is ill-defined and being set to 0.0 due to no predicted samples. Use `zero_division` parameter to control this behavior.\n",
      "  _warn_prf(average, modifier, msg_start, len(result))\n",
      "/Users/colinmurphy/opt/anaconda3/envs/info2950/lib/python3.9/site-packages/sklearn/metrics/_classification.py:1318: UndefinedMetricWarning: Precision is ill-defined and being set to 0.0 due to no predicted samples. Use `zero_division` parameter to control this behavior.\n",
      "  _warn_prf(average, modifier, msg_start, len(result))\n",
      "/Users/colinmurphy/opt/anaconda3/envs/info2950/lib/python3.9/site-packages/sklearn/metrics/_classification.py:1318: UndefinedMetricWarning: Precision is ill-defined and being set to 0.0 due to no predicted samples. Use `zero_division` parameter to control this behavior.\n",
      "  _warn_prf(average, modifier, msg_start, len(result))\n",
      "/Users/colinmurphy/opt/anaconda3/envs/info2950/lib/python3.9/site-packages/sklearn/metrics/_classification.py:1318: UndefinedMetricWarning: Precision is ill-defined and being set to 0.0 due to no predicted samples. Use `zero_division` parameter to control this behavior.\n",
      "  _warn_prf(average, modifier, msg_start, len(result))\n",
      "/Users/colinmurphy/opt/anaconda3/envs/info2950/lib/python3.9/site-packages/sklearn/metrics/_classification.py:1318: UndefinedMetricWarning: Precision is ill-defined and being set to 0.0 due to no predicted samples. Use `zero_division` parameter to control this behavior.\n",
      "  _warn_prf(average, modifier, msg_start, len(result))\n"
     ]
    }
   ],
   "source": [
    "thresholds = np.linspace(0, 1.0, 100)\n",
    "precisions = []\n",
    "recalls = []\n",
    "f1s = []\n",
    "rocaucs = []\n",
    "for threshold in thresholds:\n",
    "    yhat = []\n",
    "    for x in serve_X.flatten():\n",
    "        if serving_model.predict_proba([[x]])[0, 1] >= threshold:\n",
    "            yhat.append(1)\n",
    "        if serving_model.predict_proba([[x]])[0, 1] < threshold:\n",
    "            yhat.append(0)\n",
    "    precisions.append(precision_score(y, yhat))\n",
    "    recalls.append(recall_score(y, yhat))\n",
    "    f1s.append(f1_score(y, yhat))\n",
    "    rocaucs.append(roc_auc_score(y, yhat))\n",
    "precisions = np.array(precisions)\n",
    "recalls = np.array(recalls)"
   ]
  },
  {
   "cell_type": "markdown",
   "id": "4c9c893b",
   "metadata": {},
   "source": [
    "In the below plot, we are generating a precision vs recall plot using an identical procedure as the above two sections."
   ]
  },
  {
   "cell_type": "code",
   "execution_count": null,
   "id": "23829d01",
   "metadata": {},
   "outputs": [
    {
     "name": "stdout",
     "output_type": "stream",
     "text": [
      "threshold\n",
      "[0.28282828]\n"
     ]
    },
    {
     "data": {
      "image/png": "[encoded data removed]",
      "text/plain": [
       "<Figure size 640x480 with 1 Axes>"
      ]
     },
     "metadata": {},
     "output_type": "display_data"
    }
   ],
   "source": [
    "plt.figure()\n",
    "plt.plot(recalls[np.where(recalls != 0)], precisions[:-1][np.where(recalls != 0)],  marker = \".\")\n",
    "max_index = np.where(f1s == np.max(f1s))\n",
    "\n",
    "plt.scatter(recalls[max_index], precisions[max_index], color = \"red\", marker = \"o\", s = 100)\n",
    "plt.xlabel(\"Recall\")\n",
    "plt.ylabel(\"Precisions\")\n",
    "plt.title(\"Rankings Model\")\n",
    "print('threshold')\n",
    "print(thresholds[max_index])"
   ]
  },
  {
   "cell_type": "markdown",
   "id": "f1da8409",
   "metadata": {},
   "source": [
    "We notice the same trend of a low optimal threshold and the same \"hardly better than random\" precision with the benefit of a very high recall. This is probably not where we want to optimally set the threshold as false negatives are about as important as false positives in our model."
   ]
  },
  {
   "cell_type": "markdown",
   "id": "bafb9a94",
   "metadata": {},
   "source": [
    "Below, we are generating an rocauc score vs threshold plot using an identical procedure as in the proceeding two sections."
   ]
  },
  {
   "cell_type": "code",
   "execution_count": null,
   "id": "89e1922b",
   "metadata": {},
   "outputs": [
    {
     "name": "stdout",
     "output_type": "stream",
     "text": [
      "threshold\n",
      "[0.53535354]\n",
      "max roc auc score\n",
      "0.6357308584686775\n"
     ]
    },
    {
     "data": {
      "image/png": "[encoded data removed]",
      "text/plain": [
       "<Figure size 640x480 with 1 Axes>"
      ]
     },
     "metadata": {},
     "output_type": "display_data"
    }
   ],
   "source": [
    "max_index = np.where(rocaucs == np.max(rocaucs))\n",
    "plt.figure()\n",
    "plt.scatter(thresholds, rocaucs)\n",
    "plt.xlabel(\"Threshold\")\n",
    "plt.ylabel(\"AUC ROC Score\")\n",
    "plt.title(\"Server Rating Model\")\n",
    "print(\"threshold\")\n",
    "print(thresholds[max_index])\n",
    "print(\"max roc auc score\")\n",
    "print(rocaucs[max_index[0][0]])"
   ]
  },
  {
   "cell_type": "markdown",
   "id": "293049a7",
   "metadata": {},
   "source": [
    "For the rank model, for a 1 unit increase in the difference in rank between the players, the probability that the first player wins increases by e^(0.000364)\n",
    "For the serve model, for a 1 unit increase in the difference in serve ratings between the players, the probability that the first player wins increases by e^(0.0441)\n",
    "For the return model, for a 1 unit increase in the difference in return ratings between the players, the probability that the first player wins increases by e^(0.0357)\n",
    "For the multivariable model, for a 1 unit increase in the difference in rank points between the two players, all else remaining the same, the probability that the first player player wins increases by e^(0.000187).\n",
    "For a 1 unit increase in serving points between the two players, all else remaining the same, the probability that the first player wins increases by e^(0.0335)\n",
    "For a 1 unit increase in the difference in return points between the two players, all else remaining the same, the probability that the first player wins increases by e^(0.0259)\n",
    "\n",
    "The coefficients for the models are low, which supports the figures having very gradual slopes. Even the highest differences only provide a 90 percent chance of winning in the models. This shows that the rating differences do not have a very large impact on the outcome of matches. There are a lot of instances where a player with lower ratings still wins. There are likely other parameters that have higher impacts on the score. In addition, the players that we are collecting and analyzing data for are the top players in the world. Every player has an extremely high level of skill and experience, and as such at this level the differences in skill are minimal, therefore making the differences in ratings even less impactful.\n",
    "\n",
    "The intercepts for the models are extremely low, with the rank and return models having an essentially negligible intercept. This shows that when the rating difference between two players is 0, there is a 50/50 percent chance of winning. This makes sense as if their ratings are 0, they should have an equal chance of winning."
   ]
  },
  {
   "cell_type": "code",
   "execution_count": 92,
   "id": "8566f8d8",
   "metadata": {},
   "outputs": [
    {
     "name": "stdout",
     "output_type": "stream",
     "text": [
      "\n",
      " for rank model\n",
      "coefficient: 0.00036420371719544817\n",
      "intercept: -3.937477185745417e-09\n",
      "\n",
      " for serve model\n",
      "coefficient: 0.04410436412034806\n",
      "intercept: 0.016442393648689206\n",
      "\n",
      " for rank model\n",
      "coefficient: 0.03574748623621543\n",
      "intercept: 0.004672702284234546\n",
      "\n",
      " For multivariate model\n",
      "rank, serve, and return coefficients: 0.000186928077015273, 0.03347634794502012, 0.025852552284873605\n",
      "intercept: 1.0251277451542612e-05\n"
     ]
    },
    {
     "name": "stderr",
     "output_type": "stream",
     "text": [
      "/Users/colinmurphy/opt/anaconda3/envs/info2950/lib/python3.9/site-packages/sklearn/utils/validation.py:993: DataConversionWarning: A column-vector y was passed when a 1d array was expected. Please change the shape of y to (n_samples, ), for example using ravel().\n",
      "  y = column_or_1d(y, warn=True)\n"
     ]
    }
   ],
   "source": [
    "model = LogisticRegression().fit(X, y)\n",
    "\n",
    "print('\\n for rank model')\n",
    "print('coefficient: '+str(rank_model.coef_[0][0]))\n",
    "print('intercept: '+str(rank_model.intercept_[0]))\n",
    "\n",
    "print('\\n for serve model')\n",
    "print('coefficient: '+str(serving_model.coef_[0][0]))\n",
    "print('intercept: '+str(serving_model.intercept_[0]))\n",
    "\n",
    "print('\\n for rank model')\n",
    "print('coefficient: '+str(return_model.coef_[0][0]))\n",
    "print('intercept: '+str(return_model.intercept_[0]))\n",
    "\n",
    "print('\\n For multivariate model')\n",
    "print(\"rank, serve, and return coefficients: \"+str(model.coef_[0][0])+\", \"+str(model.coef_[0][1])+\", \"+str(model.coef_[0][2]))\n",
    "print(\"intercept: \"+str(model.intercept_[0]))\n"
   ]
  },
  {
   "cell_type": "markdown",
   "id": "cedb0357",
   "metadata": {},
   "source": [
    "In the below block, we calculate precision, recall, F1 scores, and aucroc scores for 100 thresholds spaced evenly between 0 and 1, mimicking almost exactly the procedure that we used for the 1D models except this time feeding the model 3 inputs of 1 input."
   ]
  },
  {
   "cell_type": "code",
   "execution_count": 94,
   "id": "4d1a101a",
   "metadata": {},
   "outputs": [
    {
     "name": "stderr",
     "output_type": "stream",
     "text": [
      "/Users/colinmurphy/opt/anaconda3/envs/info2950/lib/python3.9/site-packages/sklearn/metrics/_classification.py:1318: UndefinedMetricWarning: Precision is ill-defined and being set to 0.0 due to no predicted samples. Use `zero_division` parameter to control this behavior.\n",
      "  _warn_prf(average, modifier, msg_start, len(result))\n",
      "/Users/colinmurphy/opt/anaconda3/envs/info2950/lib/python3.9/site-packages/sklearn/metrics/_classification.py:1318: UndefinedMetricWarning: Precision is ill-defined and being set to 0.0 due to no predicted samples. Use `zero_division` parameter to control this behavior.\n",
      "  _warn_prf(average, modifier, msg_start, len(result))\n",
      "/Users/colinmurphy/opt/anaconda3/envs/info2950/lib/python3.9/site-packages/sklearn/metrics/_classification.py:1318: UndefinedMetricWarning: Precision is ill-defined and being set to 0.0 due to no predicted samples. Use `zero_division` parameter to control this behavior.\n",
      "  _warn_prf(average, modifier, msg_start, len(result))\n"
     ]
    }
   ],
   "source": [
    "thresholds = np.linspace(0, 1.0, 100)\n",
    "precisions = []\n",
    "recalls = []\n",
    "f1s = []\n",
    "rocaucs = []\n",
    "for threshold in thresholds:\n",
    "    yhat = []\n",
    "    for x in X:\n",
    "        if model.predict_proba([x])[0, 1] >= threshold:\n",
    "            yhat.append(1)\n",
    "        if model.predict_proba([x])[0, 1] < threshold:\n",
    "            yhat.append(0)\n",
    "    precisions.append(precision_score(y, yhat))\n",
    "    recalls.append(recall_score(y, yhat))\n",
    "    f1s.append(f1_score(y, yhat))\n",
    "    rocaucs.append(roc_auc_score(y, yhat))\n",
    "precisions = np.array(precisions)\n",
    "recalls = np.array(recalls)"
   ]
  },
  {
   "cell_type": "markdown",
   "id": "435fc564",
   "metadata": {},
   "source": [
    "Next, we generate a precision recall curve using the exact same methodology as for the 1D models. We find that we are able to strike a better balance between precision and recall with a threshold much closer to 0.5 than in the 1 dimensional models. "
   ]
  },
  {
   "cell_type": "code",
   "execution_count": 98,
   "id": "eb59ed39",
   "metadata": {},
   "outputs": [
    {
     "name": "stdout",
     "output_type": "stream",
     "text": [
      "threshold\n",
      "[0.42424242]\n",
      "Max recall\n",
      "0.8004640371229699\n",
      "Max precision\n",
      "0.6388888888888888\n"
     ]
    },
    {
     "data": {
      "image/png": "[encoded data removed]",
      "text/plain": [
       "<Figure size 640x480 with 1 Axes>"
      ]
     },
     "metadata": {},
     "output_type": "display_data"
    }
   ],
   "source": [
    "plt.figure()\n",
    "plt.plot(recalls[np.where(recalls != 0)], precisions[:-1][np.where(recalls != 0)],  marker = \".\")\n",
    "max_index = np.where(f1s == np.max(f1s))\n",
    "\n",
    "plt.scatter(recalls[max_index], precisions[max_index], color = \"red\", marker = \"o\", s = 100)\n",
    "plt.xlabel(\"Recall\")\n",
    "plt.ylabel(\"Precisions\")\n",
    "plt.title(\"Rankings Model\")\n",
    "print('threshold')\n",
    "print(thresholds[max_index])\n",
    "print(\"Max recall\")\n",
    "print(recalls[max_index[0][0]])\n",
    "print(\"Max precision\")\n",
    "print(precisions[max_index[0][0]])"
   ]
  },
  {
   "cell_type": "markdown",
   "id": "94f6ad54",
   "metadata": {},
   "source": [
    "Taking into account the three ratings, we are able to achieve a recall of 0.80 and a precision of 0.64 simultaneously, meaning that of the players we predict to win their match, around 64% of them actually did win their match, and of the players who actually did win their match, we were able to identify 80% of them. The F1 score still shows a slight preference for minimizing false negatives at the expense of a larger number of false positives, which there is no reason to prefer in our particular case."
   ]
  },
  {
   "cell_type": "markdown",
   "id": "c8b7e38e",
   "metadata": {},
   "source": [
    "Next I will generate a threshold plot using the same methodologyas in the 1 dimensional cases. "
   ]
  },
  {
   "cell_type": "code",
   "execution_count": 99,
   "id": "b55b8cdd",
   "metadata": {},
   "outputs": [
    {
     "name": "stdout",
     "output_type": "stream",
     "text": [
      "threshold\n",
      "[0.51515152]\n",
      "max roc auc score\n",
      "0.691415313225058\n"
     ]
    },
    {
     "data": {
      "image/png": "[encoded data removed]",
      "text/plain": [
       "<Figure size 640x480 with 1 Axes>"
      ]
     },
     "metadata": {},
     "output_type": "display_data"
    }
   ],
   "source": [
    "max_index = np.where(rocaucs == np.max(rocaucs))\n",
    "plt.figure()\n",
    "plt.scatter(thresholds, rocaucs)\n",
    "plt.xlabel(\"Threshold\")\n",
    "plt.ylabel(\"AUC ROC Score\")\n",
    "plt.title(\"Server Rating Model\")\n",
    "print(\"threshold\")\n",
    "print(thresholds[max_index])\n",
    "print(\"max roc auc score\")\n",
    "print(rocaucs[max_index[0][0]])"
   ]
  },
  {
   "cell_type": "markdown",
   "id": "5adde2a0",
   "metadata": {},
   "source": [
    "The total auc-roc is better than any of the three single-variable models that we developed. However, it is only very barely better than our model based on the overall ranking and nothing else."
   ]
  },
  {
   "cell_type": "markdown",
   "id": "0f3c8c59",
   "metadata": {},
   "source": [
    "# Conclusions and Questions for Reviewers"
   ]
  },
  {
   "cell_type": "markdown",
   "id": "82e8dd0b",
   "metadata": {},
   "source": [
    "Conclusions: Because of the high degree of collinearity between serve rating, return rating, and overall rating, we find that the predictive power of our model is only barely improved when taking into account the serve rating and the return rating in addition to the overall ranking. We further find that the serve rating is a more powerful classifer based on auc-roc score than the return rating.\n",
    "\n",
    "It is clear that we have addressed most of the points of our research question. Therefore, in future phases of this project, we should probably seek to improve our model by making it sensitive to more factors - specifically, we could make models that are sensitive to the play surface of the match, and see if we can improve the auc-roc score of our model by doing so. \n",
    "\n",
    "We could also try to determine if there subsets of matches where our model performs better or worse than other subsets. For example, it's possible that our model makes better predictions for matches between highly ranked players than between players with low ranks."
   ]
  },
  {
   "cell_type": "markdown",
   "id": "f3574800",
   "metadata": {},
   "source": [
    "## Questions for Reviewers"
   ]
  },
  {
   "cell_type": "markdown",
   "id": "22e061e2",
   "metadata": {},
   "source": [
    "- Have we conclusively answered our research question as stated at the beginning of this document? It seems that we have shown the relative predictive values between serve rating, return rating, and overall ranking based on the auc-roc score vs threshold curve. Is there anything else that we need to do to establish the relative predictive qualities of these three metrics?\n",
    "- Is it interesting to expand on our research question just by adding more parameters to our model? Like is a model that has a higher max auc-roc curve (say, 80-85% instead of ~70%) an interesting outcome of our research? Or should we focus more on determining subsets of matches where our model performs better or worse? "
   ]
  },
  {
   "cell_type": "markdown",
   "id": "98e72abc",
   "metadata": {},
   "source": [
    "# Works Cited"
   ]
  },
  {
   "cell_type": "markdown",
   "id": "e674969d",
   "metadata": {},
   "source": [
    "Using the locale function: https://docs.python.org/3/library/locale.html\n",
    "\n",
    "ATP Match results: https://github.com/JeffSackmann/tennis_atp/blob/master/atp_matches_2023.csv\n",
    "\n",
    "ATP tennis stats: https://www.wheeloratings.com/tennis_atp_stats_last52.html\n",
    "\n",
    "ATP men's singles rankings: https://www.atptour.com/rankings/singles"
   ]
  }
 ],
 "metadata": {
  "kernelspec": {
   "display_name": "Python 3 (ipykernel)",
   "language": "python",
   "name": "python3"
  },
  "language_info": {
   "codemirror_mode": {
    "name": "ipython",
    "version": 3
   },
   "file_extension": ".py",
   "mimetype": "text/x-python",
   "name": "python",
   "nbconvert_exporter": "python",
   "pygments_lexer": "ipython3",
   "version": "3.9.17"
  }
 },
 "nbformat": 4,
 "nbformat_minor": 5
}
