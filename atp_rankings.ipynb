{
 "cells": [
  {
   "cell_type": "code",
   "execution_count": 124,
   "id": "8aa2cd9c",
   "metadata": {},
   "outputs": [],
   "source": [
    "import requests\n",
    "from bs4 import BeautifulSoup\n",
    "\n",
    "import pandas as pd\n",
    "import numpy as np\n",
    "import time\n",
    "import locale\n",
    "locale.setlocale(locale.LC_ALL, 'en_US.UTF-8')\n",
    "import pandas as pd"
   ]
  },
  {
   "cell_type": "code",
   "execution_count": 104,
   "id": "f792ef92",
   "metadata": {},
   "outputs": [],
   "source": [
    "#wiki_url = \"https://en.wikipedia.org/wiki/ATP_rankings\"\n",
    "wiki_url = \"https://www.atptour.com/rankings/singles\""
   ]
  },
  {
   "cell_type": "code",
   "execution_count": 105,
   "id": "7e70e89a",
   "metadata": {},
   "outputs": [],
   "source": [
    "wiki_result = requests.get(wiki_url)\n",
    "if wiki_result.status_code != 200:\n",
    "  print(\"something went wrong:\", wiki_result.status_code, wiki_result.reason)"
   ]
  },
  {
   "cell_type": "code",
   "execution_count": 106,
   "id": "742edc63",
   "metadata": {},
   "outputs": [],
   "source": [
    "with open(\"atp_ranking.html\", \"w\") as writer:\n",
    "  writer.write(wiki_result.text)"
   ]
  },
  {
   "cell_type": "code",
   "execution_count": 107,
   "id": "66b7a73f",
   "metadata": {},
   "outputs": [],
   "source": [
    "with open(\"atp_ranking.html\", \"r\") as reader:\n",
    "  html_source = reader.read()"
   ]
  },
  {
   "cell_type": "code",
   "execution_count": 108,
   "id": "523e1b26",
   "metadata": {},
   "outputs": [],
   "source": [
    "page = BeautifulSoup(html_source, \"html.parser\")"
   ]
  },
  {
   "cell_type": "code",
   "execution_count": 129,
   "id": "6e442aa3",
   "metadata": {},
   "outputs": [],
   "source": [
    "atp_rankings = page.find(\"table\", {\"id\":\"player-rank-detail-ajax\"})\n",
    "item_count = 0\n",
    "items = []\n",
    "rankings = []\n",
    "players = []\n",
    "for row in atp_rankings.tbody.findAll('tr'):\n",
    "    for item in row.findAll('td'):\n",
    "        items.append(item)\n",
    "        item_count += 1\n",
    "        try:\n",
    "            items[item_count -1] = locale.atof(items[item_count-1].text)\n",
    "            \n",
    "            if(items[item_count-1] > 600):\n",
    "                rankings.append(items[item_count -1])\n",
    "        except:\n",
    "            if len(items[item_count-1].text.strip()) > 0:\n",
    "                players.append(items[item_count-1].text.strip())\n",
    "atp_items = page.find_all(\"td\", {\"data-type\": \"text_align:left\"})"
   ]
  },
  {
   "cell_type": "code",
   "execution_count": 128,
   "id": "774ab149",
   "metadata": {},
   "outputs": [],
   "source": [
    "rankings_df = pd.DataFrame({\"player\":players, \"ranking\":rankings})\n",
    "rankings_df.to_csv(\"atp_rankings.csv\")"
   ]
  },
  {
   "cell_type": "code",
   "execution_count": null,
   "id": "34bf6a04",
   "metadata": {},
   "outputs": [],
   "source": []
  }
 ],
 "metadata": {
  "kernelspec": {
   "display_name": "Python 3 (ipykernel)",
   "language": "python",
   "name": "python3"
  },
  "language_info": {
   "codemirror_mode": {
    "name": "ipython",
    "version": 3
   },
   "file_extension": ".py",
   "mimetype": "text/x-python",
   "name": "python",
   "nbconvert_exporter": "python",
   "pygments_lexer": "ipython3",
   "version": "3.9.17"
  }
 },
 "nbformat": 4,
 "nbformat_minor": 5
}
