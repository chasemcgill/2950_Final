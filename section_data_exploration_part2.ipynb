{
 "cells": [
  {
   "cell_type": "code",
   "execution_count": 2,
   "metadata": {},
   "outputs": [],
   "source": [
    "import pandas as pd\n",
    "from sklearn.linear_model import LogisticRegression\n",
    "import numpy as np\n",
    "import matplotlib.pyplot as plt"
   ]
  },
  {
   "cell_type": "markdown",
   "metadata": {},
   "source": [
    "We wanted to find the colinearity between the overall, serve, and return ratings, so we printed out the correlation matrix below. As you can see, the correlation between all the variables are high, specifically between the return_diff and serve_diff with the rank_dff. This makes sense as players who are ranked very high overall tend to be high serve and rank leaders as well. The correlation between return_diff and serve_diff is lower, showing that there is greater variation with some players being really good servers and not so good returners and vice versa. The covariance matrix shows a similar story. "
   ]
  },
  {
   "cell_type": "code",
   "execution_count": 8,
   "metadata": {},
   "outputs": [
    {
     "name": "stdout",
     "output_type": "stream",
     "text": [
      "             rank_diff  serve_diff  return_diff\n",
      "rank_diff     1.000000    0.449162     0.557195\n",
      "serve_diff    0.449162    1.000000    -0.235885\n",
      "return_diff   0.557195   -0.235885     1.000000\n",
      "                rank_diff    serve_diff   return_diff\n",
      "rank_diff    8.281619e+06  18512.396329  24119.485166\n",
      "serve_diff   1.851240e+04    205.118023    -50.816486\n",
      "return_diff  2.411949e+04    -50.816486    226.258982\n"
     ]
    }
   ],
   "source": [
    "overall_df = pd.read_csv('overall_df.csv')\n",
    "\n",
    "overall_df = pd.read_csv('overall_df.csv')\n",
    "overall_df = overall_df.drop(['Unnamed: 0'], axis=1)\n",
    "overall_df['rank_diff'] = overall_df.winner_rank - overall_df.loser_rank\n",
    "overall_df['serve_diff'] = overall_df.winner_serve_rating - overall_df.loser_serve_rating\n",
    "overall_df['return_diff'] = overall_df.winner_return_rating - overall_df.loser_return_rating\n",
    "X = overall_df[['rank_diff', 'serve_diff', 'return_diff']]\n",
    "corr_X = X.corr()\n",
    "cov_X = X.cov()\n",
    "\n",
    "print(corr_X)\n",
    "print(cov_X)"
   ]
  },
  {
   "cell_type": "code",
   "execution_count": null,
   "metadata": {},
   "outputs": [],
   "source": []
  }
 ],
 "metadata": {
  "kernelspec": {
   "display_name": "Python 3",
   "language": "python",
   "name": "python3"
  },
  "language_info": {
   "codemirror_mode": {
    "name": "ipython",
    "version": 3
   },
   "file_extension": ".py",
   "mimetype": "text/x-python",
   "name": "python",
   "nbconvert_exporter": "python",
   "pygments_lexer": "ipython3",
   "version": "3.11.4"
  }
 },
 "nbformat": 4,
 "nbformat_minor": 2
}
