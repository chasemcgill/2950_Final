{
 "cells": [
  {
   "cell_type": "markdown",
   "metadata": {},
   "source": [
    "# Data Description"
   ]
  },
  {
   "cell_type": "markdown",
   "metadata": {},
   "source": [
    "### __MOTIVATION__\n",
    "\n",
    "__Why was this dataset created?__\n",
    "\n",
    "This dataset was created to create a model that is able to accurately predict the probability that one player will win against another player given data from matches played in 2023. These players are the top 80 players. \n",
    "\n",
    "__Who funded the creation of the dataset?__\n",
    "\n",
    "Association of Tennis Professionals (ATP). This is the official and primary tennis association for all professional games and matches, and as such has the most and most accurate data out of any other website or association. We did not verify the methods in which they calculated the values of rankings of everything. We are assuming that the formulas that the ATP uses to take data and output rankings and ratings accurately measure the real skill of these players. \n",
    "\n",
    "The specific pages that were taken from ATP are listed as follows: \n",
    "- https://www.atptour.com/en/rankings/singles\n",
    "- https://www.atptour.com/en/stats/leaderboard?boardType=serve&timeFrame=52Week&surface=all&versusRank=all&formerNo1=false\n",
    "- https://www.atptour.com/en/stats/leaderboard?boardType=return&timeFrame=52Week&surface=all&versusRank=all&formerNo1=false.\n",
    "\n",
    "In addition, information from the specific matches that have taken place in 2023 were found from (https://github.com/JeffSackmann/tennis_atp/blob/master/atp_matches_2023.csv). The source, Jeff Sackman, is experienced in sports statistics, having written and analyzed tennis for many big organizations including the Wall Street Journal and ESPN. In addition, the information contained are completely objective and are not the result of calculations or models, such as when the match took place and the ages of the players."
   ]
  },
  {
   "cell_type": "markdown",
   "metadata": {},
   "source": [
    "### __COMPOSITION__\n",
    "\n",
    "__What do the instances that comprise the dataset represent?__\n",
    "\n",
    "The instances that comprise the dataset represent one match between two professional tennis players in the year 2023. \n",
    "\n",
    "__Are there any errors, sources of noise, or redundancies in the dataset?__\n",
    "\n",
    "There are many more factors that affect the probability and outcome of a tennis match, from the surface, to the time of year and day, to the current physical and mental health of each player, age, differing strengths and weaknesses of specific players, and more. We are just focusing on some of the larger factors\n",
    "\n",
    "__Is the dataset self-contained, or does it link to or otherwise rely on external resources?__\n",
    "\n",
    "The dataset was taken from multiple sources listed above and merged together, this model is only accurate currently as the data used will constantly be changed as rankings and ratings of players change\n",
    "\n",
    "__What are the observations (rows) and the attributes (columns)?__\n",
    "\n",
    "Columns:\n",
    "\n",
    "- winner_name: The name of the winner of the match\n",
    "- loser_name: The name of the loser of the math\n",
    "- winner_ranking: The current rating/ELO of the winner\n",
    "- loser_ranking: The current rating/ELO of the loser\n",
    "- serve_diff: The current difference in the rating/ELO for the serve between the winner and loser\n",
    "- return_diff: The current difference in the rating/ELO for the return between the winner and loser\n",
    "    \n",
    "Rows: \n",
    "\n",
    "- Every professional match that has taken place in 2023"
   ]
  },
  {
   "cell_type": "markdown",
   "metadata": {},
   "source": [
    "### __COLLECTION PROCESS__\n",
    "\n",
    "__What processes might have influenced what data was observed and recorded and what was not?__\n",
    "\n",
    "The ATP website only contains data for a limited number of players, up to 80, which is different for both the serve and return leaders. This means that the overall dataset only contains players that are found in not only the matches in 2023 but also in the serve leaders along with the return leaders. More player stats were able to be collected from ATP as it wasn't shown.\n",
    "\n",
    "__Over what time frame was the data collected?__\n",
    "\n",
    "Data for the players were only collected from 2023\n",
    "\n",
    "__How was the data associated with each instance acquired?__\n",
    "\n",
    "The overall, serve, and return ELO's of the players were collected from the ATP website. The matches of 2023 were collected from Jeff Sackman's github.\n",
    "\n",
    "__What preprocessing was done, and how did the data come to be in the form that you are using?__\n",
    "\n",
    "The ATP data all came in a table, which needed to be webscraped, and cleaning also involved only specific columns needed to be taken. The data from Jeff Sackman's github came as a downloadable csv, from which specific columns were taken from"
   ]
  },
  {
   "cell_type": "markdown",
   "metadata": {},
   "source": []
  }
 ],
 "metadata": {
  "kernelspec": {
   "display_name": "Python 3",
   "language": "python",
   "name": "python3"
  },
  "language_info": {
   "name": "python",
   "version": "3.11.4"
  }
 },
 "nbformat": 4,
 "nbformat_minor": 2
}
