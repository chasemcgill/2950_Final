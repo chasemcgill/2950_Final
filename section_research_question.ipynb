{
 "cells": [
  {
   "cell_type": "markdown",
   "id": "b3b5eb9d",
   "metadata": {},
   "source": [
    "Can we use two ATP men's tennis players overall rankings, server ratings, and return ratings (compiled by the Association of Tennis Professionals) to predict who will win a tennis match between the two players? Specifically, can we use the relative ratings/rankings of each player (ie. rating of player 1 - rating of player 2) to determine who will win the match? Can we use this model to comment on which metrics are the best predictor of tennis performance? (i.e. Is serving more important than returning? Is overall ranking more important than specific skills? etc)\n",
    "\n",
    "The Association of Tennis Professionals (ATP) compiles a ranking of each male tennis athlete in their league, and also computes metrics about the players skill in serving and returning. We would like to train a multivariate logistic regression model on all of the 2023 ATP men's tennis match results to predict the winner and loser of a tennis match based on their respective overall rankings and serving/return ratings. \n",
    "\n",
    "Then, we would like to evaluate the reliability of this model using binary regression metrics like precision, recall, ROC/AUC, and F1."
   ]
  },
  {
   "cell_type": "code",
   "execution_count": null,
   "id": "ec3ec4e6",
   "metadata": {},
   "outputs": [],
   "source": []
  }
 ],
 "metadata": {
  "kernelspec": {
   "display_name": "Python 3 (ipykernel)",
   "language": "python",
   "name": "python3"
  },
  "language_info": {
   "codemirror_mode": {
    "name": "ipython",
    "version": 3
   },
   "file_extension": ".py",
   "mimetype": "text/x-python",
   "name": "python",
   "nbconvert_exporter": "python",
   "pygments_lexer": "ipython3",
   "version": "3.9.17"
  }
 },
 "nbformat": 4,
 "nbformat_minor": 5
}
