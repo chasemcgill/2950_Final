{
 "cells": [
  {
   "cell_type": "code",
   "execution_count": 115,
   "id": "b520608a",
   "metadata": {},
   "outputs": [],
   "source": [
    "import requests\n",
    "import pandas as pd\n",
    "from bs4 import BeautifulSoup\n",
    "from selenium import webdriver\n",
    "import os"
   ]
  },
  {
   "cell_type": "markdown",
   "id": "3eec8887",
   "metadata": {},
   "source": [
    "This first section is initializing the webdriver object using Selenium. Because the atp website is dynamically loaded, we can't use BeautifulSoup to access the html."
   ]
  },
  {
   "cell_type": "code",
   "execution_count": 116,
   "id": "91ea123a",
   "metadata": {},
   "outputs": [],
   "source": [
    "test = 'https://www.atptour.com/en/stats/leaderboard?boardType=return&timeFrame=52Week&surface=all&versusRank=all&formerNo1=false'\n",
    "browser = webdriver.Firefox(executable_path='/Users/chasemcgill/Downloads/geckodriver')\n",
    "browser.get(test)\n"
   ]
  },
  {
   "cell_type": "markdown",
   "id": "036ce733",
   "metadata": {},
   "source": [
    "Next, we found the table containing all the information of return leaders in 2023. First we accessed the table element as a whole, then created a list where each element is a separate row."
   ]
  },
  {
   "cell_type": "code",
   "execution_count": 118,
   "id": "b24224ab",
   "metadata": {},
   "outputs": [],
   "source": [
    "table = browser.find_element_by_id('leaderboardTable')\n",
    "r = table.find_elements_by_tag_name('tr')\n",
    "\n"
   ]
  },
  {
   "cell_type": "markdown",
   "id": "664a5983",
   "metadata": {},
   "source": [
    "This is a quick function to make the process of getting each player's information easier. This function parses the text of each row to return a dictionary containing all the pertinent information about a player, like their name and return rating."
   ]
  },
  {
   "cell_type": "code",
   "execution_count": 119,
   "id": "3da05324",
   "metadata": {},
   "outputs": [],
   "source": [
    "def GetInfo(id, row = r):\n",
    "    t = row[id].text\n",
    "    first_slash = t.index('\\n')\n",
    "    standing = t[:first_slash]\n",
    "    name = t[first_slash+1:t.rfind('\\n')]\n",
    "    stats = t[t.rfind('\\n')+1:].split(' ')\n",
    "    \n",
    "    return {'Name': name, 'Standing': standing, 'Return Rating': float(stats[0]), '% 1st Serve Return Points W'\\\n",
    "            : float(stats[1][:-1]),\\\n",
    "            '% 2nd Serve Return Points W':float(stats[2][:-1]), '% Return Games Won': float(stats[3][:-1]),\\\n",
    "            '% Break Points Converted': float(stats[4][:-1])}"
   ]
  },
  {
   "cell_type": "markdown",
   "id": "dfe10567",
   "metadata": {},
   "source": [
    "Finally, this cell is where the dataframe containing all the information is created. We used the GetInfo() function to  create the first row of the data frame, and then a for loop to fill it in with all the other player's information."
   ]
  },
  {
   "cell_type": "code",
   "execution_count": 121,
   "id": "6c2eda40",
   "metadata": {},
   "outputs": [
    {
     "data": {
      "text/html": [
       "<div>\n",
       "<style scoped>\n",
       "    .dataframe tbody tr th:only-of-type {\n",
       "        vertical-align: middle;\n",
       "    }\n",
       "\n",
       "    .dataframe tbody tr th {\n",
       "        vertical-align: top;\n",
       "    }\n",
       "\n",
       "    .dataframe thead th {\n",
       "        text-align: right;\n",
       "    }\n",
       "</style>\n",
       "<table border=\"1\" class=\"dataframe\">\n",
       "  <thead>\n",
       "    <tr style=\"text-align: right;\">\n",
       "      <th></th>\n",
       "      <th>Name</th>\n",
       "      <th>Standing</th>\n",
       "      <th>Return Rating</th>\n",
       "      <th>% 1st Serve Return Points W</th>\n",
       "      <th>% 2nd Serve Return Points W</th>\n",
       "      <th>% Return Games Won</th>\n",
       "      <th>% Break Points Converted</th>\n",
       "    </tr>\n",
       "  </thead>\n",
       "  <tbody>\n",
       "    <tr>\n",
       "      <th>0</th>\n",
       "      <td>Daniil Medvedev</td>\n",
       "      <td>1</td>\n",
       "      <td>166.1</td>\n",
       "      <td>33.6</td>\n",
       "      <td>54.2</td>\n",
       "      <td>31.3</td>\n",
       "      <td>47.0</td>\n",
       "    </tr>\n",
       "    <tr>\n",
       "      <th>1</th>\n",
       "      <td>Carlos Alcaraz</td>\n",
       "      <td>2</td>\n",
       "      <td>162.0</td>\n",
       "      <td>35.5</td>\n",
       "      <td>53.8</td>\n",
       "      <td>32.2</td>\n",
       "      <td>40.5</td>\n",
       "    </tr>\n",
       "    <tr>\n",
       "      <th>2</th>\n",
       "      <td>Jannik Sinner</td>\n",
       "      <td>3</td>\n",
       "      <td>160.8</td>\n",
       "      <td>33.1</td>\n",
       "      <td>54.9</td>\n",
       "      <td>29.9</td>\n",
       "      <td>42.9</td>\n",
       "    </tr>\n",
       "    <tr>\n",
       "      <th>3</th>\n",
       "      <td>Novak Djokovic</td>\n",
       "      <td>4</td>\n",
       "      <td>159.1</td>\n",
       "      <td>33.4</td>\n",
       "      <td>54.8</td>\n",
       "      <td>29.2</td>\n",
       "      <td>41.7</td>\n",
       "    </tr>\n",
       "    <tr>\n",
       "      <th>4</th>\n",
       "      <td>Alex de Minaur</td>\n",
       "      <td>5</td>\n",
       "      <td>157.7</td>\n",
       "      <td>33.5</td>\n",
       "      <td>52.1</td>\n",
       "      <td>29.3</td>\n",
       "      <td>42.8</td>\n",
       "    </tr>\n",
       "    <tr>\n",
       "      <th>...</th>\n",
       "      <td>...</td>\n",
       "      <td>...</td>\n",
       "      <td>...</td>\n",
       "      <td>...</td>\n",
       "      <td>...</td>\n",
       "      <td>...</td>\n",
       "      <td>...</td>\n",
       "    </tr>\n",
       "    <tr>\n",
       "      <th>75</th>\n",
       "      <td>Quentin Halys</td>\n",
       "      <td>76</td>\n",
       "      <td>121.0</td>\n",
       "      <td>25.1</td>\n",
       "      <td>44.5</td>\n",
       "      <td>14.8</td>\n",
       "      <td>36.6</td>\n",
       "    </tr>\n",
       "    <tr>\n",
       "      <th>76</th>\n",
       "      <td>Brandon Nakashima</td>\n",
       "      <td>77</td>\n",
       "      <td>118.1</td>\n",
       "      <td>27.1</td>\n",
       "      <td>45.7</td>\n",
       "      <td>14.8</td>\n",
       "      <td>30.5</td>\n",
       "    </tr>\n",
       "    <tr>\n",
       "      <th>77</th>\n",
       "      <td>Alexei Popyrin</td>\n",
       "      <td>78</td>\n",
       "      <td>117.1</td>\n",
       "      <td>25.7</td>\n",
       "      <td>45.6</td>\n",
       "      <td>14.4</td>\n",
       "      <td>31.4</td>\n",
       "    </tr>\n",
       "    <tr>\n",
       "      <th>78</th>\n",
       "      <td>Christopher Eubanks</td>\n",
       "      <td>79</td>\n",
       "      <td>116.6</td>\n",
       "      <td>22.5</td>\n",
       "      <td>45.6</td>\n",
       "      <td>13.0</td>\n",
       "      <td>35.5</td>\n",
       "    </tr>\n",
       "    <tr>\n",
       "      <th>79</th>\n",
       "      <td>Maxime Cressy</td>\n",
       "      <td>80</td>\n",
       "      <td>102.0</td>\n",
       "      <td>22.0</td>\n",
       "      <td>38.5</td>\n",
       "      <td>9.0</td>\n",
       "      <td>32.5</td>\n",
       "    </tr>\n",
       "  </tbody>\n",
       "</table>\n",
       "<p>80 rows × 7 columns</p>\n",
       "</div>"
      ],
      "text/plain": [
       "                   Name Standing Return Rating % 1st Serve Return Points W  \\\n",
       "0       Daniil Medvedev        1         166.1                        33.6   \n",
       "1        Carlos Alcaraz        2         162.0                        35.5   \n",
       "2         Jannik Sinner        3         160.8                        33.1   \n",
       "3        Novak Djokovic        4         159.1                        33.4   \n",
       "4        Alex de Minaur        5         157.7                        33.5   \n",
       "..                  ...      ...           ...                         ...   \n",
       "75        Quentin Halys       76         121.0                        25.1   \n",
       "76    Brandon Nakashima       77         118.1                        27.1   \n",
       "77       Alexei Popyrin       78         117.1                        25.7   \n",
       "78  Christopher Eubanks       79         116.6                        22.5   \n",
       "79        Maxime Cressy       80         102.0                        22.0   \n",
       "\n",
       "   % 2nd Serve Return Points W % Return Games Won % Break Points Converted  \n",
       "0                         54.2               31.3                     47.0  \n",
       "1                         53.8               32.2                     40.5  \n",
       "2                         54.9               29.9                     42.9  \n",
       "3                         54.8               29.2                     41.7  \n",
       "4                         52.1               29.3                     42.8  \n",
       "..                         ...                ...                      ...  \n",
       "75                        44.5               14.8                     36.6  \n",
       "76                        45.7               14.8                     30.5  \n",
       "77                        45.6               14.4                     31.4  \n",
       "78                        45.6               13.0                     35.5  \n",
       "79                        38.5                9.0                     32.5  \n",
       "\n",
       "[80 rows x 7 columns]"
      ]
     },
     "execution_count": 121,
     "metadata": {},
     "output_type": "execute_result"
    }
   ],
   "source": [
    "y = GetInfo(0)\n",
    "return_df = pd.DataFrame(y, index = [0])\n",
    "for x in range(len(r))[1:]:\n",
    "    record = pd.Series(GetInfo(x))\n",
    "    return_df = pd.concat([return_df, record.to_frame().T], ignore_index = True)\n",
    "\n",
    "return_df"
   ]
  },
  {
   "cell_type": "markdown",
   "id": "dc03af83",
   "metadata": {},
   "source": [
    "This cell is just converting the df to a csv that will appear in the GitHub to make working with it easier."
   ]
  },
  {
   "cell_type": "code",
   "execution_count": 114,
   "id": "ec236ca3",
   "metadata": {},
   "outputs": [],
   "source": [
    "return_df.to_csv('serve_return.csv')\n"
   ]
  }
 ],
 "metadata": {
  "kernelspec": {
   "display_name": "Python 3 (ipykernel)",
   "language": "python",
   "name": "python3"
  },
  "language_info": {
   "codemirror_mode": {
    "name": "ipython",
    "version": 3
   },
   "file_extension": ".py",
   "mimetype": "text/x-python",
   "name": "python",
   "nbconvert_exporter": "python",
   "pygments_lexer": "ipython3",
   "version": "3.11.5"
  }
 },
 "nbformat": 4,
 "nbformat_minor": 5
}
